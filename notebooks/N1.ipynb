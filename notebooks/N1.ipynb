{
 "cells": [
  {
   "cell_type": "markdown",
   "metadata": {},
   "source": [
    "# Overview of basic programming concepts"
   ]
  },
  {
   "cell_type": "markdown",
   "metadata": {},
   "source": [
    "## Before we start"
   ]
  },
  {
   "cell_type": "markdown",
   "metadata": {},
   "source": [
    "The notebook at the end of the day is just a list of cells (chunks) with either text or executable code and its output. To enter the input mode and type in code or text into a cell you need to simply click on the cell. However, you do not need to use the mouse. There are quite a few extremely useful shortcuts that allow navigating through the document using almost only the keyboard (you will learn fast that it is what you want to do most of the time). \n",
    "\n",
    "First, you need to remember that there are two modes: `input` and `navigate` mode. While the former is quite obvious because it is used to type, the latter allows moving between cells. In the navigate mode, you can move between cells using arrow keys. To enter the input mode press `enter`, and you will be able to type in something. On the other hand, you can leave the input mode without executing the cell by simply pressing `esc`.\n",
    "\n",
    "However, before entering the cell it is good to know what you will write inside, whether it will be code or text. Therefore, press `m` to write plain text and `y` to write the code (obviously you need to be in the navigate mode otherwise you will just type either m or r). The default input is code.\n",
    "\n",
    "To execute the cell press `shift + enter` or `ctrl + enter`. The difference between these two shortcuts is subtle. The former executes the code and moves to the next cell in the navigate mode, and the latter executes the code while staying in the same cell in the navigation mode. Bellow, there are a few useful tips on how to use Jupyter Notebook effectively:\n",
    "- use arrows `up` and `down` to navigate\n",
    "- use `enter` to enter the input mode\n",
    "- use `esc` to leave the input mode\n",
    "- use `m` when in the navigation mode to change the cell to text cell\n",
    "- use `y` when in the navigation mode to change the cell to code cell\n",
    "- use `a` when in the navigation mode to add a cell above the current cell\n",
    "- use `b` when in the navigation mode to add a cell below the current cell\n",
    "- use `c` when in the navigation mode to copy the current cell\n",
    "- use `v` when in the navigation mode to paste the cell below the current cell\n",
    "- press `dd` (double d) when in the navigation mode to delete the current cell."
   ]
  },
  {
   "cell_type": "markdown",
   "metadata": {},
   "source": [
    "## More Resources\n",
    "\n",
    "More resources and tutorials can be found on Google Colab's [main page](https://colab.research.google.com/notebooks/welcome.ipynb)."
   ]
  },
  {
   "cell_type": "markdown",
   "metadata": {},
   "source": [
    "## Loading notebooks directly from Github\n",
    "\n",
    "This is a useful thing and we will use it in the class. Here are some [instructions](https://colab.research.google.com/github/googlecolab/colabtools/blob/master/notebooks/colab-github-demo.ipynb#scrollTo=K-NVg7RjyeTk). Fear not if you do not understand! It will become clear and obvious soon enough and I will provide you with exact instructions/links every time anyway."
   ]
  },
  {
   "cell_type": "markdown",
   "metadata": {},
   "source": [
    "# Basic programming concepts (in Python3)"
   ]
  },
  {
   "cell_type": "markdown",
   "metadata": {},
   "source": [
    "In a nutshell (and simplifying a bit) programming is an art of communicating with a machine that is super efficient in performing simple logical and arithmetical operations as well as storing the results but beyond that, it is extremely dumb (for amusement check out [this](https://www.youtube.com/watch?v=FN2RM-CHkuI) video what would happen if people followed the instructions as computers do). Hence, it is crucial to be **perfectly** explicit. Otherwise, the machine will not understand, or even worse, misunderstand our intentions without telling us, which may lead to results that are seemingly ok but inherently wrong.\n",
    "\n",
    "### Algorithms\n",
    "\n",
    "Therefore, when we are trying to communicate with a computer we use instructions that it can understand. In computer science and maths, they are usually called algorithms. They describe a set of computations that when executed on a set of inputs will proceed through a sequence of well-defined states and eventually produce an output. You can think of an algorithm like a recipe from [Jamie's Oliver cookbook](https://www.jamieoliver.com/features/how-to-cook-pasta-in-6-easy-steps/):\n",
    "\n",
    "1. Fill a large saucepan with water, put the lid on, and bring to a boil over high heat.\n",
    "2. Add a good pinch of sea salt.\n",
    "3. Once the water is boiling, stir in the pasta.\n",
    "4. Cook the pasta according to the packet instructions. To tell if your pasta is cooked, try a piece about a minute or so before the end of the cooking time. It’s ready when it’s soft enough to eat, but still has a bit of bite. The Italians say ‘al dente’.\n",
    "5. Scoop out a mugful of the starchy cooking water and set it aside. This will help emulsify the pasta sauce.\n",
    "6. Drain the pasta in a colander over the sink. Now it’s ready to toss through your favorite sauce -- it’s best to do this in the pan, adding splashes of cooking water and mixing as you go until your sauce coats the pasta and is a perfect consistency.\n",
    "\n",
    "Or more in the mathematical way like Heron of Alexandria who allegedly was the first to document a way to compute the square root of a number:\n",
    "\n",
    "1. Start with a guess, $g$.\n",
    "2. If $g\\times g$ is close enough to $x$, stop and say that $g$ is the answer.\n",
    "3. Otherwise create a new guess by averaging $g$ and $x/g$, i.e. $\\frac{(g + x/g)}{2}$.\n",
    "4. Using this new guess, which we again call $g$, repeat the process until $g \\times g$ is close enough to $x$.\n",
    "\n",
    "### Python\n",
    "\n",
    "In general, there is no such concept as the best programming language because if you can do something in one programming language you can do it also in another (all modern programming languages are [Turing complete](https://en.wikipedia.org/wiki/Turing_completeness). However, different languages are better or worse for different kinds of applications. You have already learned a bit of _R_ and it is perfect for statistics analysis. I would also say it is good for data wrangling and data manipulation on a small scale but I would not recommend it for big data or any of the purposes I mentioned before. Similarly, neither _R_ nor _Python_  is very good for websites creation. It is doable but there are better languages for that.\n",
    "\n",
    "Python, likewise every other programming language, has a set of primitive constructs, syntax, static semantics, and semantics. Therefore, in this regards it is similar to natural languages, e.g. in English the primitive constructs are words, the syntax describes which strings of words constitute well-formed sentences, the static semantics defines which sentences are meaningful, and the semantics defines the meaning of those sentences.\n",
    "\n",
    "So, typically in English, when you want to form a sentence you can not really throw five nouns like: [Person, Woman, Man, Camera, TV](https://youtu.be/tRjGHHYe9nA?t=24). To create a syntactically valid sentence you need to have some other parts of speech than just nouns. In Python it is similar. The sentence of primitives $3.2 + 3.2$ is correct but $3.2\\ 3.2$ is not.\n",
    "\n",
    "The static semantics defines which syntactically valid strings have a meaning. For example, in English, you can not just write 'I runs 5km every day'. It is incorrect (check in Grammarly if you do not believe me). Although syntactically everything works in terms of regular verbs declination there is an issue here.\n",
    "\n",
    "The semantics of a language associates a meaning with each syntactically correct string of symbols that has no static semantic errors. In other words, what action the program should perform. In programming languages, each correct sentence (program) has exactly one meaning, unlike in natural languages.\n",
    "\n",
    "### Errors\n",
    "\n",
    "Syntax errors are the most common. You should be prepared for getting a lot of them. It is going to be a bit frustrating but soon enough you will learn first how to read error messages and second how to avoid syntax errors. The more dangerous and harder to avoid are semantic errors. That is because _Python_ like any other programming language can not read in your mind. If there are no syntax and static semantic errors the program has a meaning. However, sometimes the meaning of the program is different than you would expect because you made a mistake in designing it.\n"
   ]
  },
  {
   "cell_type": "markdown",
   "metadata": {},
   "source": [
    "### Arithmetic operators"
   ]
  },
  {
   "cell_type": "markdown",
   "metadata": {},
   "source": [
    "In general, in programming languages, we have two types of objects: scalars and non-scalars. The difference is quite simple. The former are indivisible while the latter has an internal structure. For now, it might sound a bit cryptic but soon it will become clearer. Let's first focus on scalars. In _Python_ we have four types of scalars:\n",
    "\n",
    "* `int` -- represent integers, e.g. `-3` or `10002`.\n",
    "* `float` -- represent real numbers. However, they always include the decimal point, e.g. `3.0`. It is also possible to write them in scientific notation, e.g. `1.6E10`.\n",
    "* `bool` -- represent boolean values, either `True` or `False`. NOTE: the spelling is different than in _R_.\n",
    "* `None` -- it has a single value and it represents missing data.\n",
    "\n",
    "For starters, we will consider the computer just a big, fat calculator. Thus, we will start by introducing ourselves to basic arithmetic operations."
   ]
  },
  {
   "cell_type": "code",
   "execution_count": null,
   "metadata": {},
   "outputs": [],
   "source": [
    "## Addition\n",
    "3 + 7"
   ]
  },
  {
   "cell_type": "code",
   "execution_count": null,
   "metadata": {},
   "outputs": [],
   "source": [
    "## Subtraction\n",
    "10 - 7"
   ]
  },
  {
   "cell_type": "code",
   "execution_count": null,
   "metadata": {},
   "outputs": [],
   "source": [
    "## Multiplication\n",
    "10 * 11"
   ]
  },
  {
   "cell_type": "code",
   "execution_count": null,
   "metadata": {},
   "outputs": [],
   "source": [
    "## Division\n",
    "7 / 3"
   ]
  },
  {
   "cell_type": "markdown",
   "metadata": {},
   "source": [
    "Let us now note that something important has just happened. What is it? Any ideas?\n",
    "\n",
    "We used two integers and as a result, we got a float (a floating-point number). Although it is not a big surprise (at least it should not be if you graduated from high school) but it is important to realize that division will produce an output of a float type. Always.\n",
    "\n",
    "The second, important observation is that the result is an approximation. The correct result should be $2\\frac{1}{3}$ not $2.3333333333333335$. That is because of how _Python_ and other programming languages represent floating-point numbers. Under the hood, they are written as base 2 (binary) fractions. It means that for example $.125$ is represented by $\\frac{0}{2} + \\frac{0}{4} + \\frac{1}{8}$. In the case of $\\frac{1}{3}$, it is impossible to find a base 2 fraction that would represent it precisely. What is more, it is impossible to write in base 2 fractions $.1$ precisely. The closest approximation is $\\frac{3602879701896397}{2^{55}}$ which equals to $.1000000000000000055511151231257827021181583404541015625$. This problem is known in all modern programming languages as [Represenation problem](https://docs.python.org/3/tutorial/floatingpoint.html). However, unless we want to perform very very precise calculations we should not be bothered about it. Moreover, there are ways in _Python_ to perform more precise calculations but we will not need them here.\n",
    "\n",
    "Instead, let us also note another 'weird' behavior of division."
   ]
  },
  {
   "cell_type": "code",
   "execution_count": null,
   "metadata": {},
   "outputs": [],
   "source": [
    "7 / 0 "
   ]
  },
  {
   "cell_type": "markdown",
   "metadata": {},
   "source": [
    "What happened? We just did something illegal in mathematics. And Python does not like it and will not allow it, so it \"threw an error\".\n",
    "\n",
    "Something like this will happen always when we do something illegal from the vantage point of the programming language and/or software libraries we are using.\n",
    "\n",
    "Notice that Python is kind enough to be quite explicit and tells us what happened that made it angry. A message like this is called a traceback. It shows the error but also tries to pinpoint exactly the place in the code where the error happened. The one we see here is very simple, but in real-world settings, tracebacks can be quite complicated and intimidating at first. However, the best way to approach them is just to be calm and read carefully through them.\n",
    "\n",
    "We will see some more advanced examples later on."
   ]
  },
  {
   "cell_type": "markdown",
   "metadata": {},
   "source": [
    "---"
   ]
  },
  {
   "cell_type": "markdown",
   "metadata": {},
   "source": [
    "It is also possible to compute powers and roots in _Python_."
   ]
  },
  {
   "cell_type": "code",
   "execution_count": null,
   "metadata": {},
   "outputs": [],
   "source": [
    "## Raising to a power\n",
    "2**4"
   ]
  },
  {
   "cell_type": "code",
   "execution_count": null,
   "metadata": {},
   "outputs": [],
   "source": [
    "## Square root\n",
    "4**(1/2)"
   ]
  },
  {
   "cell_type": "markdown",
   "metadata": {},
   "source": [
    "In general `**` operator allows performing raising to any arbitrary power including fractional powers (roots) which is legal in mathematics. This may sometimes lead us to weird places..."
   ]
  },
  {
   "cell_type": "code",
   "execution_count": null,
   "metadata": {},
   "outputs": [],
   "source": [
    "(-4)**.5"
   ]
  },
  {
   "cell_type": "markdown",
   "metadata": {},
   "source": [
    "There are also some more esoteric arithmetic operators."
   ]
  },
  {
   "cell_type": "code",
   "execution_count": null,
   "metadata": {},
   "outputs": [],
   "source": [
    "## Integer division\n",
    "13 // 4"
   ]
  },
  {
   "cell_type": "code",
   "execution_count": null,
   "metadata": {},
   "outputs": [],
   "source": [
    "## Modulo / modulus operator (division remainder)\n",
    "13 % 4"
   ]
  },
  {
   "cell_type": "markdown",
   "metadata": {},
   "source": [
    "Complex expressions are read from left to right and the standard prevalence of operations we know from school is used. We can also use round braces to modify the order of operations."
   ]
  },
  {
   "cell_type": "code",
   "execution_count": null,
   "metadata": {},
   "outputs": [],
   "source": [
    "2*3 + 4    ## 10"
   ]
  },
  {
   "cell_type": "code",
   "execution_count": null,
   "metadata": {},
   "outputs": [],
   "source": [
    "2*(3 + 4)  ## 14"
   ]
  },
  {
   "cell_type": "markdown",
   "metadata": {},
   "source": [
    "Of course, we can also compare two values, which brings us to the realm of logical operators."
   ]
  },
  {
   "cell_type": "code",
   "execution_count": null,
   "metadata": {},
   "outputs": [],
   "source": [
    "## Note that we use a double 'equal' sign\n",
    "2 + 2 == 5"
   ]
  },
  {
   "cell_type": "code",
   "execution_count": null,
   "metadata": {},
   "outputs": [],
   "source": [
    "2 + 2 == 4"
   ]
  },
  {
   "cell_type": "code",
   "execution_count": null,
   "metadata": {},
   "outputs": [],
   "source": [
    "2 + 2 == 5"
   ]
  },
  {
   "cell_type": "markdown",
   "metadata": {},
   "source": [
    "### Logical operators"
   ]
  },
  {
   "cell_type": "markdown",
   "metadata": {},
   "source": [
    "There are (of course) two basic, primitive logical values: `True` and `False`."
   ]
  },
  {
   "cell_type": "code",
   "execution_count": null,
   "metadata": {},
   "outputs": [],
   "source": [
    "True"
   ]
  },
  {
   "cell_type": "code",
   "execution_count": null,
   "metadata": {},
   "outputs": [],
   "source": [
    "False"
   ]
  },
  {
   "cell_type": "markdown",
   "metadata": {},
   "source": [
    "And using them we can express arbitrary logical operations."
   ]
  },
  {
   "cell_type": "code",
   "execution_count": null,
   "metadata": {},
   "outputs": [],
   "source": [
    "## QUESTION: what are the results of the following operations?\n",
    "\n",
    "## Unary operator: negation\n",
    "not True"
   ]
  },
  {
   "cell_type": "code",
   "execution_count": null,
   "metadata": {},
   "outputs": [],
   "source": [
    "not False"
   ]
  },
  {
   "cell_type": "code",
   "execution_count": null,
   "metadata": {},
   "outputs": [],
   "source": [
    "## Binary operators: \n",
    "## conjunction (logical and)\n",
    "True and True"
   ]
  },
  {
   "cell_type": "code",
   "execution_count": null,
   "metadata": {},
   "outputs": [],
   "source": [
    "True and False"
   ]
  },
  {
   "cell_type": "code",
   "execution_count": null,
   "metadata": {},
   "outputs": [],
   "source": [
    "False and True"
   ]
  },
  {
   "cell_type": "code",
   "execution_count": null,
   "metadata": {},
   "outputs": [],
   "source": [
    "False and False"
   ]
  },
  {
   "cell_type": "code",
   "execution_count": null,
   "metadata": {},
   "outputs": [],
   "source": [
    "## Disjunction (logical or)\n",
    "True or True"
   ]
  },
  {
   "cell_type": "code",
   "execution_count": null,
   "metadata": {},
   "outputs": [],
   "source": [
    "True or False"
   ]
  },
  {
   "cell_type": "code",
   "execution_count": null,
   "metadata": {},
   "outputs": [],
   "source": [
    "False or True"
   ]
  },
  {
   "cell_type": "code",
   "execution_count": null,
   "metadata": {},
   "outputs": [],
   "source": [
    "False or False"
   ]
  },
  {
   "cell_type": "markdown",
   "metadata": {},
   "source": [
    "So far so good, but what about other basic binary operators we know (right?) from our logic classes?\n",
    "\n",
    "Usually there are at least two more:\n",
    "\n",
    "* Implication: $p \\Rightarrow q$\n",
    "* Equivalence: $p \\Leftrightarrow q$\n",
    "\n",
    "\n",
    "This is a good moment to briefly introduce the concept of variables (we will talk more about it soon).\n",
    "What we would like to do now, is to assign logical values (`True` or `False`) to two variables (`p` and `q`) and build logical expressions using only the operators we introduced so far representing implication and equivalence."
   ]
  },
  {
   "cell_type": "code",
   "execution_count": null,
   "metadata": {},
   "outputs": [],
   "source": [
    "## Assigning values to names (variables)\n",
    "p = True\n",
    "q = True\n",
    "## Note that we use a single 'equal' sign to assign to variables\n",
    "## Double 'equal' is used for comparisons"
   ]
  },
  {
   "cell_type": "code",
   "execution_count": null,
   "metadata": {},
   "outputs": [],
   "source": [
    "## NOTE: variables defined in one chunk can be accessed in another one\n",
    "p"
   ]
  },
  {
   "cell_type": "code",
   "execution_count": null,
   "metadata": {},
   "outputs": [],
   "source": [
    "## EXCERCISE: define implication\n",
    "## IMPLICATION: The truth table\n",
    "# p | q | p => q\n",
    "# 1 | 1 |   1\n",
    "# 1 | 0 |   0\n",
    "# 0 | 1 |   1\n",
    "# 0 | 0 |   1\n",
    "\n",
    "not p or q"
   ]
  },
  {
   "cell_type": "code",
   "execution_count": null,
   "metadata": {},
   "outputs": [],
   "source": [
    "## EXCERCISE: define equivalence\n",
    "## EQUIVALENCE: The truth table\n",
    "# p | q | p <=> q\n",
    "# 1 | 1 |    1\n",
    "# 0 | 1 |    0\n",
    "# 1 | 0 |    0\n",
    "# 0 | 0 |    1\n",
    "(p and q) or (not p and not q)"
   ]
  },
  {
   "cell_type": "markdown",
   "metadata": {},
   "source": [
    "Sometimes people use also so `XOR` operator, which is exclusive or. Can you implement it in Python with basic logical operators?"
   ]
  },
  {
   "cell_type": "code",
   "execution_count": null,
   "metadata": {},
   "outputs": [],
   "source": [
    "## EXCERCISE: define XOR\n",
    "## XOR: The truth table\n",
    "# p | q | p XOR q\n",
    "# 1 | 1 |  0\n",
    "# 1 | 0 |  1\n",
    "# 0 | 1 |  1\n",
    "# 0 | 0 |  0\n",
    "\n",
    "(p and not q) or (not p and q)"
   ]
  },
  {
   "cell_type": "markdown",
   "metadata": {},
   "source": [
    "### Strings"
   ]
  },
  {
   "cell_type": "markdown",
   "metadata": {},
   "source": [
    "We have already seen quite a few different types of values, namely integers (whole numbers), floating-point (real) numbers, and logical values. However, it would be nice if we could write something and compute on textual values, right? Fortunately, we can."
   ]
  },
  {
   "cell_type": "code",
   "execution_count": null,
   "metadata": {},
   "outputs": [],
   "source": [
    "\"Bob and Alice are two generic persons.\""
   ]
  },
  {
   "cell_type": "markdown",
   "metadata": {},
   "source": [
    "The thing above is a so-called **string** (abbreviated as `str` in _Python_). NOTE: `str` in _Python_ is not the same as `chr` in _R_. That is because they are divisible. We will see it in a bit."
   ]
  },
  {
   "cell_type": "markdown",
   "metadata": {},
   "source": [
    "Summing up we have the following primitive types in _Python_ (sorted by generality):\n",
    "\n",
    "1. Logical values (or booleans; called `bool` in _Python_)\n",
    "2. Integers (called `int` in _Python_)\n",
    "3. Floating-point numbers (called `float` in _Python_)\n",
    "4. Strings (called `str` in _Python_)"
   ]
  },
  {
   "cell_type": "markdown",
   "metadata": {},
   "source": [
    "We have already seen that we have quite a lot of different operators that allow us to compute numbers and booleans. It turns out that we have also some basic operators for computing on strings."
   ]
  },
  {
   "cell_type": "code",
   "execution_count": null,
   "metadata": {},
   "outputs": [],
   "source": [
    "s1 = \"Text\"\n",
    "s2 = \"More text\""
   ]
  },
  {
   "cell_type": "code",
   "execution_count": null,
   "metadata": {},
   "outputs": [],
   "source": [
    "## Adding two strings concatenates them\n",
    "s1 + s2"
   ]
  },
  {
   "cell_type": "code",
   "execution_count": null,
   "metadata": {},
   "outputs": [],
   "source": [
    "## Multiplying a string by an integer repeats it n times\n",
    "s1*4"
   ]
  },
  {
   "cell_type": "code",
   "execution_count": null,
   "metadata": {},
   "outputs": [],
   "source": [
    "## Does it always make sense to multiply a string?\n",
    "s1 * 2.5"
   ]
  },
  {
   "cell_type": "code",
   "execution_count": null,
   "metadata": {},
   "outputs": [],
   "source": [
    "## We can also ask for the length of a string (number of individual characters)\n",
    "len(s1)"
   ]
  },
  {
   "cell_type": "markdown",
   "metadata": {},
   "source": [
    "There are many more tricks you can do with strings, but we will not go further into that for now."
   ]
  }
 ],
 "metadata": {
  "kernelspec": {
   "display_name": "Python 3",
   "language": "python",
   "name": "python3"
  },
  "language_info": {
   "codemirror_mode": {
    "name": "ipython",
    "version": 3
   },
   "file_extension": ".py",
   "mimetype": "text/x-python",
   "name": "python",
   "nbconvert_exporter": "python",
   "pygments_lexer": "ipython3",
   "version": "3.9.7"
  }
 },
 "nbformat": 4,
 "nbformat_minor": 4
}
