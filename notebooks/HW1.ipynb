{
 "cells": [
  {
   "cell_type": "markdown",
   "metadata": {},
   "source": [
    "# Homework (deadline 5.05.2022 11:59:59)\n",
    "Write solutions for the homework exercises in this notebook. Once the work is done download the notebook file (`File > Download .ipynb`) rename it properly so it follows a template `HW1_<SURNAME>_<NAME>.ipynb` and send the file to me. My email address is as follows: \n",
    "\n",
    "* <m.biesaga@uw.edu.pl>\n",
    "\n",
    "Remember that you can contact me via email if you have any problems. Moreover, you can also visit me in the ISS on the fourth floor (room 415). Usually, I am there from 11ish but please let me know in advance if you are coming because I might be busy. "
   ]
  },
  {
   "cell_type": "markdown",
   "metadata": {},
   "source": [
    "## Task 1. (2 points)\n",
    "\n",
    "**Exclusive or** (exclusive disjunction) is a logical operation that is true only when its arguments differ. Therefore, its truth table looks as follows:\n",
    "\n",
    "p | q | XOR\n",
    "--|---|-----|\n",
    "0 | 0 | False\n",
    "0 | 1 | True\n",
    "1 | 0 | True\n",
    "1 | 1 | False\n",
    "\n",
    "Define XOR for `p` and `q`. Prove it works for all four cases."
   ]
  },
  {
   "cell_type": "code",
   "execution_count": null,
   "metadata": {},
   "outputs": [],
   "source": [
    "## Your solution\n",
    "p = True\n",
    "q = False\n",
    "print((p and not q) or (not p and q))\n",
    "p = True\n",
    "q = True\n",
    "print((p and not q) or (not p and q))\n",
    "p = False\n",
    "q = False\n",
    "print((p and not q) or (not p and q))\n",
    "p = False\n",
    "q = True\n",
    "print((p and not q) or (not p and q))"
   ]
  },
  {
   "cell_type": "markdown",
   "metadata": {},
   "source": [
    "## Task 2. (3 points)\n",
    "\n",
    "Replace the comment with a `while-loop`. The code should print the letter X `num_x` times, where `num_x` is the number given by the user. _Hint_: What is the range of integers?"
   ]
  },
  {
   "cell_type": "code",
   "execution_count": null,
   "metadata": {},
   "outputs": [],
   "source": [
    "num_x = int(input('How many times should I print the letter X? '))\n",
    "to_print = ('')\n",
    "while len(to_print) < num_x:\n",
    "    to_print += 'X'\n",
    "print(to_print)"
   ]
  },
  {
   "cell_type": "code",
   "execution_count": null,
   "metadata": {},
   "outputs": [],
   "source": [
    "num_x = -3\n",
    "prompt = 'How many times should I print the letter X? '\n",
    "while num_x < 0:\n",
    "        num_x = int(input(prompt))\n",
    "        if num_x < 0:\n",
    "                prompt = 'How am I supposed to print a negative number of Xs? Please try again with a number from 0 to Inf.'\n",
    "                \n",
    "to_print = ''\n",
    "num_iterations = 0\n",
    "while num_iterations < num_x:\n",
    "        to_print += 'X'\n",
    "        num_iterations += 1\n",
    "print(to_print, '\\nAnd the number of Xs I printed is:', len(to_print))"
   ]
  },
  {
   "cell_type": "markdown",
   "metadata": {},
   "source": [
    "## Task 3. (5 points)\n",
    "\n",
    "This is a very difficult task and you have two ways of solving it to get the maximum number of points. You can either find the solution online or follow the wrong algorithm down below.\n",
    "\n",
    "1. If you pick `the StackOverflow option` there are plenty of solutions out there. However, you will score only 2 points for copying and probably amending a bit the working solution. The rest of the points you would score for explaining how your code works and pointing out reasons why it might not be optimal. The explanation should be written in your own words or you can draw a picture explaining it (obviously in English).\n",
    "\n",
    "2. If you pick `the wrong option` it will return the wrong result. You simply need to follow the algorithm below and write it in _Python_. Next week I will explain why it returns the wrong result.\n",
    "\n",
    "The `StackOverflow` solution should return: `1060` -- before it was `1058` which was incorrect. However, don't worry if you have the solution with `1058` you can still score 5 points if you explain how it works. My mistake was not to include `2`.\n",
    "\n",
    "The `wrong` solution should return: `2499`\n",
    "\n",
    "### Description of the task\n",
    "Write a program that prints the sum of the prime numbers greater than 2 and less than 100. The algorithm of the program is as follows:\n",
    "\n",
    "1. Let's create an object `sum` that at the very beginning is equal to `2`.\n",
    "2. Take the integer `i = 3`.\n",
    "3. Take the integer `j = 2`.\n",
    "4. Divide `i` by `j` and check if the remainder is equal to `0`.\n",
    "\t- if `True` bind the value of `i` to `j`\n",
    "5. Increment `j` and return to point 4 if `j < i`.\n",
    "6. Check if `j` is not equal `i`\n",
    "\t- if `True` add i to sum\n",
    "7. Increment `i` and return to point if `i < 100`.\n",
    "8. Print `sum`\n",
    "\n",
    "_Hint_: you probably want to use a `for-loop` that is a primality test nested inside a `for-loop` that iterates over the odd integers between 3 and 99."
   ]
  },
  {
   "cell_type": "markdown",
   "metadata": {},
   "source": [
    "## `StackOverflow` style solutions"
   ]
  },
  {
   "cell_type": "code",
   "execution_count": null,
   "metadata": {},
   "outputs": [],
   "source": [
    "## Your solution to return 1060\n",
    "sum = 2 ## First I initialize the sum variable with 2 because I know that 2 is a prime\n",
    "for num in range(3,100,2): ## I create this for loop that goes through all odd numbers from 3 to 100\n",
    "\tfor div in range(2, num):  ## For every single num, I go through all numbers smaller than num and bigger than 2\n",
    "\t\tif num % div == 0: ## For each div, I check whether it is a divisor of num\n",
    "\t\t\tdiv = num ## If it is, it assignes the value of num to div \n",
    "\t\t\tbreak; ## And breaks the inner for-loop\n",
    "\tif div is not num: ## Now I check if div is not equal to num. If num is a prime div should be equal to num -1, therefore this should be True\n",
    "\t\tsum += num ## Here, I just add the value of num to sum variable if the num is a prime\n",
    "print(sum)"
   ]
  },
  {
   "cell_type": "code",
   "execution_count": null,
   "metadata": {},
   "outputs": [],
   "source": [
    "## Your solution to return 1058\n",
    "sum = 2 ## First I initialize the sum variable with 2 because I know that 2 is a prime\n",
    "for num in range(3,100,2): ## I create this for loop that goes through all odd numbers from 3 to 100\n",
    "\tfor div in range(2, num):  ## For every single num, I go through all numbers smaller than num and bigger than 2\n",
    "\t\tif num % div == 0: ## For each div, I check whether it is a divisor of num\n",
    "\t\t\tdiv = num ## If it is, it assignes the value of num to div \n",
    "\t\t\tbreak; ## And breaks the inner for-loop\n",
    "\tif div is not num: ## Now I check if div is not equal to num. If num is a prime div should be equal to num -1, therefore this should be True\n",
    "\t\tsum += num ## Here, I just add the value of num to sum variable if the num is a prime\n",
    "print(sum)"
   ]
  },
  {
   "cell_type": "markdown",
   "metadata": {},
   "source": [
    "## `Wrong` solution"
   ]
  },
  {
   "cell_type": "markdown",
   "metadata": {},
   "source": [
    "The idea was to produce almost identical code as for the `StackOverflow` style solution but without `break`."
   ]
  },
  {
   "cell_type": "code",
   "execution_count": null,
   "metadata": {},
   "outputs": [],
   "source": [
    "## Your solution to return 2499\n",
    "sum = 0 ## First I initialize the sum variable with 0 if I initlize it with 2 I will get 2501\n",
    "for num in range(3,100,2): ## I create this for loop that goes through all odd numbers from 3 to 100\n",
    "\tfor div in range(2, num):  ## For every single num, I go through all numbers smaller than num and bigger than 2\n",
    "\t\tif num % div == 0: ## For each div, I check whether it is a divisor of num\n",
    "\t\t\tdiv = num ## If it is, it assignes the value of num to div \n",
    "\t\t\t## break; ## And breaks the inner for-loop\n",
    "\tif div is not num: ## Now I check if div is not equal to num. If num is a prime div should be equal to num -1, therefore this should be True\n",
    "\t\tsum += num ## Here, I just add the value of num to sum variable if the num is a prime\n",
    "print(sum)"
   ]
  }
 ],
 "metadata": {
  "interpreter": {
   "hash": "bc8a0b2585560af3f1d798452673f163e266b8b1719efa57a26b24d73c90742c"
  },
  "kernelspec": {
   "display_name": "Python 3.9.7 ('ppss')",
   "language": "python",
   "name": "python3"
  },
  "language_info": {
   "codemirror_mode": {
    "name": "ipython",
    "version": 3
   },
   "file_extension": ".py",
   "mimetype": "text/x-python",
   "name": "python",
   "nbconvert_exporter": "python",
   "pygments_lexer": "ipython3",
   "version": "3.9.7"
  },
  "orig_nbformat": 4
 },
 "nbformat": 4,
 "nbformat_minor": 2
}
