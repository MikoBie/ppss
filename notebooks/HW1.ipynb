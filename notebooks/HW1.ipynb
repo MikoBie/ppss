{
 "cells": [
  {
   "attachments": {},
   "cell_type": "markdown",
   "metadata": {},
   "source": [
    "# Homework (deadline 29.04.2024 11:59:59)\n",
    "Write solutions for the homework exercises in this notebook. Once the work is done download the notebook file (`File > Download .ipynb`) rename it properly so it follows a template `HW1_<SURNAME>_<NAME>.ipynb` and upload it to the [Google Classroom](https://classroom.google.com/c/NTQxNjE1OTc3MjYw/a/NjAzNTYxNTE2NDg2/details).\n",
    "\n",
    "Remember that you can contact me via email if you have any problems. Moreover, you can also visit me in the ISS on the fourth floor (room 415). Usually, I am there from 11ish but please let me know in advance if you are coming because I might be busy. "
   ]
  },
  {
   "attachments": {},
   "cell_type": "markdown",
   "metadata": {},
   "source": [
    "## Task 1. (2 points)\n",
    "\n",
    "**Exclusive or** (exclusive disjunction) is a logical operation that is true only when its arguments differ. Therefore, its truth table looks as follows:\n",
    "\n",
    "|p | q | XOR\n",
    "|:-:|:-:|:---:|\n",
    "|`False` | `False` | `False` |\n",
    "|`False` | `True` | `True` |\n",
    "|`True` | `False` | `True` |\n",
    "|`True` | `True` | `False` |\n",
    "\n",
    "Define XOR for `p` and `q`. Prove it works for all four cases."
   ]
  },
  {
   "cell_type": "code",
   "execution_count": null,
   "metadata": {},
   "outputs": [],
   "source": [
    "## YOUR SOLUTION"
   ]
  },
  {
   "attachments": {},
   "cell_type": "markdown",
   "metadata": {},
   "source": [
    "## Task 2. (3 points)\n",
    "\n",
    "Replace the comment with a `while-loop`. The code should print the letter X `num_x` times, where `num_x` is the number given by the user."
   ]
  },
  {
   "cell_type": "code",
   "execution_count": null,
   "metadata": {},
   "outputs": [],
   "source": [
    "## YOUR SOLUTION"
   ]
  },
  {
   "attachments": {},
   "cell_type": "markdown",
   "metadata": {},
   "source": [
    "## Task 3. (5 points)\n",
    "\n",
    "This is a ~~very challenging task~~ great opportunity for growth. Mainly, because we have not discussed during the class the statement you should use in the solution. That was on purpose. Your task is to find the solution online (I would recommend `StackOverflow`) and describe it. The former is worth 2 points while the latter 3.\n",
    "\n",
    "### Description of the task\n",
    "\n",
    "Write a program that prints the sum of all prime numbers smaller than 100. "
   ]
  },
  {
   "cell_type": "code",
   "execution_count": null,
   "metadata": {},
   "outputs": [],
   "source": [
    "## YOUR SOLUTION"
   ]
  }
 ],
 "metadata": {
  "interpreter": {
   "hash": "bc8a0b2585560af3f1d798452673f163e266b8b1719efa57a26b24d73c90742c"
  },
  "kernelspec": {
   "display_name": "Python 3.9.7 ('ppss')",
   "language": "python",
   "name": "python3"
  },
  "language_info": {
   "codemirror_mode": {
    "name": "ipython",
    "version": 3
   },
   "file_extension": ".py",
   "mimetype": "text/x-python",
   "name": "python",
   "nbconvert_exporter": "python",
   "pygments_lexer": "ipython3",
   "version": "3.10.4"
  }
 },
 "nbformat": 4,
 "nbformat_minor": 2
}
