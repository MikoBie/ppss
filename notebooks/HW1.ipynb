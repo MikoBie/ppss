{
 "cells": [
  {
   "cell_type": "markdown",
   "metadata": {},
   "source": [
    "# Homework (deadline 5.05.2022 11:59:59)\n",
    "Write solutions for the homework exercises in this notebook. Once the work is done download the notebook file (`File > Download .ipynb`) rename it properly so it follows a template `HW3_<SURNAME>_<NAME>.ipynb` and send the file to me. My email address is as follows: \n",
    "\n",
    "* <m.biesaga@uw.edu.pl>\n",
    "\n",
    "Remember that you can contact me via email if you have any problems. Moreover, you can also visit me in the ISS on the fourth floor (room 415). Usually, I am there from 11ish but please let me know in advance if you are comming cause I might be busy. "
   ]
  },
  {
   "cell_type": "markdown",
   "metadata": {},
   "source": [
    "## Task 1.\n",
    "\n",
    "**Exclusive or** (exclusive disjunction) it is a logical operation that is true only when its arguments differ. Therefore, its turth table looks as follows:\n",
    "\n",
    "p | q | XOR\n",
    "--|---|-----|\n",
    "0 | 0 | False\n",
    "0 | 1 | True\n",
    "1 | 0 | True\n",
    "1 | 1 | False\n",
    "\n",
    "Define XOR for `p` and `q`. Proove it works for all four cases."
   ]
  },
  {
   "cell_type": "code",
   "execution_count": null,
   "metadata": {},
   "outputs": [],
   "source": []
  },
  {
   "cell_type": "markdown",
   "metadata": {},
   "source": [
    "## Taks 2.\n",
    "\n",
    "Write a program that prints the sum of the prime numbers greater than 2 and less than 1000. _Hint_: you probably want to use a `for-loop` that is primality test nested inside a `for-loop` that iterates over the odd integers between 3 and 999."
   ]
  },
  {
   "cell_type": "code",
   "execution_count": null,
   "metadata": {},
   "outputs": [],
   "source": []
  },
  {
   "cell_type": "code",
   "execution_count": 28,
   "metadata": {},
   "outputs": [],
   "source": [
    "sum = 0\n",
    "for i in range(3,1000,2):\n",
    "    for j in range(2,i):\n",
    "        if i%j == 0:\n",
    "            j = i\n",
    "            break\n",
    "    if j is not i:\n",
    "        sum += i\n",
    "            "
   ]
  },
  {
   "cell_type": "code",
   "execution_count": 29,
   "metadata": {},
   "outputs": [
    {
     "data": {
      "text/plain": [
       "76125"
      ]
     },
     "execution_count": 29,
     "metadata": {},
     "output_type": "execute_result"
    }
   ],
   "source": [
    "sum"
   ]
  },
  {
   "cell_type": "code",
   "execution_count": 20,
   "metadata": {},
   "outputs": [
    {
     "name": "stdout",
     "output_type": "stream",
     "text": [
      "Sum of all prime numbers 1 to  100 : 1058\n"
     ]
    }
   ],
   "source": [
    "#takes input from the user\n",
    "max=int(input(\"Enter the maximum value for find sum of primes:\"))\n",
    "sum=0\n",
    "for num in range(2,max+1):\n",
    "    i=2\n",
    "    for i in range(2,num):\n",
    "        if(int(num%i==0)):\n",
    "            i=num\n",
    "            break;\n",
    "        #when the number is prime calculate sum\n",
    "    if i is not num:\n",
    "        sum+=num\n",
    "print(\"Sum of all prime numbers 1 to \",max,\":\",sum)"
   ]
  },
  {
   "cell_type": "code",
   "execution_count": null,
   "metadata": {},
   "outputs": [],
   "source": []
  }
 ],
 "metadata": {
  "interpreter": {
   "hash": "bc8a0b2585560af3f1d798452673f163e266b8b1719efa57a26b24d73c90742c"
  },
  "kernelspec": {
   "display_name": "Python 3.9.7 ('ppss')",
   "language": "python",
   "name": "python3"
  },
  "language_info": {
   "codemirror_mode": {
    "name": "ipython",
    "version": 3
   },
   "file_extension": ".py",
   "mimetype": "text/x-python",
   "name": "python",
   "nbconvert_exporter": "python",
   "pygments_lexer": "ipython3",
   "version": "3.9.7"
  },
  "orig_nbformat": 4
 },
 "nbformat": 4,
 "nbformat_minor": 2
}
