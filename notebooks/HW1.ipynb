{
 "cells": [
  {
   "attachments": {},
   "cell_type": "markdown",
   "metadata": {},
   "source": [
    "# Homework (deadline 5.05.2023 11:59:59)\n",
    "Write solutions for the homework exercises in this notebook. Once the work is done download the notebook file (`File > Download .ipynb`) rename it properly so it follows a template `HW1_<SURNAME>_<NAME>.ipynb` and upload it to the [Google Classroom](https://classroom.google.com/c/NTQxNjE1OTc3MjYw/a/NjAzNTYxNTE2NDg2/details).\n",
    "\n",
    "Remember that you can contact me via email if you have any problems. Moreover, you can also visit me in the ISS on the fourth floor (room 415). Usually, I am there from 11ish but please let me know in advance if you are coming because I might be busy. "
   ]
  },
  {
   "attachments": {},
   "cell_type": "markdown",
   "metadata": {},
   "source": [
    "## Task 1. (2 points)\n",
    "\n",
    "**Exclusive or** (exclusive disjunction) is a logical operation that is true only when its arguments differ. Therefore, its truth table looks as follows:\n",
    "\n",
    "p | q | XOR\n",
    "--|---|-----|\n",
    "0 | 0 | False\n",
    "0 | 1 | True\n",
    "1 | 0 | True\n",
    "1 | 1 | False\n",
    "\n",
    "Define XOR for `p` and `q`. Prove it works for all four cases.\n",
    "\n",
    "**Hint**: If the task was to define implication the correct answer would be `not p or q`."
   ]
  },
  {
   "cell_type": "code",
   "execution_count": null,
   "metadata": {},
   "outputs": [],
   "source": [
    "## Your solution\n",
    "p = True\n",
    "q = False\n",
    "print((p and not q) or (not p and q))\n",
    "p = True\n",
    "q = True\n",
    "print((p and not q) or (not p and q))\n",
    "p = False\n",
    "q = False\n",
    "print((p and not q) or (not p and q))\n",
    "p = False\n",
    "q = True\n",
    "print((p and not q) or (not p and q))"
   ]
  },
  {
   "attachments": {},
   "cell_type": "markdown",
   "metadata": {},
   "source": [
    "## Task 2. (3 points)\n",
    "\n",
    "Replace the comment with a `while-loop`. The code should print the letter X `num_x` times, where `num_x` is the number given by the user. _Hint_: What is the range of integers?"
   ]
  },
  {
   "cell_type": "code",
   "execution_count": null,
   "metadata": {},
   "outputs": [],
   "source": [
    "## YOUR SOLUTION\n",
    "num_x = int(input('How many times should I print the letter X? '))\n",
    "to_print = ('')\n",
    "while len(to_print) < num_x:\n",
    "    to_print += 'X'\n",
    "print(to_print)"
   ]
  },
  {
   "cell_type": "code",
   "execution_count": null,
   "metadata": {},
   "outputs": [],
   "source": [
    "num_x = -3\n",
    "prompt = 'How many times should I print the letter X? '\n",
    "while num_x < 0:\n",
    "        num_x = int(input(prompt))\n",
    "        if num_x < 0:\n",
    "                prompt = 'How am I supposed to print a negative number of Xs? Please try again with a number from 0 to Inf.'\n",
    "                \n",
    "to_print = ''\n",
    "num_iterations = 0\n",
    "while num_iterations < num_x:\n",
    "        to_print += 'X'\n",
    "        num_iterations += 1\n",
    "print(to_print, '\\nAnd the number of Xs I printed is:', len(to_print))"
   ]
  },
  {
   "attachments": {},
   "cell_type": "markdown",
   "metadata": {},
   "source": [
    "## Task 3. (5 points)\n",
    "\n",
    "This is a ~~very challenging task~~ great opportunity for growth. Mainly, because we have not discussed during the class the statement you should use in the solution. That was on purpose. Your task is to find the solution online (I would recommend `StackOverflow`) and describe it. The former is worth 2 points while the latter 3.\n",
    "\n",
    "### Description of the task\n",
    "\n",
    "Write a program that prints the sum of all prime numbers smaller than 100. "
   ]
  },
  {
   "cell_type": "code",
   "execution_count": null,
   "metadata": {},
   "outputs": [],
   "source": [
    "## YOUR SOLUTION\n",
    "## Your solution to return 1060\n",
    "sum = 2 ## First I initialize the sum variable with 2 because I know that 2 is a prime\n",
    "for num in range(3,100,2): ## I create this for loop that goes through all odd numbers from 3 to 100\n",
    "\tfor div in range(2, num):  ## For every single num, I go through all numbers smaller than num and bigger than 2\n",
    "\t\tif num % div == 0: ## For each div, I check whether it is a divisor of num\n",
    "\t\t\tdiv = num ## If it is, it assignes the value of num to div \n",
    "\t\t\tbreak; ## And breaks the inner for-loop\n",
    "\tif div is not num: ## Now I check if div is not equal to num. If num is a prime div should be equal to num -1, therefore this should be True\n",
    "\t\tsum += num ## Here, I just add the value of num to sum variable if the num is a prime\n",
    "print(sum)"
   ]
  }
 ],
 "metadata": {
  "interpreter": {
   "hash": "bc8a0b2585560af3f1d798452673f163e266b8b1719efa57a26b24d73c90742c"
  },
  "kernelspec": {
   "display_name": "Python 3.9.7 ('ppss')",
   "language": "python",
   "name": "python3"
  },
  "language_info": {
   "codemirror_mode": {
    "name": "ipython",
    "version": 3
   },
   "file_extension": ".py",
   "mimetype": "text/x-python",
   "name": "python",
   "nbconvert_exporter": "python",
   "pygments_lexer": "ipython3",
   "version": "3.10.8"
  },
  "orig_nbformat": 4
 },
 "nbformat": 4,
 "nbformat_minor": 2
}
