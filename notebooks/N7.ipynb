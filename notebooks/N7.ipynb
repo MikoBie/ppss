{
 "cells": [
  {
   "cell_type": "markdown",
   "metadata": {},
   "source": [
    "# Files\n",
    "\n",
    "For now, we have been only playing with the data we produced or insert into _Python_ from the keyboard in Colab. This was fun but sometimes we would like to be able to read some data to _Python_ or write it out to a file. Say no more. This is exactly what we are going to do today. However, we are going to focus exclusively on reading and writing out either to or from text files or `JSONS`. We will not talk about tabular data.\n",
    "\n",
    "## Write out the data\n",
    "\n",
    "Let's start with a very simple example. Imagine, that for some strange reason we managed to get our hands on the bio of Margaret Mitchell from [Wikipedia](https://en.wikipedia.org/wiki/Margaret_Mitchell). We will discuss next semester how to do it efficiently and automatically. For now, let's assume that somehow I managed to achieve it (we can even assume that I just copied and pasted it which would not be that far from what actually happened).\n"
   ]
  },
  {
   "cell_type": "code",
   "execution_count": null,
   "metadata": {},
   "outputs": [],
   "source": [
    "Margaret_Mitchell = \"\"\"\n",
    "American author and journalist (1900–1949)\n",
    "For other people named Margaret Mitchell, see Margaret Mitchell (disambiguation).\n",
    "\n",
    "\n",
    "Margaret Mitchell Mitchell in 1941 Born Margaret Munnerlyn Mitchell (1900-11-08) November 8, 1900Atlanta, Georgia, U.S. Died August 16, 1949 (1949-08-16) (aged 48) Atlanta, Georgia, U.S.Resting placeOakland Cemetery (Atlanta) Pen name Peggy Mitchell Occupation Journalist, novelist Education Smith College[1] (MA)[2] (honoris causa) [3]Genre Romance novel, Historical fiction, epic novel Notable works Gone with the Wind Lost Laysen Notable awards Pulitzer Prize for Fiction (1937) National Book Award (1936) Spouse Berrien Kinnard Upshaw\n",
    "​ ​(m. 1922; div. 1924)​\n",
    "John Robert Marsh ​(m. 1925)​[4]ParentsEugene M. MitchellMaybelle StephensRelativesAnnie Fitzgerald Stephens (grandmother)Joseph Mitchell (nephew)Signature\n",
    "Margaret Munnerlyn Mitchell (November 8, 1900 – August 16, 1949)[5] was an American novelist and journalist. Mitchell wrote only one novel, published during her lifetime, the American Civil War-era novel Gone with the Wind, for which she won the National Book Award for Most Distinguished Novel of 1936[6] and the Pulitzer Prize for Fiction in 1937. Long after her death, a collection of Mitchell's girlhood writings and a novella she wrote as a teenager, titled Lost Laysen, were published. A collection of newspaper articles written by Mitchell for The Atlanta Journal was republished in book form.\n",
    "\n",
    "Contents\n",
    "\n",
    "1 Family history\n",
    "2 Early influences\n",
    "\n",
    "2.1 Girlhood on Jackson Hill\n",
    "2.2 The South of Gone with the Wind\n",
    "2.3 An avid reader\n",
    "\n",
    "\n",
    "3 Young storyteller\n",
    "4 School life\n",
    "5 Marriage\n",
    "6 Reporter for The Atlanta Journal\n",
    "7 Interest in erotica\n",
    "8 Novelist\n",
    "\n",
    "8.1 Early works\n",
    "\n",
    "8.1.1 Lost Laysen\n",
    "8.1.2 The Big Four\n",
    "8.1.3 Ropa Carmagin\n",
    "\n",
    "\n",
    "8.2 Writing Gone with the Wind\n",
    "\n",
    "\n",
    "9 World War II\n",
    "10 Death and legacy\n",
    "11 References\n",
    "12 Further reading\n",
    "13 External links\n",
    "\n",
    "\n",
    "Family history[edit]\n",
    "Margaret Mitchell was a Southerner, a native and lifelong resident of Georgia. She was born in 1900 into a wealthy and politically prominent family. Her father, Eugene Muse Mitchell, was an attorney, and her mother, Mary Isabel \"Maybelle\" Stephens, was a suffragist and Catholic activist. She had two brothers, Russell Stephens Mitchell, who died in infancy in 1894, and Alexander Stephens Mitchell, born in 1896.[7][8]\n",
    "\n",
    " Eugene Muse Mitchell, the father of Margaret Mitchell\n",
    "Mitchell's family on her father's side were descendants of Thomas Mitchell, originally of Aberdeenshire, Scotland, who settled in Wilkes County, Georgia in 1777, and served in the American Revolutionary War. Thomas Mitchell was a surveyor by profession. He was on a surveying trip in Henry County, Georgia, at the home of Mr. John Lowe, about 6 miles from McDonough, Georgia, when he died in 1835 and is buried in that location.[9]  William Mitchell, born December 8, 1777, in Lisborn, Edgefield County, South Carolina, moved between 1834 and 1835, to a farm along the South River in the Flat Rock community in Georgia.[9] William Mitchell died February 24, 1859, at the age of 81 and is buried in the family graveyard near Panola Mountain State Park.[9] Her great-grandfather Issac Green Mitchell moved to farm along the Flat Shoals Road located in the Flat Rock community in 1839. Four years later he sold this farm to Ira O. McDaniel and purchased a farm 3 miles farther down the road on the north side of the South River in DeKalb County, Georgia.[9]\n",
    "Her grandfather, Russell Crawford Mitchell, of Atlanta, enlisted in the Confederate States Army on June 24, 1861, and served in Hood's Texas Brigade. He was severely wounded at the Battle of Sharpsburg, demoted for \"inefficiency,\" and detailed as a nurse in Atlanta.[10] After the Civil War, he made a large fortune supplying lumber for the rapid rebuilding of Atlanta. Russell Mitchell had thirteen children from two wives; the eldest was Eugene, who graduated from the University of Georgia Law School.[7][11][12]\n",
    "Mitchell's maternal great-grandfather, Philip Fitzgerald, emigrated from Ireland and eventually settled on a slaveholding plantation, Rural Home, near Jonesboro, Georgia, where he had one son and seven daughters with his wife, Elenor McGahan, who was from an Irish Catholic family with ties to Colonial Maryland.[13] Mitchell's grandparents, married in 1863, were Annie Fitzgerald and John Stephens; he had also emigrated from Ireland and became a captain in the Confederate States Army. John Stephens was a prosperous real estate developer after the Civil War and one of the founders of the Gate City Street Railroad (1881), a mule-drawn Atlanta trolley system. John and Annie Stephens had twelve children together; the seventh child was May Belle Stephens, who married Eugene Mitchell.[12][14][15] May Belle Stephens had studied at the Bellevue Convent in Quebec and completed her education at the Atlanta Female Institute.[8]: 13 \n",
    "\n",
    " Photo of a young woman (likely Mitchell) on the front porch of Rural Home, circa 1920\n",
    "The Atlanta Constitution reported that May Belle Stephens and Eugene Mitchell were married at the Jackson Street mansion of the bride's parents on November 8, 1892:\n",
    "\n",
    "the maid of honor, Miss Annie Stephens, was as pretty as a French pastel, in a directoire costume of yellow satin with a long coat of green velvet sleeves, and a vest of gold brocade...The bride was a fair vision of youthful loveliness in her robe of exquisite ivory white and satin...her slippers were white satin wrought with pearls...an elegant supper was served. The dining room was decked in white and green, illuminated with numberless candles in silver candlelabras...The bride's gift from her father was an elegant house and lot...At 11 o'clock Mrs. Mitchell donned a pretty going-away gown of green English cloth with its jaunty velvet hat to match and bid goodbye to her friends.[16]\n",
    "Early influences[edit]\n",
    "Margaret Mitchell spent her early childhood on Jackson Hill, east of downtown Atlanta.[17]  Her family lived near her maternal grandmother, Annie Stephens, in a Victorian house painted bright red with yellow trim.[18] Mrs. Stephens had been a widow for several years prior to Margaret's birth; Captain John Stephens died in 1896. After his death, she inherited property on Jackson Street where Margaret's family lived.[19]: 24 \n",
    "Grandmother Annie Stephens was quite a character, both vulgar and a tyrant. After gaining control of her father Philip Fitzgerald's money after he died, she splurged on her younger daughters, including Margaret's mother, and sent them to finishing school in the north. There they learned that Irish Americans were not treated as equal to other immigrants, and that it was awesome to be a daughter of an Irishman.[18]: 325  Margaret's relationship with her grandmother would become quarrelsome in later years as she entered adulthood. However, for Margaret, her grandmother was a great source of \"eye-witness information\" about the Civil War and Reconstruction in Atlanta prior to her death in 1934.[20]\n",
    "\n",
    "Girlhood on Jackson Hill[edit]\n",
    " Little Jimmy (1905) by Jimmy Swinnerton\n",
    "In an accident that was traumatic for her mother although she was unharmed, when Mitchell was about three years old, her dress caught fire on an iron grate. Fearing it would happen again, her mother began dressing her in boys' pants, and she was nicknamed \"Jimmy\", the name of a character in the comic strip, Little Jimmy.[21] Her brother insisted she would have to be a boy named Jimmy to play with him. Having no sisters to play with, Mitchell said she was a boy named Jimmy until she was fourteen.[19]: 27–28 \n",
    "Stephens Mitchell said his sister was a tomboy who would happily play with dolls occasionally, and she liked to ride her Texas plains pony.[22]  As a little girl, Mitchell went riding every afternoon with a Confederate veteran and a young lady of \"beau-age\".[23] She was raised in an era when children were \"seen and not heard\" and was not allowed to express her personality by running and screaming on Sunday afternoons while her family was visiting relatives.[24] \n",
    "Mitchell learned the gritty details of specific battles from these visits with aging Confederate soldiers. But she didn't learn that the South had actually lost the war until she was 10 years of age: \"I heard everything in the world except that the Confederates lost the war. When I was ten years old, it was a violent shock to learn that General Lee had been defeated. I didn't believe it when I first heard it and I was indignant. I still find it hard to believe, so strong are childhood impressions.\"[25] Her mother would swat her with a hairbrush or a slipper as a form of discipline.[22][18]: 413 \n",
    "May Belle Mitchell was \"hissing blood-curdling threats\" to her daughter to make her behave the evening she took her to a women's suffrage rally led by Carrie Chapman Catt.[18]: 56  Her daughter sat on a platform wearing a Votes-for-Women banner, blowing kisses to the gentlemen, while her mother gave an impassioned speech.[26][27]  She was nineteen years old when the Nineteenth Amendment was ratified, which gave women the right to vote.\n",
    "May Belle Mitchell was president of the Atlanta Woman's Suffrage League (1915), co-founder of Georgia's division of the League of Women Voters, chairwoman of press publicity for the Georgia Mothers' Congress and Parent Teacher Association, a member of the Pioneer Society, the Atlanta Woman's Club, and several Catholic and literary societies.[28]\n",
    "Mitchell's father was not in favor of corporal punishment in school. During his tenure as president of the educational board (1911–1912),[29] corporal punishment in the public schools was abolished. Reportedly, Eugene Mitchell received a whipping on the first day he attended school and the mental impression of the thrashing lasted far longer than the physical marks.[30]\n",
    "Jackson Hill was an old, affluent part of the city.[26]  At the bottom of Jackson Hill was an area of African-American homes and businesses called \"Darktown\". The mayhem of the Atlanta Race Riot occurred over four days in September 1906 when Mitchell was five years old.[31] Local white newspapers printed unfounded rumors that several white women had been assaulted by black men,[32] prompting an angry mob of 10,000 to assemble in the streets, pulling black people from street cars, beating, killing dozens over the next three days.\n",
    "Eugene Mitchell went to bed early the night the rioting began, but was awakened by the sounds of gunshots. The following morning, as he later wrote, to his wife, he learned \"16 negroes had been killed and a multitude had been injured\" and that rioters \"killed or tried to kill every Negro they saw.\" As the rioting continued, rumors ran wild that black people would burn Jackson Hill.[31] At his daughter's suggestion, Eugene Mitchell, who did not own a gun, stood guard with a sword.[33]\n",
    "Though the rumors proved untrue and no attack arrived, Mitchell recalled twenty years later the terror she felt during the riot.[18]: 41  Mitchell grew up in a Southern culture where the fear of black-on-white rape incited mob violence, and in this world, white Georgians lived in fear of the \"black beast rapist\".[34]\n",
    "\n",
    " Stereoscope card showing the business district on Peachtree Street ca. 1907. The Mitchells' new home was about 3 miles from here.[35]\n",
    "A few years after the riot, the Mitchell family decided to move away from Jackson Hill.[18]: 69  In 1912, they moved to the east side of Peachtree Street just north of Seventeenth Street in Atlanta. Past the nearest neighbor's house was forest and beyond it the Chattahoochee River.[36]  Mitchell's former Jackson Hill home was destroyed in the Great Atlanta Fire of 1917.[37]: xxiii \n",
    "Mitchell's father was of a Protestant background, while her mother was a devout Catholic; Mitchell was raised in a Catholic household.[38][39] As a young woman, she spent time visiting the Sisters of Mercy convent affiliated with St. Joseph's Infirmary in downtown Atlanta.[40] Her religious upbringing influenced her decision to make the O'Hara family in her novel Catholics in a Protestant-majority state.[38] One of Mitchell's mother's cousins entered the Sisters of Mercy at St. Vincent's Convent in Savannah in 1883, becoming Sister Mary Melanie.[38] Mitchell likely based the characters Melanie Hamilton and Careen O'Hara off of this relation.[38]\n",
    "\n",
    "The South of Gone with the Wind[edit]\n",
    "While \"the South\" exists as a geographical region of the United States, it is also said to exist as \"a place of the imagination\" of writers.[41] An image of \"the South\" was fixed in Mitchell's imagination when at six years old her mother took her on a buggy tour through ruined plantations and \"Sherman's sentinels\",[42] the brick and stone chimneys that remained after William Tecumseh Sherman's \"March and torch\" through Georgia.[43] Mitchell would later recall what her mother had said to her:\n",
    "\n",
    "She talked about the world those people had lived in, such a secure world, and how it had exploded beneath them. And she told me that my world was going to explode under me, someday, and God help me if I didn't have some weapon to meet the new world.[42]\n",
    "From an imagination cultivated in her youth, Margaret Mitchell's defensive weapon would become her writing.[42]\n",
    "Mitchell said she heard Civil War stories from her relatives when she was growing up:\n",
    "\n",
    "On Sunday afternoons when we went calling on the older generation of relatives, those who had been active in the Sixties, I sat on the bony knees of veterans and the fat slippery laps of great aunts and heard them talk.[44]\n",
    "On summer vacations, she visited her maternal great-aunts, Mary Ellen (\"Mamie\") Fitzgerald and Sarah (\"Sis\") Fitzgerald, who still lived at her great-grandparents' plantation home in Jonesboro.[45] Mamie had been twenty-one years old and Sis was thirteen when the Civil War began.[46]\n",
    "\n",
    "An avid reader[edit]\n",
    "An avid reader, young Margaret read \"boys' stories\" by G.A. Henty, the Tom Swift series, and the Rover Boys series by Edward Stratemeyer.[21] Her mother read Mary Johnston's novels to her before she could read. They both wept reading Johnston's The Long Roll (1911) and Cease Firing (1912).[47] Between the \"scream of shells, the mighty onrush of charges, the grim and grisly aftermath of war\", Cease Firing is a romance novel involving the courtship of a Confederate soldier and a Louisiana plantation belle[48] with Civil War illustrations by N. C. Wyeth. She also read the plays of William Shakespeare, and novels by Charles Dickens and Sir Walter Scott.[49]  Mitchell's two favorite children's books were by author Edith Nesbit: Five Children and It (1902) and The Phoenix and the Carpet (1904). She kept both on her bookshelf even as an adult and gave them as gifts.[19]: 32  Another author whom Mitchell read as a teenager and who had a major impact in her understanding of the Civil War and Reconstruction was Thomas Dixon.[50] Dixon's popular trilogy of novels The Leopard's Spots: A Romance of the White Man's Burden (1902), The Clansman: A Historical Romance of the Ku Klux Klan (1905) and The Traitor: A Story of the Rise and Fall of the Invisible Empire (1907) all depicted in vivid terms a white South victimized during the Reconstruction by Northern carpetbaggers and freed slaves, with an especial emphasis upon Reconstruction as a nightmarish time when black men ran amok, raping white women with impunity.[50] As a teenager, Mitchell liked Dixon's books so much that she organized the local children to put on dramatizations of his books.[50] The picture the white supremacist Dixon drew of Reconstruction is now rejected as inaccurate, but at the time, the memory of the past was such it was widely believed by white Americans.[50] In a letter to Dixon dated August 10, 1936, Mitchell wrote: \"I was practically raised on your books, and love them very much.\"[50]\n",
    "\n",
    "Young storyteller[edit]\n",
    "An imaginative and precocious writer, Margaret Mitchell began with stories about animals, then progressed to fairy tales and adventure stories. She fashioned book covers for her stories, bound the tablet paper pages together and added her own artwork. At age eleven she gave a name to her publishing enterprise: \"Urchin Publishing Co.\" Later her stories were written in notebooks.[37]: x, 14–15  Mary Belle Mitchell kept her daughter's stories in white enamel bread boxes and several boxes of her stories were stored in the house by the time Margaret went off to college.[19]: 32 \n",
    "\"Margaret\" is a character riding a galloping pony in The Little Pioneers, and plays \"Cowboys and Indians\" in When We Were Shipwrecked.[37]: 16–17 & 19–33 \n",
    "Romantic love and honor emerged as themes of abiding interest for Mitchell in The Knight and the Lady (ca. 1909), in which a \"good knight\" and a \"bad knight\" duel for the hand of the lady. In The Arrow Brave and the Deer Maiden (ca. 1913), a half-white Indian brave, Jack, must withstand the pain inflicted upon him to uphold his honor and win the girl.[37]: 9 & 106–112  The same themes were treated with increasing artistry  in Lost Laysen, the novella Mitchell wrote as a teenager in 1916,[51]: 7  and, with much greater sophistication, in Mitchell's last known novel, Gone with the Wind, which she began in 1926.[52]\n",
    "In her pre-teens, Mitchell also wrote stories set in foreign locations, such as The Greaser (1913), a cowboy story set in Mexico.[37]: 185–199  In 1913 she wrote two stories with Civil War settings; one includes her notation that \"237 pages are in this book\".[37]: 47 \n",
    "\n",
    "School life[edit]\n",
    "\n",
    "\n",
    "Fancy Dress Masquerade\n",
    "Seventy girls and boys were the guests of Miss Margaret Mitchell at a fancy dress masquerade yesterday afternoon at the home of her parents Mr. and Mrs. Eugene Mitchell on Peachtree street and the occasion was beautiful and enjoyable.\n",
    "There was a prize for guessing the greatest number of identities under the masks, and another for the guest who best concealed his or her identity.\n",
    "The pretty young hostess was a demure Martha Washington in flowered crepe gown over a pink silk petticoat and her powdered hair was worn high.\n",
    "Mrs. Mitchell wore a ruby velvet gown.\n",
    "\n",
    "\n",
    "The Constitution, Atlanta, November 21, 1914.\n",
    "\n",
    "\n",
    "While the Great War carried on in Europe (1914–1918), Margaret Mitchell attended Atlanta's Washington Seminary (now The Westminster Schools), a \"fashionable\" private girls' school with an enrollment of over 300 students.[53][8]: 49  She was very active in the Drama Club.[54]  Mitchell played the male characters:  Nick Bottom in Shakespeare's A Midsummer Night's Dream and Launcelot Gobbo in Shakespeare's The Merchant of Venice, among others. She wrote a play about snobbish college girls that she acted in as well.[37]: 138  She also joined the Literary Club and had two stories published in the yearbook:   Little Sister and Sergeant Terry.[37]: 163 & 207  Ten-year-old \"Peggy\" is the heroine in Little Sister. She hears her older sister being raped and shoots the rapist:[55]\n",
    "\n",
    "Coldly, dispassionately she viewed him, the chill steel of the gun giving her confidence. She must not miss now—she would not miss—and she did not.[37]: 204 \n",
    "Mitchell received encouragement from her English teacher, Mrs. Paisley, who recognized her writing talent.[56]  A demanding teacher, Paisley told her she had ability if she worked hard and would not be careless in constructing sentences. A sentence, she said, must be \"complete, concise and coherent\".[18]: 84 \n",
    "Mitchell read the books of Thomas Dixon, Jr., and in 1916, when the silent film, The Birth of a Nation, was showing in Atlanta, she dramatized Dixon's The Traitor:  A Story of the Fall of the Invisible Empire (1907).[57][58][59][60]  As both playwright and actress, she took the role of Steve Hoyle.[51]: 14–15  For the production, she made a Ku Klux Klan costume from a white crepe dress and wore a boy's wig.[37]: 131–132   (Note:  Dixon rewrote The Traitor as The Black Hood (1924) and  Steve Hoyle was renamed George Wilkes.)[61][62]\n",
    "During her years at Washington Seminary, Mitchell's brother, Stephens, was away studying at Harvard College (1915–1917), and he left in May 1917 to enlist in the army, about a month after the U.S. declared war on Germany. He set sail for France in April 1918, participated in engagements in the Lagny and Marbache sectors, then returned to Georgia in October as a training instructor.[63]  While Margaret and her mother were in New York in September 1918 preparing for Margaret to attend college, Stephens wired his father that he was safe after his ship had been torpedoed en route to New York from France.[64]\n",
    "Stephens Mitchell thought college was the \"ruination of girls\".[18]: 106  However, May Belle Mitchell placed a high value on education for women and she wanted her daughter's future accomplishments to come from using her mind. She saw education as Margaret's weapon and \"the key to survival\".[8][42] The classical college education she desired for her daughter was one that was on par with men's colleges, and this type of education was available only at northern schools. Her mother chose Smith College in Northampton, Massachusetts for Margaret because she considered it to be the best women's college in the United States.[8]: 13–14 \n",
    "Upon graduating from Washington Seminary in June 1918, Mitchell fell in love with a Harvard graduate, a young army lieutenant, Clifford West Henry,[65] who was chief bayonet instructor at Camp Gordon from May 10 until the time he set sail for France on July 17.[66]  Henry was \"slightly effeminate\", \"ineffectual\", and \"rather effete-looking\" with \"homosexual tendencies\", according to biographer Anne Edwards. Before departing for France, he gave Mitchell an engagement ring.[67]\n",
    "On September 14, while she was enrolled at Smith College, Henry was mortally wounded in action in France and died on October 17.[66] As Henry waited in the Verdun trenches, shortly before being wounded, he composed a poem on a leaf torn from his field notebook, found later among his effects. The last stanza of Lieutenant Clifford W. Henry's poem follows:\n",
    "\n",
    "\n",
    "If \"out of luck\" at duty's call\n",
    "In glorious action I should fall\n",
    "    At God's behest,\n",
    "\n",
    "May those I hold most dear and best\n",
    "Know I have stood the acid test\n",
    "    Should I \"go West.\"[68]\n",
    "\n",
    "\n",
    "\n",
    "\n",
    "General Edwards Presents Medal \n",
    "Mrs. Ira Henry of Sound Beach was presented the Distinguished Service medal from the War department today in honor of her son, Captain Clifford W. Henry for bravery under fire during the World war. The medal, recommended by General Pershing, was presented by Major General Edwards.\n",
    "Captain Henry, who during the war was a lieutenant with Co.F, 102nd infantry, captured the town of Vignuelles, nine kilometers inside the Hindenburg line on September 13, 1918. Lieutenant Henry and 50 of his men were killed the next day by a terrific explosion in the town. Captain Henry was a graduate of Harvard University.\n",
    "\n",
    "\n",
    "The Bridgeport Telegram, July 4, 1927.\n",
    "\n",
    "\n",
    "Henry repeatedly advanced in front of the platoon he commanded, drawing machine-gun fire so that the German nests could be located and wiped out by his men. Although wounded in the leg in this effort, his death was the result of shrapnel wounds from an air bomb dropped by a German plane.[69]  He was awarded the French Croix de guerre avec palme for his acts of heroism. From the President of the United States, the Commander in Chief of the United States Armed Forces, he was presented with the Distinguished Service Cross and an Oak Leaf Cluster in lieu of a second Distinguished Service Cross.[66][70]\n",
    "Clifford Henry was the great love of Margaret Mitchell's life, according to her brother.[71] In a letter  to a friend (A. Edee, March 26, 1920), Mitchell wrote of Clifford that she had a \"memory of a love that had in it no trace of physical passion\".[72]\n",
    "Mitchell had vague aspirations of a career in psychiatry,[73] but her future was derailed by an event that killed over fifty million people worldwide, the 1918 flu pandemic. On January 25, 1919, her mother, May Belle Mitchell, succumbed to pneumonia from the \"Spanish flu\". Mitchell arrived home from college a day after her mother had died. Knowing her death was imminent, May Belle Mitchell wrote her daughter a brief letter and advised her:\n",
    "\n",
    "Give of yourself with both hands and overflowing heart, but give only the excess after you have lived your own life.[73]\n",
    "An average student at Smith College, Mitchell did not excel in any area of academics. She held a low estimation of her writing abilities. Even though her English professor had praised her work, she felt the praise was undue.[74]  After finishing her freshman year at Smith, Mitchell returned to Atlanta to take over the household for her father and never returned to college.[73] In October 1919, while regaining her strength after an appendectomy, she confided to a friend that giving up college and her dreams of a \"journalistic career\" to keep house and take her mother's place in society meant \"giving up all the worthwhile things that counted for—nothing!\"[75]\n",
    "\n",
    "Marriage[edit]\n",
    "\n",
    "\n",
    "Miss Mitchell, Hostess\n",
    "Miss Mitchell was hostess at an informal buffet supper last evening at her home on Peachtree road, the occasion complimenting Miss Blanche Neel, of Macon, who is visiting Miss Dorothy Bates.\n",
    "Spring flowers adorned the laced covered table in the dining room. Miss Neel was gowned in blue Georgette crepe. Miss Mitchell wore pink taffeta. Miss Bates was gowned in blue velvet.\n",
    "Invited to meet the honor guest were Miss Bates, Miss Virginia Walker, Miss Ethel Tye, Miss Caroline Tye, Miss Helen Turman, Miss Lethea Turman, Miss Frances Ellis, Miss Janet Davis, Miss Lillian Raley, Miss Mary Woolridge, Charles DuPree, William Cantrell, Lieutenant Jack Swarthout, Lieutenant William Gooch, Stephen Mitchell, McDonald Brittain, Harry Hallman, George Northen, Frank Hooper, Walter Whiteman, Frank Stanton, Val Stanton, Charles Belleau, Henry Angel, Berrien Upshaw and Edmond Cooper.\n",
    "\n",
    "\n",
    "The Constitution, Atlanta, February 2, 1921.\n",
    "\n",
    "\n",
    "Margaret began using the name \"Peggy\" at Washington Seminary, and the abbreviated form \"Peg\" at Smith College, when she found an icon for herself in the mythological winged horse, \"Pegasus\", that inspires poets.[76][77]: xix  Peggy made her Atlanta society debut in the 1920 winter season.[77]: xix  In the \"gin and jazz style\" of the times, she did her \"flapping\" in the 1920s.[78]  At a 1921 Atlanta debutante charity ball, she performed an Apache dance. The dance included a kiss with her male partner that shocked Atlanta high society and led to her being blacklisted from the Junior League.[79][80] The Apache and the Tango were scandalous dances for their elements of eroticism, the latter popularized in a 1921 silent film, The Four Horsemen of the Apocalypse, that made its lead actor, Rudolph Valentino, a sex symbol for his ability to Tango.[81][82]\n",
    "Mitchell was, in her own words, an \"unscrupulous flirt\". She found herself engaged to five men, but maintained that she neither lied to or misled any of them.[83] A local gossip columnist, who wrote under the name Polly Peachtree, described Mitchell's love life in a 1922 column:\n",
    "\n",
    "...she has in her brief life, perhaps, had more men really, truly 'dead in love' with her, more honest-to-goodness suitors than almost any other girl in Atlanta.[78]\n",
    "In April 1922, Mitchell was seeing two men almost daily: one was Berrien (\"Red\") Kinnard Upshaw (March 10, 1901 – January 13, 1949), whom she is thought to have met in 1917 at a dance hosted by the parents of one of her friends, and the other, Upshaw's roommate and friend, John Robert Marsh (October 6, 1895 – March 5, 1952), a copy editor from Kentucky who worked for the Associated Press.[84][19]: 37 & 80  Upshaw was an Atlanta boy, a few months younger than Mitchell, whose family moved to Raleigh, North Carolina in 1916.[51]: 16  In 1919 he was appointed to the United States Naval Academy, but resigned for academic deficiencies on January 5, 1920. He was readmitted in May, then 19 years old, and spent two months at sea before resigning a second time on September 1, 1920.[85] Unsuccessful in his educational pursuits and with no job, in 1922 Upshaw earned money bootlegging alcohol out of the Georgia mountains.[86]\n",
    "Although her family disapproved, Peggy and Red married on September 2, 1922; the best man at their wedding was John Marsh, who would become her second husband. The couple resided at the Mitchell home with her father. By December the marriage to Upshaw had dissolved and he left. Mitchell suffered physical and emotional abuse, the result of Upshaw's alcoholism and violent temper. Upshaw agreed to an uncontested divorce after John Marsh gave him a loan and Mitchell agreed not to press assault charges against him.[49][84][87] Upshaw and Mitchell were divorced on October 16, 1924.[77]: xx \n",
    "During this time, Mitchell left the Catholic Church and became an Episcopalian.[38][88]\n",
    "On July 4, 1925, 24-year-old Margaret Mitchell and 29-year-old John Marsh were married in the Unitarian-Universalist Church.[19]: 125  The Marshes made their home at the Crescent Apartments in Atlanta, taking occupancy of Apt. 1, which they affectionately named \"The Dump\" (now the Margaret Mitchell House and Museum).[89]\n",
    "\n",
    " \"The Dump\", now the Margaret Mitchell House and Museum\n",
    "Reporter for The Atlanta Journal[edit]\n",
    "\n",
    "While still legally married to Upshaw and needing income for herself,[90] Mitchell got a job writing feature articles for The Atlanta Journal Sunday Magazine. She received almost no encouragement from her family or \"society\" to pursue a career in journalism, and had no prior newspaper experience.[91] Medora Field Perkerson, who hired Mitchell said:\n",
    "\n",
    "There had been some skepticism on the Atlanta Journal Magazine staff when Peggy came to work as a reporter. Debutantes slept late in those days and didn't go in for jobs.[91]\n",
    "Her first story, Atlanta Girl Sees Italian Revolution,[77]: 3–5  by Margaret Mitchell Upshaw, appeared on December 31, 1922.[77]: xi  She wrote on a wide range of topics, from fashions to Confederate generals and King Tut. In an article that appeared on July 1, 1923, Valentino Declares He Isn't a Sheik,[77]: 152–154  she interviewed celebrity actor Rudolph Valentino, referring to him as \"Sheik\" from his film role. Less thrilled by his looks than his \"chief charm\", his \"low, husky voice with a soft, sibilant accent\",[77]: 153  she described his face as \"swarthy\":\n",
    "\n",
    "His face was swarthy, so brown that his white teeth flashed in startling contrast to his skin; his eyes—tired, bored, but courteous.[77]: 152 \n",
    "Mitchell was quite thrilled when Valentino took her in his arms and carried her inside from the rooftop of the Georgian Terrace Hotel.[77]: 154 \n",
    "Many of her stories were vividly descriptive. In an article titled, Bridesmaid of Eighty-Seven Recalls Mittie Roosevelt's Wedding,[77]: 144–151  she wrote of a white-columned mansion in which lived the last surviving bridesmaid at Theodore Roosevelt's mother's wedding:\n",
    "\n",
    "The tall white columns glimpsed through the dark green of cedar foliage, the wide veranda encircling the house, the stately silence engendered by the century-old oaks evoke memories of Thomas Nelson Page's On Virginia. The atmosphere of dignity, ease, and courtesy that was the soul of the Old South breathes from this old mansion...[77]: 144 \n",
    "In another article, Georgia's Empress and Women Soldiers,[77]: 238–245  she wrote short sketches of four notable Georgia women. One was the first woman to serve in the United States Senate, Rebecca Latimer Felton, a suffragist who held white supremacist views. The other women were:  Nancy Hart, Lucy Mathilda Kenny (also known as Private Bill Thompson of the Confederate States Army) and Mary Musgrove. The article generated mail and controversy from her readers.[92][77]: xiii  Mitchell received criticism for depicting \"strong women who did not fit the accepted standards of femininity.\"[93]\n",
    "Mitchell's journalism career, which began in 1922, came to an end less than four years later; her last article appeared on May 9, 1926.[77]: xx  Several months after marrying John Marsh, Mitchell quit due to an ankle injury that would not heal properly and chose to become a full-time wife.[55] During the time Mitchell worked for the Atlanta Journal, she wrote 129 feature articles, 85 news stories, and several book reviews.[77]: xv \n",
    "\n",
    "Interest in erotica[edit]\n",
    "Mitchell began collecting erotica from book shops in New York City while in her twenties.[18]: 200  The newlywed Marshes and their social group were interested in \"all forms of sexual expression\".[19]: 134  Mitchell discussed her interest in dirty book shops and sexually explicit prose in letters to a friend, Harvey Smith. Smith noted her favorite reads were Fanny Hill, The Perfumed Garden, and Aphrodite.[94]\n",
    "Mitchell developed an appreciation for the works of Southern writer James Branch Cabell, and his 1919 classic, Jurgen, A Comedy of Justice.[18]: 200   She read books about sexology[94] and took particular interest in the case studies of Havelock Ellis, a British physician who studied human sexuality.[95]  During this period in which Mitchell was reading pornography and sexology, she was also writing Gone with the Wind.[96]\n",
    "\n",
    "Novelist[edit]\n",
    "Early works[edit]\n",
    "Lost Laysen[edit]\n",
    "Mitchell wrote a romance  novella, Lost Laysen, when she was fifteen years old (1916). She gave Lost Laysen, which she had written in two notebooks, to a boyfriend, Henry Love Angel. He died in 1945 and the novella remained undiscovered among some letters she had written to him until 1994.[51]: 7–8  The novella was published in 1996, eighty years after it was written, and became a New York Times Best Seller.[97]\n",
    "In Lost Laysen, Mitchell explores the dynamics of three male characters and their relationship to the only female character, Courtenay Ross, a strong-willed American missionary to the South Pacific island of Laysen. The narrator of the tale is Billy Duncan, \"a rough, hardened soldier of fortune\",[51]: 97  who is frequently involved in fights that leave him near death. Courtenay quickly observes Duncan's hard-muscled body as he works shirtless aboard a ship called Caliban. Courtenay's suitor is Douglas Steele, an athletic man who apparently believes Courtenay is helpless without him. He follows Courtenay to Laysen to protect her from perceived foreign savages. The third male character is the rich, powerful yet villainous Juan Mardo. He leers at Courtenay and makes rude comments of a sexual nature, in Japanese nonetheless. Mardo provokes Duncan and Steele, and each feels he must defend Courtenay's honor. Ultimately Courtenay defends her own honor rather than submit to shame.\n",
    "Mitchell's half-breed[51]: 92 \n",
    "antagonist, Juan Mardo, lurks in the shadows of the story and has no dialogue. The reader learns of Mardo's evil intentions through Duncan:\n",
    "\n",
    "They were saying that Juan Mardo had his eye on you—and intended to have you—any way he could get you![51]: 99 \n",
    "Mardo's desires are similar to those of Rhett Butler in his ardent pursuit of Scarlett O'Hara in Mitchell's epic novel, Gone with the Wind. Rhett tells Scarlett:\n",
    "\n",
    "I always intended having you, one way or another.[98]\n",
    "The \"other way\" is rape. In Lost Laysen the male seducer is replaced with the male rapist.[99]\n",
    "\n",
    "The Big Four[edit]\n",
    "In Mitchell's teenage years, she is known to have written a 400-page novel about girls in a boarding school, The Big Four.[37]: xxii  The novel is thought to be lost; Mitchell destroyed some of her manuscripts herself and others were destroyed after her death.[55]\n",
    "\n",
    "Ropa Carmagin[edit]\n",
    "In the 1920s Mitchell completed a novelette, Ropa Carmagin, about a Southern white girl who loves a biracial man.[55] Mitchell submitted the manuscript to Macmillan Publishers in 1935 along with her manuscript for Gone with the Wind. The novelette was rejected; Macmillan thought the story was too short for book form.[100]\n",
    "\n",
    "Writing Gone with the Wind[edit]\n",
    "Main article: Gone with the Wind (novel)\n",
    "I had every detail clear in my mind before I sat down to the typewriter.— Margaret Mitchell[101]\n",
    "In May 1926, after Mitchell had left her job at the Atlanta Journal and was recovering at home from her ankle injury, she wrote a society column for the Sunday Magazine, \"Elizabeth Bennet's Gossip\", which she continued to write until August.[77]: xv  Meanwhile, her husband was growing weary of lugging armloads of books home from the library to keep his wife's mind occupied while she hobbled around the house; he emphatically suggested that she write her own book instead:\n",
    "\n",
    "For God's sake, Peggy, can't you write a book instead of reading thousands of them?[102]\n",
    "To aid her in her literary endeavors, John Marsh brought home a Remington Portable No. 3 typewriter (c. 1928).[89][103]  For the next three years Mitchell worked exclusively on writing a Civil War-era novel whose heroine was named Pansy O'Hara (prior to Gone with the Wind's publication Pansy was changed to Scarlett). She used parts of the manuscript to prop up a wobbly couch.[104]\n",
    "\n",
    "World War II[edit]\n",
    " USS Atlanta (CL-104) is christened by Margaret Mitchell Marsh (1944)\n",
    " Margaret Mitchell (1941) in her  Red Cross uniform aboard the USS Atlanta (CL-51)\n",
    "During World War II, Margaret Mitchell was a volunteer for the American Red Cross and she raised money for the war effort by selling war bonds.[105]  She was active in Home Defense, sewed hospital gowns and put patches on trousers.[102]  Her personal attention, however, was devoted to writing letters to men in uniform—soldiers, sailors, and marines, sending them humor, encouragement, and her sympathy.[18]: 518 \n",
    "The USS Atlanta (CL-51) was a light cruiser used as an anti-aircraft ship of the United States Navy sponsored by Margaret Mitchell and used in the naval Battle of Midway and the Eastern Solomons. The ship was heavily damaged during night surface action on November 13, 1942, during the Naval Battle of Guadalcanal and subsequently scuttled on orders of her captain having earned five battle stars and a Presidential Unit Citation as a \"heroic example of invincible fighting spirit\".[106]\n",
    "Mitchell sponsored a second light cruiser named after the city of Atlanta, the USS Atlanta (CL-104). On February 6, 1944, she christened  Atlanta in Camden, New Jersey, and the cruiser began fighting operations in May 1945. Atlanta was a member of task forces protecting fast carriers, was operating off the coast of Honshū when the Japanese surrendered on August 15, 1945, and earned two battle stars. She was finally sunk during explosive testing off San Clemente Island on October 1, 1970.[107]\n",
    "\n",
    "Death and legacy[edit]\n",
    " Mitchell's grave in Oakland Cemetery\n",
    "Margaret Mitchell was struck by a speeding automobile as she crossed Peachtree Street at 13th Street in Atlanta with her husband, John Marsh, while on her way to see the movie A Canterbury Tale on the evening of August 11, 1949. She died at age 48 at Grady Hospital five days later on August 16 without fully regaining consciousness.\n",
    "The driver, Hugh Gravitt, was an off-duty taxi driver who was driving his personal vehicle when he struck Mitchell. After the collision, Gravitt was arrested for drunken driving and released on a $5,450 bond until Mitchell's death.[108]\n",
    "Gravitt was originally charged with drunken driving, speeding, and driving on the wrong side of the road. He was convicted of involuntary manslaughter in November 1949 and sentenced to 18 months in jail. He served almost 11 months. Gravitt died in 1994 at the age of 73.[109]\n",
    "Margaret Mitchell was buried at Oakland Cemetery, Georgia. When her husband John died in 1952, he was buried next to his wife.\n",
    "In 1978, Mitchell was inducted into the Georgia Newspaper Hall of Fame,[110] followed by the Georgia Women of Achievement in 1994, and the Georgia Writers Hall of Fame in 2000.[111]\n",
    "In 1994, Shannen Doherty starred in the television film A Burning Passion: The Margaret Mitchell Story, a fictionalized account of Mitchell's life directed by Larry Peerce.[112]\n",
    "\n",
    "\n",
    "When Mitchell's nephew, Joseph Mitchell, died in 2011, he left fifty percent of trademark and literary rights of the Margaret Mitchell Estate, as well as some personal belongings of Mitchell's, to the Roman Catholic Archdiocese of Atlanta.[113]\n",
    "\"\"\""
   ]
  },
  {
   "cell_type": "markdown",
   "metadata": {},
   "source": [
    "So having this bio in the Notebook is a cool thing. But it is a very bad idea to share it with someone or in general to store this data in this manner. Obviously, one way of storing it would be copying and pasting it to the desired file. Although it is not the most effective way of doing it it would work. However, let's think for a moment about what the process would look like. What would your friend do when they want to write out a text from the Internet to a file? They usually start the following way:\n",
    "\n",
    "1. Copy the text\n",
    "2. Open a file\n",
    "3. Paste the text\n",
    "4. Save the file\n",
    "\n",
    "So in _Python_, you do a very similar thing. Let's say we want to save the `Margaret_Mitchell` variable."
   ]
  },
  {
   "cell_type": "code",
   "execution_count": null,
   "metadata": {},
   "outputs": [],
   "source": [
    "## We start with opening the file in the write mode\n",
    "file = open('Margaret_Mitchell.txt', mode = 'w')\n",
    "\n",
    "## Then we have to put there something. So we use method write on the file.\n",
    "file.write(Margaret_Mitchell)\n",
    "\n",
    "## And at last we close the file\n",
    "file.close()"
   ]
  },
  {
   "cell_type": "markdown",
   "metadata": {},
   "source": [
    "Actually, the last part is very important although in Colab it might be a bit different (I mean it might not raise an error). In 'normal' _Python_, if you do not close the file it will explode. Not really, but you might end up either with an error when you want to read the file or not really inserting there anything. So it is very important to close the file.\n",
    "\n",
    "However, there is a much smarter and more popular way of writing something out to a file."
   ]
  },
  {
   "cell_type": "code",
   "execution_count": null,
   "metadata": {
    "colab": {},
    "colab_type": "code",
    "id": "JZ7258G88bJh"
   },
   "outputs": [],
   "source": [
    "with open('Margaret_Mitchell.txt', 'w') as file:\n",
    "  file.write(Margaret_Mitchell)"
   ]
  },
  {
   "cell_type": "markdown",
   "metadata": {
    "colab_type": "text",
    "id": "1wcZ5vbSE3dW"
   },
   "source": [
    "What happened above? Using the `with` statement we told Python to open a file called `Margaret_Mithcell.txt` in write mode and assign it to a temporary variable `file`. Then we wrote the variable `Margaret_Mitchell` to `Margaret_Mitchell.txt` and closed the file. So the good thing about using the `with` statement is that when you exit the indent the file is safely closed.\n",
    "\n",
    "Ok, so far so good. But our problem is still not done yet because we moved our data from the notebook to our workspace. And we still do not have it in the place we can access it easily. If we want to download it to our local machine we have two fairly easy options. We can either just click on the file and press download or download it from Python. To do it from Python we just load an additional package and use a simple function called download.\n",
    "\n",
    "**NOTE**: It works only for Colab."
   ]
  },
  {
   "cell_type": "code",
   "execution_count": null,
   "metadata": {
    "colab": {},
    "colab_type": "code",
    "id": "7IwnO9mFEfTq"
   },
   "outputs": [],
   "source": [
    "## We need to load package files to do it in Python\n",
    "from google.colab import files\n",
    "\n",
    "## And then just use function download\n",
    "files.download('Margaret_Mitchell.txt') "
   ]
  },
  {
   "cell_type": "markdown",
   "metadata": {},
   "source": [
    "## Read a file\n",
    "\n",
    "Now, everyone should have the file called `Margaret_Mitchell.txt` in their workspace. But how to load it to _Python_? Yes, you guessed right. It is a similar process to writing it out. First, we need to open the file, read its content, and close the file. For these purposes, we are going to use again the function `open()`. However, this time around it will be in reading mode -- `r`."
   ]
  },
  {
   "cell_type": "code",
   "execution_count": null,
   "metadata": {},
   "outputs": [],
   "source": [
    "with open('Margaret_Mitchell.txt') as file:\n",
    "    text = file.read()"
   ]
  },
  {
   "cell_type": "code",
   "execution_count": null,
   "metadata": {},
   "outputs": [],
   "source": [
    "print(text)"
   ]
  },
  {
   "cell_type": "markdown",
   "metadata": {},
   "source": [
    "Yes, this is as simple as this. Now let's try to read a file not as a string as we saw above but rather as a list. However, before we move any further let's examine the below two examples."
   ]
  },
  {
   "cell_type": "code",
   "execution_count": null,
   "metadata": {},
   "outputs": [],
   "source": [
    "print('Margaret Mitchell')\n",
    "print('Margaret\\nMitchell')"
   ]
  },
  {
   "cell_type": "markdown",
   "metadata": {},
   "source": [
    "What happened above? The first string was printed as we would expect it to be but the second one was probably not. Between the name and surname of the greatest novelist ever we had this strange `\\n`. This is a control character that signifies the end of the line. That is why Margaret's surname is printed in the next line. There are many different control characters that stand for white spaces but we are going to mostly need this one.\n",
    "\n",
    "So at the end of every single line of the `Margaret_Mitchell` variable, we have the `\\n` control character. The same is also true for the `Margaret_Mitchell.txt` file. However, neither here nor in the file, we don't see it as `\\n` but rather the next sentence starts in a new line. Why should we bother? Because now instead of reading the whole file at once we are going to read it line by line. "
   ]
  },
  {
   "cell_type": "code",
   "execution_count": null,
   "metadata": {},
   "outputs": [],
   "source": [
    "with open('Margaret_Mitchell.txt', 'r') as file:\n",
    "    lines = file.readlines()\n",
    "    \n",
    "lines"
   ]
  },
  {
   "cell_type": "markdown",
   "metadata": {},
   "source": [
    "This is again very good but what about uploading a file from your local machine to Colab. You can either use a graphical interface or do it in _Python_. Therefore, you can either press `Upload` or just type the following code.\n",
    "\n",
    "**NOTE**: Again, this only works in Colab."
   ]
  },
  {
   "cell_type": "code",
   "execution_count": null,
   "metadata": {
    "colab": {
     "base_uri": "https://localhost:8080/",
     "height": 106,
     "resources": {
      "http://localhost:8080/nbextensions/google.colab/files.js": {
       "data": "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",
       "headers": [
        [
         "content-type",
         "application/javascript"
        ]
       ],
       "ok": true,
       "status": 200,
       "status_text": ""
      }
     }
    },
    "colab_type": "code",
    "id": "ALD8gUhMZPag",
    "outputId": "367a1c21-2e9d-41f0-aa07-36353c470cb9"
   },
   "outputs": [],
   "source": [
    "## We need to load package files to do it in Python\n",
    "from google.colab import files\n",
    "\n",
    "## And then just use function download\n",
    "files.upload()"
   ]
  },
  {
   "cell_type": "markdown",
   "metadata": {},
   "source": [
    "## JSON\n",
    "\n",
    "This has been fun but what we would really like to do is to load this famous `JSON` to _Python_ and start playing with it. This is not that hard. We will now use the files I sent to you via email or you can download them from [here](https://drive.google.com/drive/folders/1ibFqWyUNJfEQM4qDN0n30PU-lAQr6G50). In Colab, you need to do an extra step to load some data to _Python_ but it is somehow obvious. It is almost the same as uploading a file to Google Drive.\n",
    "\n",
    "Once we have the file uploaded to our workspace we can load it to _Python_ (you can think about it as opening the uploaded file in Google Docs)."
   ]
  },
  {
   "cell_type": "code",
   "execution_count": null,
   "metadata": {},
   "outputs": [],
   "source": [
    "with open('m.json', 'r') as file:\n",
    "    marian = file.read()"
   ]
  },
  {
   "cell_type": "code",
   "execution_count": null,
   "metadata": {},
   "outputs": [],
   "source": [
    "## Let's what it looks like\n",
    "marian"
   ]
  },
  {
   "cell_type": "code",
   "execution_count": null,
   "metadata": {},
   "outputs": [],
   "source": [
    "## It does not look like a dict but rather a string\n",
    "type(marian)"
   ]
  },
  {
   "cell_type": "markdown",
   "metadata": {},
   "source": [
    "To convert this string that consists of a dictionary we would have to parse it. In other words, convert it to the dictionary so _Python_ recognizes it correctly. Fortunately, we are not going to do it without help. We are going to use an already existing function that is in `JSON` module. In _Python_ what in _R_ is called `library` is called a module. To use a function from a specific module we need to import it first. We have already seen an example of this with `numpy`."
   ]
  },
  {
   "cell_type": "code",
   "execution_count": null,
   "metadata": {},
   "outputs": [],
   "source": [
    "## Import json module\n",
    "import json\n",
    "\n",
    "## Use loads function\n",
    "marian = json.loads(marian)\n",
    "type(marian)"
   ]
  },
  {
   "cell_type": "markdown",
   "metadata": {},
   "source": [
    "This is all very good but it is a lot of lines. It requires opening and closing the file. Afterward, we use this new module. Is there a way to make it more concise? Yes, of course. Consider the code below."
   ]
  },
  {
   "cell_type": "code",
   "execution_count": null,
   "metadata": {},
   "outputs": [],
   "source": [
    "import json\n",
    "with open('m.json', 'r') as file:\n",
    "    marian = json.loads(file.read())\n",
    "\n",
    "marian"
   ]
  },
  {
   "cell_type": "markdown",
   "metadata": {},
   "source": [
    "That is fine but what if we wanted to read to _Python_ a `JSON` line file. So now our approach will be kind of similar. But instead of reading everything at the same time, we will read the file as a list. Therefore, we will use the method `file.readlines()`. It creates a list of lines and in our case it allows us to convert every single line to a dictionary."
   ]
  },
  {
   "cell_type": "code",
   "execution_count": null,
   "metadata": {},
   "outputs": [],
   "source": [
    "import json\n",
    "with open('mm.jl', 'r') as file:\n",
    "    mm = [ json.loads(item) for item in file.readlines() ]\n",
    "\n",
    "mm"
   ]
  },
  {
   "cell_type": "markdown",
   "metadata": {},
   "source": [
    "## Write out the data\n",
    "\n",
    "This is all very good. But let's now imagine that we want to save the data we produced in _Python_ in a form of `JSON`. Let's first imagine that we promised to help our friend who happens to be a librarian. We got the following variables from somewhere and we want to create a dictionary with the record."
   ]
  },
  {
   "cell_type": "code",
   "execution_count": null,
   "metadata": {},
   "outputs": [],
   "source": [
    "title = 'Gone with the wind'\n",
    "author = 'Margaret Mitchell'\n",
    "blurb = \"\"\"\n",
    "Scarlett O'Hara, the beautiful, spoiled daughter of a well-to-do\n",
    "Georgia plantation owner, must use every means at her disposal to\n",
    "claw her way out of the poverty she finds herself in after Sherman's\n",
    "March to the Sea.\n",
    "\"\"\"\n",
    "pages = 1037\n",
    "published = 1936\n",
    "lang = 'en'"
   ]
  },
  {
   "cell_type": "code",
   "execution_count": null,
   "metadata": {},
   "outputs": [],
   "source": [
    "## Create the dictionary with data from the previous chunk\n",
    "record = {}"
   ]
  },
  {
   "cell_type": "markdown",
   "metadata": {},
   "source": [
    "So, how to save it now? It is very similar to reading the data. "
   ]
  },
  {
   "cell_type": "code",
   "execution_count": null,
   "metadata": {},
   "outputs": [],
   "source": [
    "import json\n",
    "\n",
    "with open('gone_with_the_wind.json', 'w') as file:\n",
    "    file.write(json.dumps(record))"
   ]
  },
  {
   "cell_type": "markdown",
   "metadata": {},
   "source": [
    "Let's now try to read the file and check whether it is the same as the record."
   ]
  },
  {
   "cell_type": "code",
   "execution_count": null,
   "metadata": {},
   "outputs": [],
   "source": [
    "## YOUR CODE"
   ]
  },
  {
   "cell_type": "markdown",
   "metadata": {},
   "source": [
    "Ok, but how to save a list of dictionaries? Then, we will produce a `JSON` line file. It will be similar to how we read it. However, this time we want to iterate over our list in _Python_ and put every single element of it as a separate line, separate `JSON` in the file."
   ]
  },
  {
   "cell_type": "code",
   "execution_count": null,
   "metadata": {},
   "outputs": [],
   "source": [
    "import json\n",
    "with open('mm2.jl', 'w') as file:\n",
    "    for line in mm_list:\n",
    "        file.write(json.dumps(line) + '\\n')"
   ]
  },
  {
   "cell_type": "markdown",
   "metadata": {},
   "source": [
    "## Advanced reading files to _Python_\n",
    "\n",
    "It was all very good with our examples. However, both methods of reading data into _Python_ require storing the whole data set (regardless of whether we use `file.read()` or `file.readlines()`) in memory. When working with big data sets (we are not going to do it but it is good to understand the purpose) we often would like to iterate and transform data on the fly. That means that we would like to be able to read line by line from a file and transform single lines. That way we would be memory-independent. \n",
    "\n",
    "Imagine, we have a file that has 100,000 lines. Your personal computer is probably not going to explode if you load it to the memory but can seriously slow down. As you probably imagine it is a task for `loops`. We can use either the `for-loop` or `while`. Consider the following code."
   ]
  },
  {
   "cell_type": "code",
   "execution_count": null,
   "metadata": {},
   "outputs": [],
   "source": [
    "## For loop\n",
    "with open('Margaret_Mitchell.txt', 'r') as file:\n",
    "    lines_length = [ len(line) for line in file ]\n",
    "    \n",
    "lines_length"
   ]
  },
  {
   "cell_type": "code",
   "execution_count": null,
   "metadata": {},
   "outputs": [],
   "source": [
    "## While loop\n",
    "lines_length = []\n",
    "with open('Margaret_Mitchell.txt', 'r') as file:\n",
    "    while file:\n",
    "        line = file.readline()\n",
    "        lines_length.append(len(line))\n",
    "        if line == '':\n",
    "            break\n",
    "        \n",
    "        \n",
    "lines_length\n",
    "        "
   ]
  },
  {
   "cell_type": "markdown",
   "metadata": {},
   "source": [
    "Although the `while` loop solution might not be as elegant as the `for-loop` it introduces a new method that `file.readline()`. It is very important to distinguish between `file.readlines()` and `file.readline()`. While the former reads the whole file and stores it as a list the latter reads only one line at a time. Consider the code below."
   ]
  },
  {
   "cell_type": "code",
   "execution_count": null,
   "metadata": {},
   "outputs": [],
   "source": [
    "with open('Margaret_Mitchell.txt', 'r') as file:\n",
    "    print(file.readline())\n",
    "    print(file.readline())\n",
    "    print(file.readline())"
   ]
  },
  {
   "cell_type": "markdown",
   "metadata": {},
   "source": [
    "Why doesn't _Python_ print all the time the same line? That is because `file` is an iterator. It is a special type of object in _Python_ that iterates over an iterable collection of objects in such a manner that at any point in time only one object is stored in memory. It is not the first time we deal with such an object. When we used the `range()` function it had exactly the same property. This is why I said it produced a list-like object. Let's see it a bit clearer."
   ]
  },
  {
   "cell_type": "code",
   "execution_count": 54,
   "metadata": {},
   "outputs": [
    {
     "data": {
      "text/plain": [
       "range"
      ]
     },
     "execution_count": 54,
     "metadata": {},
     "output_type": "execute_result"
    }
   ],
   "source": [
    "## Range produces a range type object\n",
    "type(range(10))"
   ]
  },
  {
   "cell_type": "markdown",
   "metadata": {},
   "source": [
    "At each point in time, it stores only one number and information on how to get the next one. The advantage here is that this way we don't have to store a list of, for example, 100,000 elements but just one element at each time. Both the `range()` function and `file` are examples of so-called iterators. In _Python_ we have more examples of `iterators` (and we can create our custom as well but it is beyond our interest at this point)."
   ]
  },
  {
   "cell_type": "code",
   "execution_count": 70,
   "metadata": {},
   "outputs": [
    {
     "name": "stdout",
     "output_type": "stream",
     "text": [
      "1 4 7\n",
      "2 5 8\n",
      "3 6 9\n"
     ]
    }
   ],
   "source": [
    "## ZIP: align multiple collections together\n",
    "for x, y, z in zip([1,2,3], [4,5,6], [7,8,9]):\n",
    "    print(x, y, z)"
   ]
  },
  {
   "cell_type": "code",
   "execution_count": 71,
   "metadata": {},
   "outputs": [
    {
     "name": "stdout",
     "output_type": "stream",
     "text": [
      "1 2\n"
     ]
    }
   ],
   "source": [
    "## But beware that ZIP limits itself to the shortest collection\n",
    "## without letting us know.\n",
    "for x, y in zip([1], [2,3,4,5,6]):\n",
    "    print(x, y)"
   ]
  },
  {
   "cell_type": "code",
   "execution_count": null,
   "metadata": {},
   "outputs": [],
   "source": [
    "## Map: apply a function to each element\n",
    "for x in map(lambda x: x**2, [1,2,3]):\n",
    "    print(x)"
   ]
  },
  {
   "cell_type": "code",
   "execution_count": null,
   "metadata": {},
   "outputs": [],
   "source": [
    "## Filter: remove elements that do not pass a test\n",
    "for x in filter(lambda x: x % 2 == 0, [1,2,3,4]):\n",
    "    print(x)"
   ]
  },
  {
   "cell_type": "code",
   "execution_count": 72,
   "metadata": {},
   "outputs": [
    {
     "name": "stdout",
     "output_type": "stream",
     "text": [
      "0 a\n",
      "1 b\n",
      "2 c\n",
      "3 d\n"
     ]
    }
   ],
   "source": [
    "## Iterate over numbered elements\n",
    "for i, x in enumerate(['a', 'b', 'c', 'd']):\n",
    "    print(i, x)"
   ]
  },
  {
   "cell_type": "code",
   "execution_count": null,
   "metadata": {},
   "outputs": [],
   "source": [
    "## Sorted: iterate over sorted collection (if it is sortable)\n",
    "for x in sorted([2, 7, 1, 3, 0, 11, 4, 1]):\n",
    "    print(x)"
   ]
  }
 ],
 "metadata": {
  "interpreter": {
   "hash": "bc8a0b2585560af3f1d798452673f163e266b8b1719efa57a26b24d73c90742c"
  },
  "kernelspec": {
   "display_name": "Python 3.9.7 ('ppss')",
   "language": "python",
   "name": "python3"
  },
  "language_info": {
   "codemirror_mode": {
    "name": "ipython",
    "version": 3
   },
   "file_extension": ".py",
   "mimetype": "text/x-python",
   "name": "python",
   "nbconvert_exporter": "python",
   "pygments_lexer": "ipython3",
   "version": "3.9.7"
  },
  "orig_nbformat": 4
 },
 "nbformat": 4,
 "nbformat_minor": 2
}
