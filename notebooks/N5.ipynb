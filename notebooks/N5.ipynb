{
 "cells": [
  {
   "cell_type": "markdown",
   "metadata": {},
   "source": [
    "# Tuples, Lists, Aliasing, Mutability, and Cloning\n",
    "\n",
    "So far we mostly talked about different types of objects:\n",
    "\n",
    "* integers\n",
    "* floats\n",
    "* booleans\n",
    "* None\n",
    "* strings\n",
    "\n",
    "As you probably remember, in contrast to other types, strings are structured. That means that we can use indexing to extract individual characters or slice them to extract substrings. Now the time has come (unlike Winter) to talk about other types in _Python_ that are structured -- composite data types.\n",
    "\n",
    "## Tuples\n",
    "\n",
    "We already have seen tuples when we were writing test functions. In general, you might think about them as a generalization of a string. The only difference here is that the elements do not necessarily need to be characters. Actually, the individual elements might be of any type and need not be of the same type as each other. So let's see what they look like in practice."
   ]
  },
  {
   "cell_type": "code",
   "execution_count": null,
   "metadata": {},
   "outputs": [],
   "source": [
    "## Let's define a couple of tuples\n",
    "t1 = ()\n",
    "t2 = (1, 'two', 3)\n",
    "\n",
    "print(t1)\n",
    "print(t2)"
   ]
  },
  {
   "cell_type": "markdown",
   "metadata": {},
   "source": [
    "More or less you can perform the same type of operations on tuples you could have on strings (IMPORTANT: they don't have the same methods defined on them). There is only one but. If you would like to create a tuple that contains only one element it is not enough to just put an object in braces you have to add extra comma."
   ]
  },
  {
   "cell_type": "code",
   "execution_count": null,
   "metadata": {},
   "outputs": [],
   "source": [
    "## Let's define a tuple with only one element\n",
    "t1 = (1,)\n",
    "print(type(t1))\n",
    "\n",
    "## And what would happen without this comma?\n",
    "t1 = (1)\n",
    "print(type(t1))"
   ]
  },
  {
   "cell_type": "markdown",
   "metadata": {},
   "source": [
    "Other than that tuples can be concatenated, indexed, and sliced."
   ]
  },
  {
   "cell_type": "code",
   "execution_count": null,
   "metadata": {},
   "outputs": [],
   "source": [
    "## Let's define a couple of tuples\n",
    "t1 = (1, 'two', 3)\n",
    "t2 = (t1, 3.25) ## tuples can contain other tuples\n",
    "\n",
    "## Contenacation\n",
    "t1 + t2"
   ]
  },
  {
   "cell_type": "code",
   "execution_count": null,
   "metadata": {},
   "outputs": [],
   "source": [
    "## Indexing\n",
    "(t1 + t2)[3]"
   ]
  },
  {
   "cell_type": "code",
   "execution_count": null,
   "metadata": {},
   "outputs": [],
   "source": [
    "## Slicing\n",
    "(t1 + t2)[2:5]"
   ]
  },
  {
   "cell_type": "markdown",
   "metadata": {},
   "source": [
    "Also similarly to strings you can iterate over elements of a tuple, for example."
   ]
  },
  {
   "cell_type": "code",
   "execution_count": null,
   "metadata": {},
   "outputs": [],
   "source": [
    "t3 = (t1,t2,1)\n",
    "\n",
    "for item in t3:\n",
    "    print(item)"
   ]
  },
  {
   "cell_type": "markdown",
   "metadata": {},
   "source": [
    "Let's now consider the following function. It returns a string that is an intersection of two strings."
   ]
  },
  {
   "cell_type": "code",
   "execution_count": null,
   "metadata": {},
   "outputs": [],
   "source": [
    "def intersect_str(s1, s2):\n",
    "    \"\"\"\n",
    "    Returns a string containing characters that are in both s1 and s2.\n",
    "    Args:\n",
    "    \ts1 (str): non-empty string\n",
    "     \ts2 (str): non-empty string\n",
    "\t\n",
    "\tReturns:\n",
    "\t\tresult (str): contains characters that are in both s1 and s2.\n",
    "\t\"\"\"\n",
    "    result = ''\n",
    "    if len(s2) < len(s1):\n",
    "        s1, s2 = s2, s1\n",
    "    for s in s1:\n",
    "        if s in s2:\n",
    "            result += s\n",
    "    return result\n",
    "\t\n",
    "intersect_str('aaaaak', 'a')\n",
    "      \n",
    "     "
   ]
  },
  {
   "cell_type": "markdown",
   "metadata": {},
   "source": [
    "Now let's try to write a similar function but for tuples."
   ]
  },
  {
   "cell_type": "code",
   "execution_count": null,
   "metadata": {},
   "outputs": [],
   "source": [
    "def intersect_tuple(t1, t2):\n",
    "    \"\"\"\n",
    "    Returns a tuple containing elements that are in both t1 and t2.\n",
    "    Args:\n",
    "    \tt1 (tuple): non-empty tuple\n",
    "     \tt2 (tuple): non-empty tuple\n",
    "\t\n",
    "\tReturns:\n",
    "\t\tresult (tuple): contains elements that are in both t1 and t2.\n",
    "\t\"\"\"\n",
    "\t\n",
    "    "
   ]
  },
  {
   "cell_type": "markdown",
   "metadata": {},
   "source": [
    "### Multiple assignments\n",
    "\n",
    "In HW2, we used multiple assignments to initialize at the same time two variables. It looked something like that.\n",
    "```python\n",
    "low, num_guesses = 0, 0\n",
    "```\n",
    "It was kind of straightforward but what actually happened was that _Python_ interpreted both sides of the assignment sign as tuples. It would be exactly the same if we had.\n",
    "```python\n",
    "(low, num_guesses) = (0,0)\n",
    "```\n",
    "But out of convenience, we don't write like that. What is more, we can use the same assignment methods with strings, for example. "
   ]
  },
  {
   "cell_type": "code",
   "execution_count": null,
   "metadata": {},
   "outputs": [],
   "source": [
    "x, y, z = 'xyz'\n",
    "\n",
    "print(f'x = {x}')\n",
    "print(f'y = {y}')\n",
    "print(f'z = {z}')"
   ]
  },
  {
   "cell_type": "markdown",
   "metadata": {},
   "source": [
    "This mechanism of multiple assignments is of particular convenience when used with functions that return multiple values. Consider the following function."
   ]
  },
  {
   "cell_type": "code",
   "execution_count": null,
   "metadata": {},
   "outputs": [],
   "source": [
    "def find_extreme_divisors(n1, n2):\n",
    "\t\"\"\"\n",
    "\tAssumes that n1 and n2 are positive integers and returns the smallest common\n",
    "\tdivisor > 1 and the largest common divisor of n1 and n2. If no common divisor\n",
    "\tother than 1, returns (None, None)\n",
    "\n",
    "\tArgs:\n",
    "\t\tn1 (int): positive integers \n",
    "\t\tn2 (int): positive integers\n",
    "\n",
    "\tReturns:\n",
    "\t\tmin_val, max_val (tuple): it returns two integers > 1 or pair of None\n",
    "\t\"\"\"\n",
    "\tmin_val, max_val = None, None\n",
    "\tfor val in range(2, min(n1, n2) + 1):\n",
    "\t\tif n1 % val == 0 and n2 % val == 0:\n",
    "\t\t\tif min_val == None:\n",
    "\t\t\t\tmin_val = val\n",
    "\t\t\tmax_val = val\n",
    "\treturn min_val, max_val\n",
    "\n",
    "smallest_divisor, largest_divisor = find_extreme_divisors(100,200)\n"
   ]
  },
  {
   "cell_type": "markdown",
   "metadata": {},
   "source": [
    "Write a function that for integers bigger than 2 returns the smallest and biggest divisor (look at [HW2](https://github.com/MikoBie/ppss/blob/main/notebooks/HW2.ipynb) for reference). If an integer is a prime it should return `(None, None)` and print a message that the number was a prime."
   ]
  },
  {
   "cell_type": "code",
   "execution_count": null,
   "metadata": {},
   "outputs": [],
   "source": [
    "def find_divisor(n1):\n",
    "\t\"\"\"\n",
    "\tAssumes that n1 is an integer bigger than 2 and returns its smallest divisor > 1\n",
    "\tand the largest divisor. If n1 is a prime it prints the message 'n1 is a prime'\n",
    "\tand return (None, None).\n",
    "\n",
    "\n",
    "\tArgs:\n",
    "\t\tn1 (int): integer bigger than 2\n",
    "\t\n",
    "\tReturns:\n",
    "\n",
    "\tsmallest_divisor, largest_divisor: it returns two integers > 1 or a pair of None\n",
    "\t\"\"\""
   ]
  },
  {
   "cell_type": "markdown",
   "metadata": {},
   "source": [
    "## Lists\n",
    "\n",
    "I would say that lists are the most important data structure in _Python_. They are similar to tuples because a list is an ordered sequence of values, where each value is identified by an index. However, instead of braces you use square braces, for example."
   ]
  },
  {
   "cell_type": "code",
   "execution_count": null,
   "metadata": {},
   "outputs": [],
   "source": [
    "## An empty list\n",
    "L1 = []\n",
    "## \n",
    "L2 = ['I did it all', 4, '<3']\n",
    "## You don't have to use extra comma if a list has a single value but if you do nothing wrong happens\n",
    "L3 = [L2,]\n",
    "\n",
    "print(L1)\n",
    "print(L2)\n",
    "print(L3)"
   ]
  },
  {
   "cell_type": "markdown",
   "metadata": {},
   "source": [
    "Similar to strings and tuples, we can index, slice, and iterate over lists."
   ]
  },
  {
   "cell_type": "code",
   "execution_count": null,
   "metadata": {},
   "outputs": [],
   "source": [
    "## Let's define a couple of lists\n",
    "L1 = [1, 2, 3]\n",
    "L2 = L1[::-1]\n",
    "\n",
    "for i in range(len(L1)):\n",
    "    print(L1[i] * L2[i])\n"
   ]
  },
  {
   "cell_type": "markdown",
   "metadata": {},
   "source": [
    "Moreover, we can easily convert a string to a list and the other way around."
   ]
  },
  {
   "cell_type": "code",
   "execution_count": 63,
   "metadata": {},
   "outputs": [
    {
     "name": "stdout",
     "output_type": "stream",
     "text": [
      "['Niall Horan', 'Liam Payne', 'Harry Styles', 'Louis Tomlison', 'Zayn Malik']\n"
     ]
    }
   ],
   "source": [
    "## String to a list\n",
    "OneD = 'Niall Horan, Liam Payne, Harry Styles, Louis Tomlison, Zayn Malik'.split(', ')\n",
    "\n",
    "print(OneD)"
   ]
  },
  {
   "cell_type": "code",
   "execution_count": 64,
   "metadata": {},
   "outputs": [
    {
     "name": "stdout",
     "output_type": "stream",
     "text": [
      "Niall Horan, Liam Payne, Harry Styles, Louis Tomlison, Zayn Malik\n"
     ]
    }
   ],
   "source": [
    "## Or join a list to a string\n",
    "OneD_str = ', '.join(OneD)\n",
    "\n",
    "print(OneD_str)"
   ]
  },
  {
   "cell_type": "markdown",
   "metadata": {},
   "source": [
    "And now comes the most important distinction between the data structures we discussed and the ones that are ahead of us (including lists). Tuples and strings are immutable while lists are mutable. What does it mean and what consequences does it have? Objects that are immutable when they are created can't be changed afterward. On the other hand, mutable types might be modified after they were created. For now, it sounds simple but let's see some implications of it."
   ]
  },
  {
   "cell_type": "code",
   "execution_count": 67,
   "metadata": {},
   "outputs": [],
   "source": [
    "## Let's create a couple of lists\n",
    "OneD = 'Niall Horan, Liam Payne, Harry Styles, Louis Tomlinson, Zayn Malik'.split(', ')\n",
    "BTS = 'Jin, Suga, J-Hope, RM, Jimin, V, Jungkook'.split(', ')"
   ]
  },
  {
   "cell_type": "markdown",
   "metadata": {},
   "source": [
    "<img src=\"png/lists-0.png\" style=\"width: 600px;\" alt=\"lists-0\" class=\"center\"/>"
   ]
  },
  {
   "cell_type": "code",
   "execution_count": null,
   "metadata": {},
   "outputs": [],
   "source": [
    "## Let's add two more\n",
    "BBands = [OneD, BTS]\n",
    "BBands1 = [['Niall Horan', 'Liam Payne', 'Harry Styles', 'Louis Tomlinson', 'Zayn Malik'],['Jin', 'Suga', 'J-Hope', 'RM', 'Jimin', 'V', 'Jungkook']]"
   ]
  },
  {
   "cell_type": "markdown",
   "metadata": {},
   "source": [
    "So we created two lists `Bands` and `Bands1` and assigned variables to them. The elements of these lists are themselves lists. So far so good. Let's print them and check whether they are the same."
   ]
  },
  {
   "cell_type": "code",
   "execution_count": null,
   "metadata": {},
   "outputs": [],
   "source": [
    "print(f'BoysBands = {BBands}')\n",
    "print(f'BoysBands1 = {BBands1}')\n",
    "print(BBands == BBands1)"
   ]
  },
  {
   "cell_type": "markdown",
   "metadata": {},
   "source": [
    "At the first glance, it seems that both lists are bound to the same value. But [your eyes can deceive you, don't trust them](https://www.youtube.com/watch?v=oDIrOE_fnl8). The image below shows that `Bands` and `Bands1` are bound to different objects. A simple way to test for object equality is performed using `is` operator. Let's now see what it returns."
   ]
  },
  {
   "cell_type": "code",
   "execution_count": null,
   "metadata": {},
   "outputs": [],
   "source": [
    "print(BBands1 is BBands)"
   ]
  },
  {
   "cell_type": "markdown",
   "metadata": {},
   "source": [
    "<img src=\"png/lists-1.png\" style=\"width: 600px;\" alt=\"lists-1\" class=\"center\"/>\n",
    "\n",
    "This is pretty cool but why does it matter? Because it has grave consequences on lists. Let's use a simple this horrible morning of March 25th, 2015 when [Malik announced that was leaving One Direction](https://www.facebook.com/onedirectionmusic/posts/869295683125227)."
   ]
  },
  {
   "cell_type": "code",
   "execution_count": null,
   "metadata": {},
   "outputs": [],
   "source": [
    "## This method on a list removes an element of the lisst\n",
    "OneD.remove('Zayn Malik')\n",
    "\n",
    "## Let's see what happend with our lists\n",
    "print(f'One Direction without Zayn Malik {OneD}')\n",
    "print(f'Boys Bands = {BBands}')\n",
    "print(f'Boys Bands1 = {BBands1}')\n"
   ]
  },
  {
   "cell_type": "markdown",
   "metadata": {},
   "source": [
    "So what happened here? Zayn Malik was not only removed from the squad (`OneD`) but also from `BBands`. However, he was not removed from `BBands1`. Why is so? That is because method `OneD.remove('Zayn Malik')` mutates the list `OneD` and in `BBands` we don't have a new list that contains elements of `OneD` but rather reference to `OneD`. Therefore, whenever we change `OneD` it will affect `BBands` as well but not on `BBands1`. In _Python_ the fact that there is more than one path to the same object is called aliasing. One path goes through the variable `OneD` and the second through the first element of the list `BBands`. We can mutate the object via either path, and the effect of the mutation will be visible through both paths.\n",
    "\n",
    "Ok, so now that we know that lists are mutable and we know the consequences let's talk about different methods that are defined on them."
   ]
  },
  {
   "cell_type": "code",
   "execution_count": null,
   "metadata": {},
   "outputs": [],
   "source": [
    "## Let's first define a list\n",
    "SG = ['Melanie Brown', 'Melanie Chisholm', 'Emma Bunton', 'Gerri Halliwell']\n",
    "print(f'Inital list SG contains of {SG}')\n",
    "\n",
    "## Add an object to the end of the list\n",
    "SG.append('Victoria Adams')\n",
    "\n",
    "print(f'SG after addition of \"Vicotria Adama\" contains of {SG}')"
   ]
  },
  {
   "cell_type": "code",
   "execution_count": null,
   "metadata": {},
   "outputs": [],
   "source": [
    "## Return the number of times that an object occurs in the list\n",
    "print(f'Number of times Victoria Adams oocurs in the list SG is {SG.count(\"Victoria Adams\")}')\n",
    "\n",
    "## Let's add a new element to the end of the list\n",
    "SG.append('Victoria Adams')\n",
    "\n",
    "## And count it again\n",
    "print(f'Number of times Victoria Adams oocurs in the list SG is {SG.count(\"Victoria Adams\")}')"
   ]
  },
  {
   "cell_type": "code",
   "execution_count": null,
   "metadata": {},
   "outputs": [],
   "source": [
    "## Insert an object into the list at index i\n",
    "SG.insert(1, 'Victoria Adams')\n",
    "\n",
    "## Print the list\n",
    "SG"
   ]
  },
  {
   "cell_type": "code",
   "execution_count": null,
   "metadata": {},
   "outputs": [],
   "source": [
    "## Let's define two lists now\n",
    "DC = ['Beyoncé Knowles', 'Kelly Rowland', 'LaTavia Roberson', 'LeToya Luckett']\n",
    "DC_2000 = ['Michelle Williams', 'Farrah Franklin']\n",
    "\n",
    "## Add items of a list at the end of the list\n",
    "DC.extend(DC_2000)\n",
    "print(DC)\n",
    "\n",
    "## And it is equivalent to just concatenating list\n",
    "DC += DC_2000\n",
    "print(DC)\n"
   ]
  },
  {
   "cell_type": "code",
   "execution_count": null,
   "metadata": {},
   "outputs": [],
   "source": [
    "## Remove the first occurrence of an item from the list\n",
    "DC.remove('Farrah Franklin')\n",
    "\n",
    "print(DC)"
   ]
  },
  {
   "cell_type": "code",
   "execution_count": null,
   "metadata": {},
   "outputs": [],
   "source": [
    "## Return the index of the first occurrence of the item\n",
    "DC.index('Michelle Williams')"
   ]
  },
  {
   "cell_type": "code",
   "execution_count": null,
   "metadata": {},
   "outputs": [],
   "source": [
    "## Remove and return the item at an index i in the list\n",
    "## By default, i is -1\n",
    "DC.pop()"
   ]
  },
  {
   "cell_type": "code",
   "execution_count": null,
   "metadata": {},
   "outputs": [],
   "source": [
    "## Sort the elements of the list in ascending order\n",
    "DC.sort()\n",
    "\n",
    "print(DC)"
   ]
  },
  {
   "cell_type": "code",
   "execution_count": null,
   "metadata": {},
   "outputs": [],
   "source": [
    "## Reverse the order of the elements in L\n",
    "DC.reverse()\n",
    "\n",
    "print(DC)"
   ]
  },
  {
   "cell_type": "markdown",
   "metadata": {},
   "source": [
    "Write a function that takes two lists L1 and L2 and removes any element from L1 that also occurs in L2. **Hint**: use a `for-loop` and `in` operator.  "
   ]
  },
  {
   "cell_type": "code",
   "execution_count": null,
   "metadata": {},
   "outputs": [],
   "source": [
    "def remove_dups(L1, L2):\n",
    "\t\"\"\"\n",
    "\tTakes two lists L1 and L2. Removes from L1 every element that also occurs in L2.\n",
    " \n",
    "\tArgs:\n",
    "\t\tL1 (list): non-empty list\n",
    "\t\tL2 (list): non-empty list\n",
    "\t\"\"\"\n",
    "\n"
   ]
  },
  {
   "cell_type": "code",
   "execution_count": null,
   "metadata": {},
   "outputs": [],
   "source": [
    "TrzyHa = ['Jacek Graniecki', 'Michał Witak', 'Mariusz Sobolewski', 'Sebastian Imbierowicz', 'Jakub Sawicki']\n",
    "Remove = ['Michał Witak', 'Mariusz Sobolewski', 'Sebastian Imbierowicz', 'Jakub Sawicki']\n",
    "remove_dups(L1 = TrzyHa, L2 = Remove)\n",
    "print(TrzyHa)"
   ]
  },
  {
   "cell_type": "markdown",
   "metadata": {},
   "source": [
    "Is it something we expected? Not really. This task was somehow designed for you to fail. We wanted to mutate the list `TrzyHa` so it contains only one name -- `Jacek Graniewski` but we failed miserably. Why is so? That is because during a `for loop` (no matter that we are iterating over elements) _Python_ uses an internal counter that is incremented at the end of each iteration. When the value of the counter reaches **the current length of the list**, the loop terminates. It is quite simple, right? However, when the list is mutated on the fly strange things happen. Let's examine what happened in our example iteration after iteration. In the beginning, our list looked like the one below.\n",
    "\n",
    "![list-0](png/list-0.png)\n",
    "\n",
    "1. In the first iteration the internal counter was `0`. Under index `0` we have `Jacek Graniewski`. We examined if `Jacek Graniewski` is present also in the second list but since he is not we increment the counter. The list `TrzyHa` has not changed.\n",
    "\n",
    "![list-0](png/list-0.png)\n",
    "\n",
    "2. In the second iteration the internal counter was `1`. Under index `1` we have `Michał Witak`. We examine if he is present also in the second list. He is so we remove it from `TrzyHa` list and increment the counter. The list `TrzyHa` now looks like the following.\n",
    "\n",
    "![list-1](png/list-1.png)\n",
    "\n",
    "3. In the third iteration the internal counter is `2`. Under index `2` now we have `Sebastian Imbirowicz`. We examine if he is present also in the second list. He is so we remove him from `TrzyHa` list and increment the counter. The list `TrzyHa` now looks like the following.\n",
    "\n",
    "![list-2](png/list-2.png)\n",
    "\n",
    "The counter reaches the current length of the list and terminates the `for-loop` and we end up with not what we expected. To avoid this kind of problem we should have iterated over the copy of the `TrzyHa` list. Easier said than done, right? Because we know that if we wrote the following it would not solve the issue, right?"
   ]
  },
  {
   "cell_type": "code",
   "execution_count": null,
   "metadata": {},
   "outputs": [],
   "source": [
    "def remove_dups_copy(L1, L2):\n",
    "\t\"\"\"\n",
    "\tTakes two lists L1 and L2. Removes from L1 every element that also occurs in L2.\n",
    " \n",
    "\tArgs:\n",
    "\t\tL1 (list): non-empty list\n",
    "\t\tL2 (list): non-empty list\n",
    "\t\"\"\"\n",
    "\tL1_copy = L1\n",
    "\tfor item in L1_copy:\n",
    "\t\tif item in L2:\n",
    "\t\t\tL1.remove(item)"
   ]
  },
  {
   "cell_type": "code",
   "execution_count": null,
   "metadata": {},
   "outputs": [],
   "source": [
    "TrzyHa = ['Jacek Graniecki', 'Michał Witak', 'Mariusz Sobolewski', 'Sebastian Imbierowicz', 'Jakub Sawicki']\n",
    "Remove = ['Michał Witak', 'Mariusz Sobolewski', 'Sebastian Imbierowicz', 'Jakub Sawicki']\n",
    "remove_dups_copy(L1 = TrzyHa, L2 = Remove)\n",
    "print(TrzyHa)"
   ]
  },
  {
   "cell_type": "markdown",
   "metadata": {},
   "source": [
    "The problem would remain because `L1_copy` is not a new separate list but just an alias of L1. So how else we can copy a list? There are two ways: by slicing or using method copy."
   ]
  },
  {
   "cell_type": "code",
   "execution_count": null,
   "metadata": {},
   "outputs": [],
   "source": [
    "## Copying by slicing\n",
    "TrzyHa_copy = TrzyHa[:]\n",
    "\n",
    "print(TrzyHa is TrzyHa_copy)"
   ]
  },
  {
   "cell_type": "code",
   "execution_count": null,
   "metadata": {},
   "outputs": [],
   "source": [
    "## Copy method\n",
    "TrzyHa_copy2 = TrzyHa.copy()\n",
    "\n",
    "print(TrzyHa is TrzyHa_copy2)"
   ]
  },
  {
   "cell_type": "markdown",
   "metadata": {},
   "source": [
    "Both described above methods produce a **shallow copy** of a list. Therefore, they create a new list and then insert the objects (not copies of the objects) of the list to be copied into the new list. However, if the list contains a mutable object you would want to make a **deep copy** which we are not going to cover right now.\n",
    "\n",
    "To fix the `remove_dups` function we just need to iterate over a shallow copy of the L1 list. It is an easy fix."
   ]
  },
  {
   "cell_type": "code",
   "execution_count": null,
   "metadata": {},
   "outputs": [],
   "source": [
    "def remove_dups_copy(L1, L2):\n",
    "\t\"\"\"\n",
    "\tTakes two lists L1 and L2. Removes from L1 every element that also occurs in L2.\n",
    " \n",
    "\tArgs:\n",
    "\t\tL1 (list): non-empty list\n",
    "\t\tL2 (list): non-empty list\n",
    "\t\"\"\"\n",
    "\tL1_copy = L1[:]\n",
    "\tfor item in L1_copy:\n",
    "\t\tif item in L2:\n",
    "\t\t\tL1.remove(item)"
   ]
  },
  {
   "cell_type": "code",
   "execution_count": null,
   "metadata": {},
   "outputs": [],
   "source": [
    "TrzyHa = ['Jacek Graniecki', 'Michał Witak', 'Mariusz Sobolewski', 'Sebastian Imbierowicz', 'Jakub Sawicki']\n",
    "Remove = ['Michał Witak', 'Mariusz Sobolewski', 'Sebastian Imbierowicz', 'Jakub Sawicki']\n",
    "remove_dups_copy(L1 = TrzyHa, L2 = Remove)\n",
    "print(TrzyHa)"
   ]
  },
  {
   "cell_type": "markdown",
   "metadata": {},
   "source": [
    "### List comprehension\n",
    "\n",
    "Very often in _Python_ you would see a very concise way of producing a list. It is called a list comprehension and is basically a for loop nested in the list. Let's consider the following code."
   ]
  },
  {
   "cell_type": "code",
   "execution_count": null,
   "metadata": {},
   "outputs": [],
   "source": [
    "L1 = []\n",
    "for num in range(2,100):\n",
    "    if num % 2 == 0:\n",
    "        L1.append(num)\n",
    "        \n",
    "print(L1)"
   ]
  },
  {
   "cell_type": "markdown",
   "metadata": {},
   "source": [
    "This was quite simple, right? We just iterated over numbers between `2` and `100` and appended to our list only the ones that are even.  It is a perfectly fine solution. However, in _Python_ it is possible to write it down in one line using list comprehension."
   ]
  },
  {
   "cell_type": "code",
   "execution_count": null,
   "metadata": {},
   "outputs": [],
   "source": [
    "## List comprehension\n",
    "L1 = [ num for num in range(2,100) if num % 2 == 0 ]\n",
    "print(L1)"
   ]
  },
  {
   "cell_type": "markdown",
   "metadata": {},
   "source": [
    "The result is exactly the same but at first, the list comprehension might be a bit tricky to understand because the results are written first. In general, it takes practice to get comfortable with it but this method might be quite useful. For example, if we were to find all prime numbers between `2` and `100` we could have written something like that."
   ]
  },
  {
   "cell_type": "code",
   "execution_count": null,
   "metadata": {},
   "outputs": [],
   "source": [
    "primes = []\n",
    "for x in range(2,100):\n",
    "    is_prime = True\n",
    "    for y in range(3,x):\n",
    "        if x % y == 0:\n",
    "            is_prime = False\n",
    "    if is_prime:\n",
    "        primes.append(x)\n",
    "\n",
    "print(primes)"
   ]
  },
  {
   "cell_type": "code",
   "execution_count": null,
   "metadata": {},
   "outputs": [],
   "source": [
    "## or something like that\n",
    "primes = [ x for x in range(2, 100) if all( x % y != 0 for y in range(3, x)) ]\n",
    "\n",
    "print(primes)"
   ]
  },
  {
   "cell_type": "markdown",
   "metadata": {},
   "source": [
    "In the example above, the basic idea is to use one comprehension to generate a list of all candidate numbers (i.e., from 2 to 99), a second comprehension to generate a list of reminders of dividing a candidate prime by each potential divisor, and the built-in function `all` to test if any of those remainders is 0 (in that case the function `all()` returns `True` only if `x` is a prime. At first, it is totally unreadable but with practice, you will be able to understand it."
   ]
  }
 ],
 "metadata": {
  "interpreter": {
   "hash": "bc8a0b2585560af3f1d798452673f163e266b8b1719efa57a26b24d73c90742c"
  },
  "kernelspec": {
   "display_name": "Python 3.9.7 ('ppss')",
   "language": "python",
   "name": "python3"
  },
  "language_info": {
   "codemirror_mode": {
    "name": "ipython",
    "version": 3
   },
   "file_extension": ".py",
   "mimetype": "text/x-python",
   "name": "python",
   "nbconvert_exporter": "python",
   "pygments_lexer": "ipython3",
   "version": "3.9.7"
  },
  "orig_nbformat": 4
 },
 "nbformat": 4,
 "nbformat_minor": 2
}
