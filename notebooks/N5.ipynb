{
 "cells": [
  {
   "cell_type": "markdown",
   "metadata": {},
   "source": [
    "# Tuples, Lists, Aliasing, Mutability, and Cloning\n",
    "\n",
    "So far we mostly talked on different types of objects:\n",
    "\n",
    "* integers\n",
    "* floats\n",
    "* booleans\n",
    "* None\n",
    "* strings\n",
    "\n",
    "In contrast to other types, strings are structured. That means that we can use indexing to extract individual characters or slice them to extract substrings. No the time has come (unlike Winter) to talk about other types in _Python_ that are structured.\n",
    "\n",
    "## Tuples\n",
    "\n",
    "We already have seen tuples when we were writing test functions. In general, you might thing about them as a generalization of a string. The only difference here is that the elements not neccessarly need to be characters. Actually, the individual elements might be of any type and need not be of the same type as each other. So let's see what they look in practice."
   ]
  },
  {
   "cell_type": "code",
   "execution_count": 1,
   "metadata": {},
   "outputs": [
    {
     "name": "stdout",
     "output_type": "stream",
     "text": [
      "()\n",
      "(1, 'two', 3)\n"
     ]
    }
   ],
   "source": [
    "## Let's define a couple of tuple\n",
    "t1 = ()\n",
    "t2 = (1, 'two', 3)\n",
    "\n",
    "print(t1)\n",
    "print(t2)"
   ]
  },
  {
   "cell_type": "markdown",
   "metadata": {},
   "source": [
    "More or less you can perform the same type of operations on tuples you could have on strings (IMPORTANT: they don't have the same methods defined on them). There is only one but. If you would like to create a tuple that contains only one value it is not enough to just put an object in braces you have to add extra comma."
   ]
  },
  {
   "cell_type": "code",
   "execution_count": 5,
   "metadata": {},
   "outputs": [
    {
     "name": "stdout",
     "output_type": "stream",
     "text": [
      "<class 'tuple'>\n",
      "<class 'int'>\n"
     ]
    }
   ],
   "source": [
    "## Let's define a tuple with only one element\n",
    "t1 = (1,)\n",
    "print(type(t1))\n",
    "\n",
    "## And what would happen without this comma?\n",
    "t1 = (1)\n",
    "print(type(t1))"
   ]
  },
  {
   "cell_type": "markdown",
   "metadata": {},
   "source": [
    "Other than that tuples can be concatenated, indexed, and sliced."
   ]
  },
  {
   "cell_type": "code",
   "execution_count": 6,
   "metadata": {},
   "outputs": [
    {
     "data": {
      "text/plain": [
       "(1, 'two', 3, (1, 'two', 3), 3.25)"
      ]
     },
     "execution_count": 6,
     "metadata": {},
     "output_type": "execute_result"
    }
   ],
   "source": [
    "## Let's define a couple of tuples\n",
    "t1 = (1, 'two', 3)\n",
    "t2 = (t1, 3.25) ## tuples can contain other tuples\n",
    "\n",
    "## Contenacation\n",
    "t1 + t2"
   ]
  },
  {
   "cell_type": "code",
   "execution_count": 7,
   "metadata": {},
   "outputs": [
    {
     "data": {
      "text/plain": [
       "(1, 'two', 3)"
      ]
     },
     "execution_count": 7,
     "metadata": {},
     "output_type": "execute_result"
    }
   ],
   "source": [
    "## Indexing\n",
    "(t1 + t2)[3]"
   ]
  },
  {
   "cell_type": "code",
   "execution_count": 8,
   "metadata": {},
   "outputs": [
    {
     "data": {
      "text/plain": [
       "(3, (1, 'two', 3), 3.25)"
      ]
     },
     "execution_count": 8,
     "metadata": {},
     "output_type": "execute_result"
    }
   ],
   "source": [
    "## Slicing\n",
    "(t1 + t2)[2:5]"
   ]
  },
  {
   "cell_type": "markdown",
   "metadata": {},
   "source": [
    "Also similarly as with strings you can iterate over elements of a tuple, for example"
   ]
  },
  {
   "cell_type": "code",
   "execution_count": 9,
   "metadata": {},
   "outputs": [
    {
     "name": "stdout",
     "output_type": "stream",
     "text": [
      "(1, 'two', 3)\n",
      "((1, 'two', 3), 3.25)\n",
      "1\n"
     ]
    }
   ],
   "source": [
    "t3 = (t1,t2,1)\n",
    "\n",
    "for item in t3:\n",
    "    print(item)"
   ]
  },
  {
   "cell_type": "markdown",
   "metadata": {},
   "source": [
    "Let's now consider the following function. It returns a string that is an intersection of two strings."
   ]
  },
  {
   "cell_type": "code",
   "execution_count": 29,
   "metadata": {},
   "outputs": [
    {
     "data": {
      "text/plain": [
       "'a'"
      ]
     },
     "execution_count": 29,
     "metadata": {},
     "output_type": "execute_result"
    }
   ],
   "source": [
    "def intersect_str(s1, s2):\n",
    "    \"\"\"\n",
    "    Returns a string containing charachters that are in both s1 and s2.\n",
    "    Args:\n",
    "    \ts1 (str): non-empty string\n",
    "     \ts2 (str): non-empty string\n",
    "\t\n",
    "\tReturns:\n",
    "\t\tresult (str): contains characters that are in both s1 and s2.\n",
    "\t\"\"\"\n",
    "    result = ''\n",
    "    if len(s2) < len(s1):\n",
    "        s1, s2 = s2, s1\n",
    "    for s in s1:\n",
    "        if s in s2:\n",
    "            result += s\n",
    "    return result\n",
    "\t\n",
    "intersect_str('aaaaak', 'a')\n",
    "      \n",
    "     "
   ]
  },
  {
   "cell_type": "markdown",
   "metadata": {},
   "source": [
    "Now let's try to write a similar function but for tuples."
   ]
  },
  {
   "cell_type": "code",
   "execution_count": 28,
   "metadata": {},
   "outputs": [],
   "source": [
    "def intersect_tuple(t1, t2):\n",
    "    \"\"\"\n",
    "    Returns a tuple containing elements that are in both t1 and t2.\n",
    "    Args:\n",
    "    \tt1 (tuple): non-empty tuple\n",
    "     \tt2 (tuple): non-empty tuple\n",
    "\t\n",
    "\tReturns:\n",
    "\t\tresult (tuple): contains elements that are in both t1 and t2.\n",
    "\t\"\"\"\n",
    "\t\n",
    "    "
   ]
  },
  {
   "cell_type": "markdown",
   "metadata": {},
   "source": [
    "### Multiple assigments\n",
    "\n",
    "In HW2, we sued multiple assigment to initialize at the same time two variables. It looked something like that.\n",
    "```python\n",
    "low, num_guesses = 0, 0\n",
    "```\n",
    "It was kind of straightforward but what actually happened was that _Python_ intepreted both sides of the assignment sign as tuples. It would be exactly the same if we had.\n",
    "```python\n",
    "(low, num_guesses) = (0,0)\n",
    "```\n",
    "But out of convinience we don't write like that. What is more we can use the same assignment methods with strings, for example. "
   ]
  },
  {
   "cell_type": "code",
   "execution_count": 47,
   "metadata": {},
   "outputs": [
    {
     "name": "stdout",
     "output_type": "stream",
     "text": [
      "x = x\n",
      "y = y\n",
      "z = z\n"
     ]
    }
   ],
   "source": [
    "x, y, z = 'xyz'\n",
    "\n",
    "print(f'x = {x}')\n",
    "print(f'y = {y}')\n",
    "print(f'z = {z}')"
   ]
  },
  {
   "cell_type": "markdown",
   "metadata": {},
   "source": [
    "This mechanism of multiple assignments is of particular convenience when used with functions that return multiplie value. Consider the following function."
   ]
  },
  {
   "cell_type": "code",
   "execution_count": 51,
   "metadata": {},
   "outputs": [],
   "source": [
    "def find_extreme_divisors(n1, n2):\n",
    "\t\"\"\"\n",
    "\tAssumes that n1 and n2 are positive integers and returns the smalles common\n",
    "\tdivisor > 1 and the largest common divisor of n1 and n2. If no common divisor\n",
    "\tother than , returns (None, None)\n",
    "\n",
    "\tArgs:\n",
    "\t\tn1 (int): positive integers \n",
    "\t\tn2 (int): positive integers\n",
    "\n",
    "\tReturns:\n",
    "\t\tmin_val, max_val (tuple): it returns two integers > 1 or pair of None\n",
    "\t\"\"\"\n",
    "\tmin_val, max_val = None, None\n",
    "\tfor val in range(2, min(n1, n2) + 1):\n",
    "\t\tif n1 % val == 0 and n2 % val == 0:\n",
    "\t\t\tif min_val == None:\n",
    "\t\t\t\tmin_val = val\n",
    "\t\t\tmax_val = val\n",
    "\treturn min_val, max_val\n",
    "\n",
    "smallest_divisor, largest_divisor = find_extreme_divisors(100,200)\n"
   ]
  },
  {
   "cell_type": "markdown",
   "metadata": {},
   "source": [
    "Write a function that for integers bigger than 2 returns the smallest and biggest divisor (look at [HW2](https://github.com/MikoBie/ppss/blob/main/notebooks/HW2.ipynb) for reference). If an integer is a prime it should return `(None, None)` and print a message that the number was a prime."
   ]
  },
  {
   "cell_type": "code",
   "execution_count": 54,
   "metadata": {},
   "outputs": [],
   "source": [
    "def find_divisor(n1):\n",
    "\t\"\"\"\n",
    "\tAssumes that n1 is an integer bigger than 2 and returns its smalles divisor > 1\n",
    "\tand the largest divisor. If n1 is a prime it prints the message 'n1 is a prime'\n",
    "\tand return (None, None).\n",
    "\n",
    "\n",
    "\tArgs:\n",
    "\t\tn1 (int): integer bigger than 2\n",
    "\t\n",
    "\tReturns:\n",
    "\n",
    "\tsmallest_divisor, largest_divisor: it returns two integers > 1 or a pair of None\n",
    "\t\"\"\""
   ]
  },
  {
   "cell_type": "markdown",
   "metadata": {},
   "source": [
    "## Lists\n",
    "\n",
    "I would say the most important data structure in _Python_ is lists. They are similar to tuples because a list is an ordered sequence of values, where each value is identified by an index. However, instead of braces you use square braces, for example."
   ]
  },
  {
   "cell_type": "code",
   "execution_count": 59,
   "metadata": {},
   "outputs": [
    {
     "name": "stdout",
     "output_type": "stream",
     "text": [
      "[]\n",
      "['I did it all', 4, '<3']\n",
      "[['I did it all', 4, '<3']]\n"
     ]
    }
   ],
   "source": [
    "## An empty list\n",
    "L1 = []\n",
    "## \n",
    "L2 = ['I did it all', 4, '<3']\n",
    "## You don't have to use extra comma if a list has a single value but if you do nothing wrong happens\n",
    "L3 = [L2,]\n",
    "\n",
    "print(L1)\n",
    "print(L2)\n",
    "print(L3)"
   ]
  },
  {
   "cell_type": "markdown",
   "metadata": {},
   "source": [
    "Similarly to strings and tuples we can index, slice and iterate over lists."
   ]
  },
  {
   "cell_type": "code",
   "execution_count": 62,
   "metadata": {},
   "outputs": [
    {
     "name": "stdout",
     "output_type": "stream",
     "text": [
      "3\n",
      "4\n",
      "3\n"
     ]
    }
   ],
   "source": [
    "## Let's define a couple of lists\n",
    "L1 = [1, 2, 3]\n",
    "L2 = L1[::-1]\n",
    "\n",
    "for i in range(len(L1)):\n",
    "    print(L1[i] * L2[i])\n"
   ]
  },
  {
   "cell_type": "markdown",
   "metadata": {},
   "source": [
    "And now comes the most important distinction between the data structure we discussed and the one that are ahead of us (including lists). Tuples and strings are immutable while lists are mutable. What does it mean and what consequances it has? Objects that are immutable when they are created they can't be changed afterward. On the other hand, mutable types might be modified after they were created. For now it sounds simple but let's see some implications of it."
   ]
  },
  {
   "cell_type": "code",
   "execution_count": 99,
   "metadata": {},
   "outputs": [],
   "source": [
    "OneD = ['Niall Horan', 'Liam Payne', 'Harry Styles', 'Louis Tomlinson', 'Zayn Malik']\n",
    "BTS = ['Jin', 'Suga', 'J-Hope', 'RM', 'Jimin', 'V', 'Jungkook']"
   ]
  },
  {
   "cell_type": "code",
   "execution_count": 100,
   "metadata": {},
   "outputs": [],
   "source": [
    "BBands = [OneD, BTS]\n",
    "BBands1 = [['Niall Horan', 'Liam Payne', 'Harry Styles', 'Louis Tomlinson', 'Zayn Malik'],['Jin', 'Suga', 'J-Hope', 'RM', 'Jimin', 'V', 'Jungkook']]"
   ]
  },
  {
   "cell_type": "markdown",
   "metadata": {},
   "source": [
    "So we created two lists `Bands` and `Bands1` and assigned variables to them. The elements of these lists are themselves lists. So far so good. Let's print them and check whether they are the same."
   ]
  },
  {
   "cell_type": "code",
   "execution_count": 101,
   "metadata": {},
   "outputs": [
    {
     "name": "stdout",
     "output_type": "stream",
     "text": [
      "BoysBands = [['Niall Horan', 'Liam Payne', 'Harry Styles', 'Louis Tomlinson', 'Zayn Malik'], ['Jin', 'Suga', 'J-Hope', 'RM', 'Jimin', 'V', 'Jungkook']]\n",
      "BoysBands1 = [['Niall Horan', 'Liam Payne', 'Harry Styles', 'Louis Tomlinson', 'Zayn Malik'], ['Jin', 'Suga', 'J-Hope', 'RM', 'Jimin', 'V', 'Jungkook']]\n",
      "True\n"
     ]
    }
   ],
   "source": [
    "print(f'BoysBands = {BBands}')\n",
    "print(f'BoysBands1 = {BBands1}')\n",
    "print(BBands == BBands1)"
   ]
  },
  {
   "cell_type": "markdown",
   "metadata": {},
   "source": [
    "At the first glance it seems that both lists are bound to the same value. But [your eyes can decieve you, don't trust them](https://www.youtube.com/watch?v=oDIrOE_fnl8). The image below shows that `Bands` and `Bands1` are bound to different objects. A simple way to test for object equality is performed using `is` opertor. Let's now see what it returns."
   ]
  },
  {
   "cell_type": "code",
   "execution_count": 102,
   "metadata": {},
   "outputs": [
    {
     "name": "stdout",
     "output_type": "stream",
     "text": [
      "False\n"
     ]
    }
   ],
   "source": [
    "print(BBands1 is BBands)"
   ]
  },
  {
   "cell_type": "markdown",
   "metadata": {},
   "source": [
    "This is pretty cool but why it matters? Because it has grave consequences on lists. Let's use an simple this horrible morning of March 25th 2015 when [Malik announced that was leaving One Direction](https://www.facebook.com/onedirectionmusic/posts/869295683125227)."
   ]
  },
  {
   "cell_type": "code",
   "execution_count": 103,
   "metadata": {},
   "outputs": [
    {
     "name": "stdout",
     "output_type": "stream",
     "text": [
      "One Direction without Zayn Malik ['Niall Horan', 'Liam Payne', 'Harry Styles', 'Louis Tomlinson']\n",
      "Boys Bands = [['Niall Horan', 'Liam Payne', 'Harry Styles', 'Louis Tomlinson'], ['Jin', 'Suga', 'J-Hope', 'RM', 'Jimin', 'V', 'Jungkook']]\n",
      "Boys Bands1 = [['Scary Spice', 'Sport Spice', 'Baby Spice', 'Ginger Spice', 'Posh Spice'], ['Jin', 'Suga', 'J-Hope', 'RM', 'Jimin', 'V', 'Jungkook']]\n"
     ]
    }
   ],
   "source": [
    "## This method on a list removes an element of the lisst\n",
    "OneD.remove('Zayn Malik')\n",
    "\n",
    "## Let's see what happend with our lists\n",
    "print(f'One Direction without Zayn Malik {OneD}')\n",
    "print(f'Boys Bands = {BBands}')\n",
    "print(f'Boys Bands1 = {Bands1}')\n"
   ]
  },
  {
   "cell_type": "markdown",
   "metadata": {},
   "source": [
    "So what happened here? Zayn Malik was not only removed from the squad (`OneD`) but also from `BBands`. However, he was not removed from `BBands1`. Why is so? That is because method `OneD.remove('Zayn Malik')` muttates the list `OneD` and in `BBands` we don't have a new list that contains elements of `OneD` but rather reference to `OneD`. Therefore, whenever we change `OneD` it will have an effect on `BBands` as well but not on `BBands1`. In _Python_ the fact that there are mor than one path to the same object is called aliasing. One path goes through variable `OneD` and the second through first element of the list `BBands`. We can mutate the object via either path, and the effect of the mutation will be visisble throgh both paths.\n",
    "\n",
    "Ok, so now when we know that lists are muttable and we know the consequences let's talk about different methods that are defined on them."
   ]
  },
  {
   "cell_type": "code",
   "execution_count": 16,
   "metadata": {},
   "outputs": [
    {
     "name": "stdout",
     "output_type": "stream",
     "text": [
      "Inital list SG contains of ['Melanie Brown', 'Melanie Chisholm', 'Emma Bunton', 'Gerri Halliwell']\n",
      "SG after addition of \"Vicotria Adama\" contains of ['Melanie Brown', 'Melanie Chisholm', 'Emma Bunton', 'Gerri Halliwell', 'Victoria Adams']\n"
     ]
    }
   ],
   "source": [
    "## Let's first define a list\n",
    "SG = ['Melanie Brown', 'Melanie Chisholm', 'Emma Bunton', 'Gerri Halliwell']\n",
    "print(f'Inital list SG contains of {SG}')\n",
    "\n",
    "## Add an object to the end of the list\n",
    "SG.append('Victoria Adams')\n",
    "\n",
    "print(f'SG after addition of \"Vicotria Adama\" contains of {SG}')"
   ]
  },
  {
   "cell_type": "code",
   "execution_count": 17,
   "metadata": {},
   "outputs": [
    {
     "name": "stdout",
     "output_type": "stream",
     "text": [
      "Number of times Victoria Adams oocurs in the list SG is 1\n",
      "Number of times Victoria Adams oocurs in the list SG is 2\n"
     ]
    }
   ],
   "source": [
    "## returns the number of times that an object occurs in list\n",
    "print(f'Number of times Victoria Adams oocurs in the list SG is {SG.count(\"Victoria Adams\")}')\n",
    "\n",
    "## let's add a new element to the end of the list\n",
    "SG.append('Victoria Adams')\n",
    "\n",
    "## And count it again\n",
    "print(f'Number of times Victoria Adams oocurs in the list SG is {SG.count(\"Victoria Adams\")}')"
   ]
  },
  {
   "cell_type": "code",
   "execution_count": 18,
   "metadata": {},
   "outputs": [
    {
     "data": {
      "text/plain": [
       "['Melanie Brown',\n",
       " 'Victoria Adams',\n",
       " 'Melanie Chisholm',\n",
       " 'Emma Bunton',\n",
       " 'Gerri Halliwell',\n",
       " 'Victoria Adams',\n",
       " 'Victoria Adams']"
      ]
     },
     "execution_count": 18,
     "metadata": {},
     "output_type": "execute_result"
    }
   ],
   "source": [
    "## Insert an object into list at index i\n",
    "SG.insert(1, 'Victoria Adams')\n",
    "\n",
    "## Print the list\n",
    "SG"
   ]
  },
  {
   "cell_type": "code",
   "execution_count": 35,
   "metadata": {},
   "outputs": [
    {
     "name": "stdout",
     "output_type": "stream",
     "text": [
      "['Beyoncé Knowles', 'Kelly Rowland', 'LaTavia Roberson', 'LeToya Luckett', 'Michelle Williams', 'Farrah Franklin']\n",
      "['Beyoncé Knowles', 'Kelly Rowland', 'LaTavia Roberson', 'LeToya Luckett', 'Michelle Williams', 'Farrah Franklin', 'Michelle Williams', 'Farrah Franklin']\n"
     ]
    }
   ],
   "source": [
    "## Let's define two lists now\n",
    "DC = ['Beyoncé Knowles', 'Kelly Rowland', 'LaTavia Roberson', 'LeToya Luckett']\n",
    "DC_2000 = ['Michelle Williams', 'Farrah Franklin']\n",
    "\n",
    "## Add items of a list at the end of the list\n",
    "DC.extend(DC_2000)\n",
    "print(DC)\n",
    "\n",
    "## And it is equivalent to just contenating list\n",
    "DC += DC_2000\n",
    "print(DC)\n"
   ]
  },
  {
   "cell_type": "code",
   "execution_count": 36,
   "metadata": {},
   "outputs": [
    {
     "name": "stdout",
     "output_type": "stream",
     "text": [
      "['Beyoncé Knowles', 'Kelly Rowland', 'LaTavia Roberson', 'LeToya Luckett', 'Michelle Williams', 'Michelle Williams', 'Farrah Franklin']\n"
     ]
    }
   ],
   "source": [
    "## Remove a fist occurance of an item from the list\n",
    "DC.remove('Farrah Franklin')\n",
    "\n",
    "print(DC)"
   ]
  },
  {
   "cell_type": "code",
   "execution_count": 37,
   "metadata": {},
   "outputs": [
    {
     "data": {
      "text/plain": [
       "4"
      ]
     },
     "execution_count": 37,
     "metadata": {},
     "output_type": "execute_result"
    }
   ],
   "source": [
    "## Return an index of the first occurance of the item\n",
    "DC.index('Michelle Williams')"
   ]
  },
  {
   "cell_type": "code",
   "execution_count": 38,
   "metadata": {},
   "outputs": [
    {
     "data": {
      "text/plain": [
       "'Farrah Franklin'"
      ]
     },
     "execution_count": 38,
     "metadata": {},
     "output_type": "execute_result"
    }
   ],
   "source": [
    "## Remove and return the item at an index i in the list\n",
    "## By defualt i is -1\n",
    "DC.pop()"
   ]
  },
  {
   "cell_type": "code",
   "execution_count": 40,
   "metadata": {},
   "outputs": [
    {
     "name": "stdout",
     "output_type": "stream",
     "text": [
      "['Beyoncé Knowles', 'Kelly Rowland', 'LaTavia Roberson', 'LeToya Luckett', 'Michelle Williams', 'Michelle Williams']\n"
     ]
    }
   ],
   "source": [
    "## Sort the elments of the list in ascending order\n",
    "DC.sort()\n",
    "\n",
    "print(DC)"
   ]
  },
  {
   "cell_type": "code",
   "execution_count": 41,
   "metadata": {},
   "outputs": [
    {
     "name": "stdout",
     "output_type": "stream",
     "text": [
      "['Michelle Williams', 'Michelle Williams', 'LeToya Luckett', 'LaTavia Roberson', 'Kelly Rowland', 'Beyoncé Knowles']\n"
     ]
    }
   ],
   "source": [
    "## Reverse the order of the elements in L\n",
    "DC.reverse()\n",
    "\n",
    "print(DC)"
   ]
  },
  {
   "cell_type": "markdown",
   "metadata": {},
   "source": [
    "Write a function that takes two lists L1 and L2 and removes any element from L1 that also occurs in L2. **Hint**: use a `for-loop` and `in` operator.  "
   ]
  },
  {
   "cell_type": "code",
   "execution_count": 42,
   "metadata": {},
   "outputs": [],
   "source": [
    "def remove_dups(L1, L2):\n",
    "\t\"\"\"\n",
    "\tTakes two lists L1 and L2. Removes from L1 every element that also occurs in L2.\n",
    " \n",
    "\tArgs:\n",
    "\t\tL1 (list): non-empty list\n",
    "\t\tL2 (list): non-empty list\n",
    "\t\"\"\"\n",
    "\tfor item in L1:\n",
    "\t\tif item in L2:\n",
    "\t\t\tL1.remove(item)\n",
    "\n"
   ]
  },
  {
   "cell_type": "code",
   "execution_count": 45,
   "metadata": {},
   "outputs": [
    {
     "name": "stdout",
     "output_type": "stream",
     "text": [
      "['Jacek Graniecki', 'Mariusz Sobolewski', 'Jakub Sawicki']\n"
     ]
    }
   ],
   "source": [
    "TrzyHa = ['Jacek Graniecki', 'Michał Witak', 'Mariusz Sobolewski', 'Sebastian Imbierowicz', 'Jakub Sawicki']\n",
    "Remove = ['Michał Witak', 'Mariusz Sobolewski', 'Sebastian Imbierowicz', 'Jakub Sawicki']\n",
    "remove_dups(L1 = TrzyHa, L2 = Remove)\n",
    "print(TrzyHa)"
   ]
  },
  {
   "cell_type": "markdown",
   "metadata": {},
   "source": [
    "Is it something we expected? Not really. This task was somehow design for you to fail. We wanted to mutate the list `TrzyHa` so it contains only one name -- `Jacek Graniewski` but we failed miserably. Why is so? That is because during a `for loop` (no matter that we are iterating over elements) _Python_ uses an internal counter that is incremented at the end of each iteration. When the value of the counter reaches **the current length of the list**, the loop terminates. It is quite simple, right? However, when the list is mutated on the fly strange things happen. Let's examine what happened in our example iteration after iteration. At the beginign our lists look like the one below.\n",
    "\n",
    "![list-0](png/list-0.png)\n",
    "\n",
    "1. In the first iteration the internal counter was `0`. Under index `0` we have `Jacek Graniewski`. We examined if `Jacek Graniewski` is present also in the second list but since he is not we increment the counter. The list `TrzyHa` has not changed.\n",
    "\n",
    "![list-0](png/list-0.png)\n",
    "\n",
    "2. In the second iteration the itnernal counter was `1`. Under index `1` we have `Michał Witak`. We examine if he is present also in the second list. He is so we remove it from `TrzyHa` list and increment the counter. The list `TrzyHa` now looks as the following.\n",
    "\n",
    "![list-1](png/list-1.png)\n",
    "\n",
    "3. In the third iteration the internal counter is `2`. Under index `2` now we have `Sebastian Imbirowicz`. We examine if he is present also in the second list. He is so we remove him from `TrzyHa` list and icrement the counter. The list `TrzyHa` now looks as the following.\n",
    "\n",
    "![list-2](png/list-2.png)\n",
    "\n",
    "The counter reaches the current length of the list and terminates the `for-loop` and we end up with not what we expected. To avoid this kind of problems we should have iterated over the copy of the `TrzyHa` list. Easier said than done, right? Because we know that if we wrote the following it would not solve the issue, right?"
   ]
  },
  {
   "cell_type": "code",
   "execution_count": 49,
   "metadata": {},
   "outputs": [],
   "source": [
    "def remove_dups_copy(L1, L2):\n",
    "\t\"\"\"\n",
    "\tTakes two lists L1 and L2. Removes from L1 every element that also occurs in L2.\n",
    " \n",
    "\tArgs:\n",
    "\t\tL1 (list): non-empty list\n",
    "\t\tL2 (list): non-empty list\n",
    "\t\"\"\"\n",
    "\tL1_copy = L1\n",
    "\tfor item in L1_copy:\n",
    "\t\tif item in L2:\n",
    "\t\t\tL1.remove(item)"
   ]
  },
  {
   "cell_type": "code",
   "execution_count": 50,
   "metadata": {},
   "outputs": [
    {
     "name": "stdout",
     "output_type": "stream",
     "text": [
      "['Jacek Graniecki', 'Mariusz Sobolewski', 'Jakub Sawicki']\n"
     ]
    }
   ],
   "source": [
    "TrzyHa = ['Jacek Graniecki', 'Michał Witak', 'Mariusz Sobolewski', 'Sebastian Imbierowicz', 'Jakub Sawicki']\n",
    "Remove = ['Michał Witak', 'Mariusz Sobolewski', 'Sebastian Imbierowicz', 'Jakub Sawicki']\n",
    "remove_dups_copy(L1 = TrzyHa, L2 = Remove)\n",
    "print(TrzyHa)"
   ]
  },
  {
   "cell_type": "markdown",
   "metadata": {},
   "source": [
    "The problem would remain because L1_copy is not a new separate list but just an alias of L1. So how else we can copy a list? There are two ways: by slicing or using method copy."
   ]
  },
  {
   "cell_type": "code",
   "execution_count": 51,
   "metadata": {},
   "outputs": [
    {
     "name": "stdout",
     "output_type": "stream",
     "text": [
      "False\n"
     ]
    }
   ],
   "source": [
    "## Slicing\n",
    "TrzyHa_copy = TrzyHa[:]\n",
    "\n",
    "print(TrzyHa is TrzyHa_copy)"
   ]
  },
  {
   "cell_type": "code",
   "execution_count": 52,
   "metadata": {},
   "outputs": [
    {
     "name": "stdout",
     "output_type": "stream",
     "text": [
      "False\n"
     ]
    }
   ],
   "source": [
    "## Copy method\n",
    "TrzyHa_copy2 = TrzyHa.copy()\n",
    "\n",
    "print(TrzyHa is TrzyHa_copy2)"
   ]
  },
  {
   "cell_type": "markdown",
   "metadata": {},
   "source": [
    "Both described above methods produce a **shallow copy** of a list. Therefore, they create a new list and then insert the objects (not copies of the objects) of the list to be copied into the new list. However, if the list contains a mutable object you would want to make a **deep copy** which we are not going to cover right now.\n",
    "\n",
    "To fix the `remove_dups` function we just need to iterate over a shallow copy of the L1 list. It is an easy fix."
   ]
  },
  {
   "cell_type": "code",
   "execution_count": 53,
   "metadata": {},
   "outputs": [],
   "source": [
    "def remove_dups_copy(L1, L2):\n",
    "\t\"\"\"\n",
    "\tTakes two lists L1 and L2. Removes from L1 every element that also occurs in L2.\n",
    " \n",
    "\tArgs:\n",
    "\t\tL1 (list): non-empty list\n",
    "\t\tL2 (list): non-empty list\n",
    "\t\"\"\"\n",
    "\tL1_copy = L1[:]\n",
    "\tfor item in L1_copy:\n",
    "\t\tif item in L2:\n",
    "\t\t\tL1.remove(item)"
   ]
  },
  {
   "cell_type": "code",
   "execution_count": null,
   "metadata": {},
   "outputs": [
    {
     "name": "stdout",
     "output_type": "stream",
     "text": [
      "['Jacek Graniecki']\n"
     ]
    }
   ],
   "source": [
    "TrzyHa = ['Jacek Graniecki', 'Michał Witak', 'Mariusz Sobolewski', 'Sebastian Imbierowicz', 'Jakub Sawicki']\n",
    "Remove = ['Michał Witak', 'Mariusz Sobolewski', 'Sebastian Imbierowicz', 'Jakub Sawicki']\n",
    "remove_dups_copy(L1 = TrzyHa, L2 = Remove)\n",
    "print(TrzyHa)"
   ]
  },
  {
   "cell_type": "markdown",
   "metadata": {},
   "source": [
    "### List comprehension\n",
    "\n",
    "Very often in _Python_ you would see a very concise way of producing a list. It is called a list comprehension and is baisically a for loop nested in the list. Let's consider the following code."
   ]
  },
  {
   "cell_type": "code",
   "execution_count": 55,
   "metadata": {},
   "outputs": [
    {
     "name": "stdout",
     "output_type": "stream",
     "text": [
      "[2, 4, 6, 8, 10, 12, 14, 16, 18, 20, 22, 24, 26, 28, 30, 32, 34, 36, 38, 40, 42, 44, 46, 48, 50, 52, 54, 56, 58, 60, 62, 64, 66, 68, 70, 72, 74, 76, 78, 80, 82, 84, 86, 88, 90, 92, 94, 96, 98]\n"
     ]
    }
   ],
   "source": [
    "L1 = []\n",
    "for num in range(2,100):\n",
    "    if num % 2 == 0:\n",
    "        L1.append(num)\n",
    "        \n",
    "print(L1)"
   ]
  },
  {
   "cell_type": "markdown",
   "metadata": {},
   "source": [
    "This was quite simple, right? We just iterated over numbers between `2` and `100` and appended to our list only the ones that are even.  It is a perfectly fine solution. However, in _Python_ it is possible to write it down in one line using list comprehension."
   ]
  },
  {
   "cell_type": "code",
   "execution_count": 57,
   "metadata": {},
   "outputs": [
    {
     "name": "stdout",
     "output_type": "stream",
     "text": [
      "[2, 4, 6, 8, 10, 12, 14, 16, 18, 20, 22, 24, 26, 28, 30, 32, 34, 36, 38, 40, 42, 44, 46, 48, 50, 52, 54, 56, 58, 60, 62, 64, 66, 68, 70, 72, 74, 76, 78, 80, 82, 84, 86, 88, 90, 92, 94, 96, 98]\n"
     ]
    }
   ],
   "source": [
    "## List comprehension\n",
    "L1 = [ num for num in range(2,100) if num % 2 == 0 ]\n",
    "print(L1)"
   ]
  },
  {
   "cell_type": "markdown",
   "metadata": {},
   "source": [
    "The result is exactly the same but at first list comprehensions might be a bit tricky to understand because the results is written first. In general it takes practice to get comfortable with them but they might be quite useful. For example, if we were to find all prime numbers between `2` and `100` we could have written something like that."
   ]
  },
  {
   "cell_type": "code",
   "execution_count": 61,
   "metadata": {},
   "outputs": [
    {
     "name": "stdout",
     "output_type": "stream",
     "text": [
      "[2, 3, 4, 5, 7, 11, 13, 17, 19, 23, 29, 31, 37, 41, 43, 47, 53, 59, 61, 67, 71, 73, 79, 83, 89, 97]\n"
     ]
    }
   ],
   "source": [
    "primes = []\n",
    "for x in range(2,100):\n",
    "    is_prime = True\n",
    "    for y in range(3,x):\n",
    "        if x%y == 0:\n",
    "            is_prime = False\n",
    "    if is_prime:\n",
    "        primes.append(x)\n",
    "\n",
    "print(primes)"
   ]
  },
  {
   "cell_type": "code",
   "execution_count": 66,
   "metadata": {},
   "outputs": [
    {
     "name": "stdout",
     "output_type": "stream",
     "text": [
      "[2, 3, 4, 5, 7, 11, 13, 17, 19, 23, 29, 31, 37, 41, 43, 47, 53, 59, 61, 67, 71, 73, 79, 83, 89, 97]\n"
     ]
    }
   ],
   "source": [
    "## or something like that\n",
    "primes = [ x for x in range(2, 100) if all( x%y != 0 for y in range(3, x)) ]\n",
    "\n",
    "print(primes)"
   ]
  },
  {
   "cell_type": "code",
   "execution_count": null,
   "metadata": {},
   "outputs": [],
   "source": []
  }
 ],
 "metadata": {
  "interpreter": {
   "hash": "bc8a0b2585560af3f1d798452673f163e266b8b1719efa57a26b24d73c90742c"
  },
  "kernelspec": {
   "display_name": "Python 3.9.7 ('ppss')",
   "language": "python",
   "name": "python3"
  },
  "language_info": {
   "codemirror_mode": {
    "name": "ipython",
    "version": 3
   },
   "file_extension": ".py",
   "mimetype": "text/x-python",
   "name": "python",
   "nbconvert_exporter": "python",
   "pygments_lexer": "ipython3",
   "version": "3.9.7"
  },
  "orig_nbformat": 4
 },
 "nbformat": 4,
 "nbformat_minor": 2
}
