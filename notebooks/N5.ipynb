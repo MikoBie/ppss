{
 "cells": [
  {
   "cell_type": "markdown",
   "metadata": {},
   "source": [
    "# Tuples, Lists, Aliasing, Mutability, and Cloning\n",
    "\n",
    "So far we mostly talked on different types of objects:\n",
    "\n",
    "* integers\n",
    "* floats\n",
    "* booleans\n",
    "* None\n",
    "* strings\n",
    "\n",
    "In contrast to other types, strings are structured. That means that we can use indexing to extract individual characters or slice them to extract substrings. No the time has come (unlike Winter) to talk about other types in _Python_ that are structured.\n",
    "\n",
    "## Tuples\n",
    "\n",
    "We already have seen tuples when we were writing test functions. In general, you might thing about them as a generalization of a string. The only difference here is that the elements not neccessarly need to be characters. Actually, the individual elements might be of any type and need not be of the same type as each other. So let's see what they look in practice."
   ]
  },
  {
   "cell_type": "code",
   "execution_count": 1,
   "metadata": {},
   "outputs": [
    {
     "name": "stdout",
     "output_type": "stream",
     "text": [
      "()\n",
      "(1, 'two', 3)\n"
     ]
    }
   ],
   "source": [
    "## Let's define a couple of tuple\n",
    "t1 = ()\n",
    "t2 = (1, 'two', 3)\n",
    "\n",
    "print(t1)\n",
    "print(t2)"
   ]
  },
  {
   "cell_type": "markdown",
   "metadata": {},
   "source": [
    "More or less you can perform the same type of operations on tuples you could have on strings (IMPORTANT: they don't have the same methods defined on them). There is only one but. If you would like to create a tuple that contains only one value it is not enough to just put an object in braces you have to add extra comma."
   ]
  },
  {
   "cell_type": "code",
   "execution_count": 5,
   "metadata": {},
   "outputs": [
    {
     "name": "stdout",
     "output_type": "stream",
     "text": [
      "<class 'tuple'>\n",
      "<class 'int'>\n"
     ]
    }
   ],
   "source": [
    "## Let's define a tuple with only one element\n",
    "t1 = (1,)\n",
    "print(type(t1))\n",
    "\n",
    "## And what would happen without this comma?\n",
    "t1 = (1)\n",
    "print(type(t1))"
   ]
  },
  {
   "cell_type": "markdown",
   "metadata": {},
   "source": [
    "Other than that tuples can be concatenated, indexed, and sliced."
   ]
  },
  {
   "cell_type": "code",
   "execution_count": 6,
   "metadata": {},
   "outputs": [
    {
     "data": {
      "text/plain": [
       "(1, 'two', 3, (1, 'two', 3), 3.25)"
      ]
     },
     "execution_count": 6,
     "metadata": {},
     "output_type": "execute_result"
    }
   ],
   "source": [
    "## Let's define a couple of tuples\n",
    "t1 = (1, 'two', 3)\n",
    "t2 = (t1, 3.25) ## tuples can contain other tuples\n",
    "\n",
    "## Contenacation\n",
    "t1 + t2"
   ]
  },
  {
   "cell_type": "code",
   "execution_count": 7,
   "metadata": {},
   "outputs": [
    {
     "data": {
      "text/plain": [
       "(1, 'two', 3)"
      ]
     },
     "execution_count": 7,
     "metadata": {},
     "output_type": "execute_result"
    }
   ],
   "source": [
    "## Indexing\n",
    "(t1 + t2)[3]"
   ]
  },
  {
   "cell_type": "code",
   "execution_count": 8,
   "metadata": {},
   "outputs": [
    {
     "data": {
      "text/plain": [
       "(3, (1, 'two', 3), 3.25)"
      ]
     },
     "execution_count": 8,
     "metadata": {},
     "output_type": "execute_result"
    }
   ],
   "source": [
    "## Slicing\n",
    "(t1 + t2)[2:5]"
   ]
  },
  {
   "cell_type": "markdown",
   "metadata": {},
   "source": [
    "Also similarly as with strings you can iterate over elements of a tuple, for example"
   ]
  },
  {
   "cell_type": "code",
   "execution_count": 9,
   "metadata": {},
   "outputs": [
    {
     "name": "stdout",
     "output_type": "stream",
     "text": [
      "(1, 'two', 3)\n",
      "((1, 'two', 3), 3.25)\n",
      "1\n"
     ]
    }
   ],
   "source": [
    "t3 = (t1,t2,1)\n",
    "\n",
    "for item in t3:\n",
    "    print(item)"
   ]
  },
  {
   "cell_type": "markdown",
   "metadata": {},
   "source": [
    "Let's now consider the following function. It returns a string that is an intersection of two strings."
   ]
  },
  {
   "cell_type": "code",
   "execution_count": 29,
   "metadata": {},
   "outputs": [
    {
     "data": {
      "text/plain": [
       "'a'"
      ]
     },
     "execution_count": 29,
     "metadata": {},
     "output_type": "execute_result"
    }
   ],
   "source": [
    "def intersect_str(s1, s2):\n",
    "    \"\"\"\n",
    "    Returns a string containing charachters that are in both s1 and s2.\n",
    "    Args:\n",
    "    \ts1 (str): non-empty string\n",
    "     \ts2 (str): non-empty string\n",
    "\t\n",
    "\tReturns:\n",
    "\t\tresult (str): contains characters that are in both s1 and s2.\n",
    "\t\"\"\"\n",
    "    result = ''\n",
    "    if len(s2) < len(s1):\n",
    "        s1, s2 = s2, s1\n",
    "    for s in s1:\n",
    "        if s in s2:\n",
    "            result += s\n",
    "    return result\n",
    "\t\n",
    "intersect_str('aaaaak', 'a')\n",
    "      \n",
    "     "
   ]
  },
  {
   "cell_type": "markdown",
   "metadata": {},
   "source": [
    "Now let's try to write a similar function but for tuples."
   ]
  },
  {
   "cell_type": "code",
   "execution_count": 28,
   "metadata": {},
   "outputs": [],
   "source": [
    "def intersect_tuple(t1, t2):\n",
    "    \"\"\"\n",
    "    Returns a tuple containing elements that are in both t1 and t2.\n",
    "    Args:\n",
    "    \tt1 (tuple): non-empty tuple\n",
    "     \tt2 (tuple): non-empty tuple\n",
    "\t\n",
    "\tReturns:\n",
    "\t\tresult (tuple): contains elements that are in both t1 and t2.\n",
    "\t\"\"\"\n",
    "\t\n",
    "    "
   ]
  },
  {
   "cell_type": "markdown",
   "metadata": {},
   "source": [
    "### Multiple assigments\n",
    "\n",
    "In HW2, we sued multiple assigment to initialize at the same time two variables. It looked something like that.\n",
    "```python\n",
    "low, num_guesses = 0, 0\n",
    "```\n",
    "It was kind of straightforward but what actually happened was that _Python_ intepreted both sides of the assignment sign as tuples. It would be exactly the same if we had.\n",
    "```python\n",
    "(low, num_guesses) = (0,0)\n",
    "```\n",
    "But out of convinience we don't write like that. What is more we can use the same assignment methods with strings, for example. "
   ]
  },
  {
   "cell_type": "code",
   "execution_count": 47,
   "metadata": {},
   "outputs": [
    {
     "name": "stdout",
     "output_type": "stream",
     "text": [
      "x = x\n",
      "y = y\n",
      "z = z\n"
     ]
    }
   ],
   "source": [
    "x, y, z = 'xyz'\n",
    "\n",
    "print(f'x = {x}')\n",
    "print(f'y = {y}')\n",
    "print(f'z = {z}')"
   ]
  },
  {
   "cell_type": "markdown",
   "metadata": {},
   "source": [
    "This mechanism of multiple assignments is of particular convenience when used with functions that return multiplie value. Consider the following function."
   ]
  },
  {
   "cell_type": "code",
   "execution_count": 51,
   "metadata": {},
   "outputs": [],
   "source": [
    "def find_extreme_divisors(n1, n2):\n",
    "\t\"\"\"\n",
    "\tAssumes that n1 and n2 are positive integers and returns the smalles common\n",
    "\tdivisor > 1 and the largest common divisor of n1 and n2. If no common divisor\n",
    "\tother than , returns (None, None)\n",
    "\n",
    "\tArgs:\n",
    "\t\tn1 (int): positive integers \n",
    "\t\tn2 (int): positive integers\n",
    "\n",
    "\tReturns:\n",
    "\t\tmin_val, max_val (tuple): it returns two integers > 1 or pair of None\n",
    "\t\"\"\"\n",
    "\tmin_val, max_val = None, None\n",
    "\tfor val in range(2, min(n1, n2) + 1):\n",
    "\t\tif n1 % val == 0 and n2 % val == 0:\n",
    "\t\t\tif min_val == None:\n",
    "\t\t\t\tmin_val = val\n",
    "\t\t\tmax_val = val\n",
    "\treturn min_val, max_val\n",
    "\n",
    "smallest_divisor, largest_divisor = find_extreme_divisors(100,200)\n"
   ]
  },
  {
   "cell_type": "markdown",
   "metadata": {},
   "source": [
    "Write a function that for integers bigger than 2 returns the smallest and biggest divisor (look at [HW2](https://github.com/MikoBie/ppss/blob/main/notebooks/HW2.ipynb) for reference). If an integer is a prime it should return `(None, None)` and print a message that the number was a prime."
   ]
  },
  {
   "cell_type": "code",
   "execution_count": 54,
   "metadata": {},
   "outputs": [],
   "source": [
    "def find_divisor(n1):\n",
    "\t\"\"\"\n",
    "\tAssumes that n1 is an integer bigger than 2 and returns its smalles divisor > 1\n",
    "\tand the largest divisor. If n1 is a prime it prints the message 'n1 is a prime'\n",
    "\tand return (None, None).\n",
    "\n",
    "\n",
    "\tArgs:\n",
    "\t\tn1 (int): integer bigger than 2\n",
    "\t\n",
    "\tReturns:\n",
    "\n",
    "\tsmallest_divisor, largest_divisor: it returns two integers > 1 or a pair of None\n",
    "\t\"\"\""
   ]
  },
  {
   "cell_type": "markdown",
   "metadata": {},
   "source": [
    "## Lists\n",
    "\n",
    "I would say the most important data structure in _Python_ is lists. They are similar to tuples because a list is an ordered sequence of values, where each value is identified by an index. However, instead of braces you use square braces, for example."
   ]
  },
  {
   "cell_type": "code",
   "execution_count": 59,
   "metadata": {},
   "outputs": [
    {
     "name": "stdout",
     "output_type": "stream",
     "text": [
      "[]\n",
      "['I did it all', 4, '<3']\n",
      "[['I did it all', 4, '<3']]\n"
     ]
    }
   ],
   "source": [
    "## An empty list\n",
    "L1 = []\n",
    "## \n",
    "L2 = ['I did it all', 4, '<3']\n",
    "## You don't have to use extra comma if a list has a single value but if you do nothing wrong happens\n",
    "L3 = [L2,]\n",
    "\n",
    "print(L1)\n",
    "print(L2)\n",
    "print(L3)"
   ]
  },
  {
   "cell_type": "markdown",
   "metadata": {},
   "source": [
    "Similarly to strings and tuples we can index, slice and iterate over lists."
   ]
  },
  {
   "cell_type": "code",
   "execution_count": 62,
   "metadata": {},
   "outputs": [
    {
     "name": "stdout",
     "output_type": "stream",
     "text": [
      "3\n",
      "4\n",
      "3\n"
     ]
    }
   ],
   "source": [
    "## Let's define a couple of lists\n",
    "L1 = [1, 2, 3]\n",
    "L2 = L1[::-1]\n",
    "\n",
    "for i in range(len(L1)):\n",
    "    print(L1[i] * L2[i])\n"
   ]
  },
  {
   "cell_type": "markdown",
   "metadata": {},
   "source": [
    "And now comes the most important distinction between the data structure we discussed and the one that are ahead of us (including lists). Tuples and strings are immutable while lists are mutable. What does it mean and what consequances it has? Objects that are immutable when they are created they can't be changed afterward. On the other hand, mutable types might be modified after they were created. For now it sounds simple but let's see some implications of it."
   ]
  },
  {
   "cell_type": "code",
   "execution_count": 99,
   "metadata": {},
   "outputs": [],
   "source": [
    "OneD = ['Niall Horan', 'Liam Payne', 'Harry Styles', 'Louis Tomlinson', 'Zayn Malik']\n",
    "BTS = ['Jin', 'Suga', 'J-Hope', 'RM', 'Jimin', 'V', 'Jungkook']"
   ]
  },
  {
   "cell_type": "code",
   "execution_count": 100,
   "metadata": {},
   "outputs": [],
   "source": [
    "BBands = [OneD, BTS]\n",
    "BBands1 = [['Niall Horan', 'Liam Payne', 'Harry Styles', 'Louis Tomlinson', 'Zayn Malik'],['Jin', 'Suga', 'J-Hope', 'RM', 'Jimin', 'V', 'Jungkook']]"
   ]
  },
  {
   "cell_type": "markdown",
   "metadata": {},
   "source": [
    "So we created two lists `Bands` and `Bands1` and assigned variables to them. The elements of these lists are themselves lists. So far so good. Let's print them and check whether they are the same."
   ]
  },
  {
   "cell_type": "code",
   "execution_count": 101,
   "metadata": {},
   "outputs": [
    {
     "name": "stdout",
     "output_type": "stream",
     "text": [
      "BoysBands = [['Niall Horan', 'Liam Payne', 'Harry Styles', 'Louis Tomlinson', 'Zayn Malik'], ['Jin', 'Suga', 'J-Hope', 'RM', 'Jimin', 'V', 'Jungkook']]\n",
      "BoysBands1 = [['Niall Horan', 'Liam Payne', 'Harry Styles', 'Louis Tomlinson', 'Zayn Malik'], ['Jin', 'Suga', 'J-Hope', 'RM', 'Jimin', 'V', 'Jungkook']]\n",
      "True\n"
     ]
    }
   ],
   "source": [
    "print(f'BoysBands = {BBands}')\n",
    "print(f'BoysBands1 = {BBands1}')\n",
    "print(BBands == BBands1)"
   ]
  },
  {
   "cell_type": "markdown",
   "metadata": {},
   "source": [
    "At the first glance it seems that both lists are bound to the same value. But [your eyes can decieve you, don't trust them](https://www.youtube.com/watch?v=oDIrOE_fnl8). The image below shows that `Bands` and `Bands1` are bound to different objects. A simple way to test for object equality is performed using `is` opertor. Let's now see what it returns."
   ]
  },
  {
   "cell_type": "code",
   "execution_count": 102,
   "metadata": {},
   "outputs": [
    {
     "name": "stdout",
     "output_type": "stream",
     "text": [
      "False\n"
     ]
    }
   ],
   "source": [
    "print(BBands1 is BBands)"
   ]
  },
  {
   "cell_type": "markdown",
   "metadata": {},
   "source": [
    "This is pretty cool but why it matters? Because it has grave consequences on lists. Let's use an simple this horrible morning of March 25th 2015 when [Malik announced that was leaving One Direction](https://www.facebook.com/onedirectionmusic/posts/869295683125227)."
   ]
  },
  {
   "cell_type": "code",
   "execution_count": 103,
   "metadata": {},
   "outputs": [
    {
     "name": "stdout",
     "output_type": "stream",
     "text": [
      "One Direction without Zayn Malik ['Niall Horan', 'Liam Payne', 'Harry Styles', 'Louis Tomlinson']\n",
      "Boys Bands = [['Niall Horan', 'Liam Payne', 'Harry Styles', 'Louis Tomlinson'], ['Jin', 'Suga', 'J-Hope', 'RM', 'Jimin', 'V', 'Jungkook']]\n",
      "Boys Bands1 = [['Scary Spice', 'Sport Spice', 'Baby Spice', 'Ginger Spice', 'Posh Spice'], ['Jin', 'Suga', 'J-Hope', 'RM', 'Jimin', 'V', 'Jungkook']]\n"
     ]
    }
   ],
   "source": [
    "## This method on a list removes an element of the lisst\n",
    "OneD.remove('Zayn Malik')\n",
    "\n",
    "## Let's see what happend with our lists\n",
    "print(f'One Direction without Zayn Malik {OneD}')\n",
    "print(f'Boys Bands = {BBands}')\n",
    "print(f'Boys Bands1 = {Bands1}')\n"
   ]
  },
  {
   "cell_type": "markdown",
   "metadata": {},
   "source": [
    "So what happened here? Zayn Malik was not only removed from the squad (`OneD`) but also from `BBands`. However, he was not removed from `BBands1`. Why is so? That is because method `OneD.remove('Zayn Malik')` muttates the list `OneD` and in `BBands` we don't have a new list that contains elements of `OneD` but rather reference to it. Therefore, whenever we change `OneD` it will have an effect on `BBands` as well. In _Python_ it is called aliasing. This means that there are more than one path to the same object. One path is through variable `OneD` and the second through first element of the list `BBands`. We can mutate the object via either path, and the effect of the mutation will be visisble throgh both paths."
   ]
  }
 ],
 "metadata": {
  "interpreter": {
   "hash": "bc8a0b2585560af3f1d798452673f163e266b8b1719efa57a26b24d73c90742c"
  },
  "kernelspec": {
   "display_name": "Python 3.9.7 ('ppss')",
   "language": "python",
   "name": "python3"
  },
  "language_info": {
   "codemirror_mode": {
    "name": "ipython",
    "version": 3
   },
   "file_extension": ".py",
   "mimetype": "text/x-python",
   "name": "python",
   "nbconvert_exporter": "python",
   "pygments_lexer": "ipython3",
   "version": "3.9.7"
  },
  "orig_nbformat": 4
 },
 "nbformat": 4,
 "nbformat_minor": 2
}
