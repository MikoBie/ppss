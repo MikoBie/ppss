{
 "cells": [
  {
   "cell_type": "markdown",
   "metadata": {},
   "source": [
    "# Opeartions on strings\n",
    "\n",
    "So far we performed only very basic operations on strings, like:\n",
    "\n",
    "* `Addition`\n",
    "* `Multiplication`\n",
    "\n",
    "We established that while you can multiply a string by a different type (`int` or `bool`) you can only add strings to one another. If you try adding an integer, float, or boolean type you will get an error. One way of dealing with that issue would be to just convert other types to strings. It is doable. We can just use a function `str()` which converts any primitive object to a string, for example:"
   ]
  },
  {
   "cell_type": "code",
   "execution_count": null,
   "metadata": {},
   "outputs": [],
   "source": [
    "## Let's define some variables\n",
    "s1 = \"Bob's your uncle\"\n",
    "f1 = 3.5\n",
    "i1 = 3\n",
    "b1 = True\n",
    "\n",
    "s1 + str(f1) + str(i1) + str(b1)"
   ]
  },
  {
   "cell_type": "markdown",
   "metadata": {},
   "source": [
    "However, fortunately, there are much better ways of doing it. Let's imagine for a moment that you have this computer program that returns the results of the IQ test. It simply returns a variable `IQ` which is of type `int`. You are a Psychologist or Psychologist-in-the-making, so you know that giving just a plain number is not a wise or ethical solution. Therefore, you would like to print out a more human-readable elaborated feedback. Based on the material we covered so far you simply have three options:\n",
    "\n",
    "\n",
    "**Option 1.** `if-statements` -- probably the worst solution would be to check what is the value of `IQ` and print out an adequate message."
   ]
  },
  {
   "cell_type": "code",
   "execution_count": null,
   "metadata": {},
   "outputs": [],
   "source": [
    "## Let's define IQ first\n",
    "IQ = 2\n",
    "\n",
    "## Option 1\n",
    "if IQ == 0:\n",
    "    print(\n",
    "        \"Congratulations, your IQ is 0. We hope you are having a great day with that knowledge.\"\n",
    "    )\n",
    "elif IQ == 1:\n",
    "    print(\n",
    "        \"Congratulations, your IQ is 1. We hope you are having a great day with that knowledge.\"\n",
    "    )\n",
    "elif IQ == 2:\n",
    "    print(\n",
    "        \"Congratulations, your IQ is 2. We hope you are having a great day with that knowledge.\"\n",
    "    )\n",
    "elif IQ == 3:\n",
    "    print(\n",
    "        \"Congratulations, your IQ is 3. We hope you are having a great day with that knowledge.\"\n",
    "    )\n",
    "## And so on"
   ]
  },
  {
   "cell_type": "markdown",
   "metadata": {},
   "source": [
    "**Option 2.** `print()` -- you probably realized yourself that you can print multiple things at the same time if you separate them by commas. So we can just use directly our variable `IQ` surrounded by some text."
   ]
  },
  {
   "cell_type": "code",
   "execution_count": null,
   "metadata": {},
   "outputs": [],
   "source": [
    "## Option 2\n",
    "print(\n",
    "    \"Congratulations, your IQ is\",\n",
    "    IQ,\n",
    "    \". We hope you are having a great day with that knowledge.\",\n",
    ")"
   ]
  },
  {
   "cell_type": "markdown",
   "metadata": {},
   "source": [
    "**Option 3.** `type cast` -- you can simply convert `int` into a `str` and afterward glue (add) them all together."
   ]
  },
  {
   "cell_type": "code",
   "execution_count": null,
   "metadata": {},
   "outputs": [],
   "source": [
    "## Option 3\n",
    "message = (\n",
    "    \"Congratulations, your IQ is \"\n",
    "    + str(IQ)\n",
    "    + \". We hope you are having a great day with that knowledge.\"\n",
    ")\n",
    "print(message)"
   ]
  },
  {
   "cell_type": "markdown",
   "metadata": {},
   "source": [
    "I would say the last option is the closest to the most convenient. In _Python_ we have multiple options on how to do string interpolation efficiently. However, we are going to discuss only one way -- `f-strings` method.\n",
    "\n",
    "An `f-string` consists of the character `f` followed by a formatted string literal. In simple words, a formatted string literal is a string that contains curly braces whose content is evaluated at runtime and automatically converted to strings. For example,"
   ]
  },
  {
   "cell_type": "code",
   "execution_count": null,
   "metadata": {},
   "outputs": [],
   "source": [
    "## Let's define IQ variable again\n",
    "IQ = 25\n",
    "f\"Congratulations, your IQ is {IQ}. We hope you are having a great day with this knowledge\""
   ]
  },
  {
   "cell_type": "markdown",
   "metadata": {},
   "source": [
    "It is simple as that. Obviously, there are a few caveats of `f-strings` but they are not that difficult to memorize"
   ]
  },
  {
   "cell_type": "code",
   "execution_count": null,
   "metadata": {},
   "outputs": [],
   "source": [
    "## You can compute somthing on the fly using f-strings\n",
    "number = 3\n",
    "f\"The square root of {number} is {number ** (1/2)}\""
   ]
  },
  {
   "cell_type": "markdown",
   "metadata": {},
   "source": [
    "The expression inside the `f-string` can contain modifiers that control the appearence of the output string. For example, you can truncate the output to the number of digits you would like."
   ]
  },
  {
   "cell_type": "code",
   "execution_count": null,
   "metadata": {},
   "outputs": [],
   "source": [
    "## Truncate the output\n",
    "f\"The square root of {number} is {number ** (1/2): .4f}\""
   ]
  },
  {
   "cell_type": "markdown",
   "metadata": {},
   "source": [
    "Strings in _Python_ have many useful methods defined on them but we are going to talk about them in two weeks when we will talk about complex data types. However, at this point, it is probably worth mentioning that you can easily convert a string to lower or upper case letters."
   ]
  },
  {
   "cell_type": "code",
   "execution_count": null,
   "metadata": {},
   "outputs": [],
   "source": [
    "## Getting upper case letters\n",
    "s1 = \"don't scream at me\"\n",
    "s1.upper()"
   ]
  },
  {
   "cell_type": "code",
   "execution_count": null,
   "metadata": {},
   "outputs": [],
   "source": [
    "## Getting lower case letters\n",
    "s2 = \"DON'T WHISPER\"\n",
    "s2.lower()"
   ]
  },
  {
   "cell_type": "markdown",
   "metadata": {},
   "source": [
    "## Exercise\n",
    "\n",
    "Write a simple program that would ask an user for an even number. It should check if the user followed the instruction. If the user failed to deliver an even number it should ask again politetly and with every mistake it should get more irritated and start screaming. For example:\n",
    "\n",
    "```bash\n",
    "'Hey, can you give me an even number?'\n",
    "> 33\n",
    "'Thank you, but 33 is an odd number. Can you please give me an even number?'\n",
    "> 33\n",
    "'THANK YOU, BUT 33 IS AN ODD NUMBER. CAN YOU PLEASE GIVE ME AN EVEN NUMBER?'\n",
    "> 33\n",
    "'THANK YOU, BUT 33 IS AN ODD NUMBER. CAN YOU PLEASE GIVE ME AN EVEN NUMBER?'\n",
    "> 22\n",
    "'Thank you, 22 is indeed even. 22 divided by 2 is 11.\n",
    "```"
   ]
  },
  {
   "cell_type": "code",
   "execution_count": null,
   "metadata": {},
   "outputs": [],
   "source": [
    "## Your solution"
   ]
  },
  {
   "attachments": {},
   "cell_type": "markdown",
   "metadata": {},
   "source": [
    "## Guess and Check algorithms\n",
    "\n",
    "In the last task of your homework most of you, actually all of you had a version of the following algorithm, which obviously was the right answer:\n",
    "\n",
    "```python\n",
    "## We define the sum outside the loop\n",
    "sum = 2\n",
    "## We start the first loop from 3 because it was what the instruction said\n",
    "for num in range(3,100):\n",
    "        ## This is the most fundamental part. We iterate over every single number smaller than num\n",
    "\tfor div in range(2,num):\n",
    "\t\t## We check whether num is divible by div\n",
    "\t\tif num % div == 0:\n",
    "\t\t\t## If so we bind num to div\n",
    "\t\t\tdiv = num\n",
    "\t\t\t## and break the loop\n",
    "\t\t\tbreak\n",
    "\t## if div is not num or div != num it means it is a prime number\n",
    "\tif div is not num:\n",
    "\t\t## We add up prime numbers\n",
    "\t\tsum += num\n",
    "print(sum)\n",
    "```\n",
    "\n",
    "Let's focus on the inner `for-loop`.\n",
    "\n",
    "```python\n",
    "for div in range(2,num):\n",
    "\tif num % div == 0:\n",
    "\t\tdiv = num\n",
    "\t\tbreak\n",
    "```\n",
    "We check whether `num` is divisible by an integer between `2` and `num-1`. If the remainder is not `0` then `num` is a prime. That is quite simple and you all reached that conclusion. However, if you think about it we check a lot of unnecessary possibilities, for example, if the number is not divisible by 2 it is neither by 4, 8, or any even number. Let's see it in a simpler example.\n",
    "\n",
    "The code below asks for an integer and checks whether it is a prime. If it is not it prints out the smallest divisor."
   ]
  },
  {
   "cell_type": "code",
   "execution_count": null,
   "metadata": {},
   "outputs": [],
   "source": [
    "## Get the keyboard input\n",
    "x = int(input(\"Enter an integer greater than 2: \"))\n",
    "## This is so-called control variable that we will use in loop\n",
    "## but we want to define it outside\n",
    "smallest_divisor = None\n",
    "\n",
    "## Again we iterate over all numbers smaller than x and bigger than 2\n",
    "for guess in range(2, x):\n",
    "    ## Test of primarily\n",
    "    if x % guess == 0:\n",
    "        ## It assigns the guess to the smallest divisor and breaks the loop\n",
    "        smallest_divisor = guess\n",
    "        break\n",
    "## If the control variable is not None x is not a prime number\n",
    "## Therefore, it has the smallest divisor\n",
    "if smallest_divisor is not None:\n",
    "    print(f\"Smallest divisor of {x} is {smallest_divisor}\")\n",
    "else:\n",
    "    print(f\"{x} is a prime number\")"
   ]
  },
  {
   "cell_type": "markdown",
   "metadata": {},
   "source": [
    "How can we improve this code?\n",
    "\n",
    "We can simply only check whether the number is divisible by 2 and later check only odd numbers."
   ]
  },
  {
   "cell_type": "code",
   "execution_count": null,
   "metadata": {},
   "outputs": [],
   "source": [
    "x = int(input(\"Enter an integer greater than 2: \"))\n",
    "smallest_divisor = None\n",
    "\n",
    "## Check whether x is divisible by 2\n",
    "if x % 2 == 0:\n",
    "    smallest_divisor = 2\n",
    "else:\n",
    "    ## Iterate through only odd numbers\n",
    "    for guess in range(3, x, 2):\n",
    "        if x % guess == 0:\n",
    "            smallest_divisor = guess\n",
    "            break\n",
    "if smallest_divisor is not None:\n",
    "    print(f\"Smallest divisor of {x} is {smallest_divisor}\")\n",
    "else:\n",
    "    print(f\"{x} is a prime number\")"
   ]
  },
  {
   "cell_type": "markdown",
   "metadata": {},
   "source": [
    "If you think about the program above although it is much better than the previous one in terms of efficiency it is still not perfect. It checks many numbers unnecessary, for example, what is the point of checking `9`, `15`, `21`, and so on if we know that `x` is not divisible by `3`? Actually, we should check only prime numbers, right?\n",
    "\n",
    "But we are not going to improve this code because it is not our main concern. These kinds of algorithms that go through all possibilities until they get the right answer or exhaust the space of possibilities are called **exhaustive enumeration**. Although at first glance this might sound like a very naive way of solving a problem. I would say that in most cases, in our cases, we will use them. Why? Because they are usually the most practical, easy to implement, and straightforward to understand. Also, in the problems we are going to face, usually, we will not see the difference between these kinds of algorithms and better-optimized ones -- more efficient. It does not mean we should not try to look for the best solution but sometimes it is not worth it.\n",
    "\n",
    "## Approximate Solutions and Bisection Search\n",
    "\n",
    "Let's consider the program that will return a square root of an integer. Since it is our tradition to tackle this problem every single class (although it is not going to be with us after this class for a while). When I was showing you the Heron algorithm we skipped a very important assumption we made. We agreed, even though without really saying it, that we will be good with an approximation of the solution. You probably remember from high school that $\\sqrt{2}$ is not a rational number. This means that there is no way to precisely represent its value as a finite string of digits (or as a `float`). The decision (not to mix it with [The Decision](https://en.wikipedia.org/wiki/The_Decision_(TV_program))) to approximate the results is a very strong assumption that actually allows us to solve this problem, otherwise, we would not be able to do so. And as I mentioned before in programming languages we very often are good with an approximation of the answer.\n",
    "\n",
    "So let's look now at the solution to the square root problem using exhaustive enumeration. Instead of an overcomplicated algorithm we are just going to check wether our guess is the right answer. If not we will add a small number to our guess and test the answer again. A bit like the [Donkey in Shrek](https://youtu.be/basofea2UEs?t=23) or in this very popular song [song](https://www.youtube.com/watch?v=_Tr9Ncoo-yw)."
   ]
  },
  {
   "cell_type": "code",
   "execution_count": null,
   "metadata": {},
   "outputs": [],
   "source": [
    "## Ask for the keyboard input\n",
    "x = float(input(\"Enter an integer to learn its square root: \"))\n",
    "## Define the epsilon\n",
    "epsilon = 0.01\n",
    "## Define the step\n",
    "step = epsilon**2\n",
    "## Counter of guesess\n",
    "num_guesses = 0\n",
    "## The first answer\n",
    "ans = 0.0\n",
    "## The test. We just don't want to go to a number bigger than x this time\n",
    "while abs(ans**2 - x) >= epsilon and ans <= x:\n",
    "    ## Increment the answer\n",
    "    ans += step\n",
    "    ## Increment the counter of guesess\n",
    "    num_guesses += 1\n",
    "\n",
    "## Print the number of guesses\n",
    "print(f\"number of guesses = {num_guesses}\")\n",
    "\n",
    "## Test whether the answer is accurate enough\n",
    "if abs(ans**2 - x) >= epsilon:\n",
    "    print(f\"Failed on square root of {x}\")\n",
    "else:\n",
    "    print(f\"{ans} is close to square root of {x}\")"
   ]
  },
  {
   "cell_type": "markdown",
   "metadata": {},
   "source": [
    "What about trying the same program for `x = .25`. Would it work?\n",
    "\n",
    "It works, but it fails to find the answer and it is perfectly fine. Why? Because the exhaustive enumaration algorithms return the correct answer only if the answer is in the set of values that is being searched. It is trivial assumption but this is why we fail to find the correct answer. \n",
    "\n",
    "We only search for answers between `0` and `.25` while the correct answer is `.5` or actually in case of this algorithm would be `.4898`.  So how we can simple fix it?"
   ]
  },
  {
   "cell_type": "code",
   "execution_count": null,
   "metadata": {},
   "outputs": [],
   "source": [
    "x = 0.25\n",
    "epsilon = 0.01\n",
    "step = epsilon**2\n",
    "num_guesses = 0\n",
    "ans = 0.0\n",
    "## We should check whether the square of the answer is less or equal to x\n",
    "while abs(ans**2 - x) >= epsilon and ans * ans <= x:\n",
    "    ans += step\n",
    "    num_guesses += 1\n",
    "\n",
    "print(f\"number of guesses = {num_guesses}\")\n",
    "if abs(ans**2 - x) >= epsilon:\n",
    "    print(f\"Failed on square root of {x}\")\n",
    "else:\n",
    "    print(f\"{ans} is close to square root of {x}\")"
   ]
  },
  {
   "attachments": {},
   "cell_type": "markdown",
   "metadata": {},
   "source": [
    "Ok, that fixes the problem for now. Let's try a bigger number. For example, `123456`. Ehhhh, we failed again. Why is so?\n",
    "\n",
    "The reason is that the step we add to the `ans` variable is `.0001`. So, we end up with `ans = 351.3631` which leads to:\n",
    "\n",
    "$| 351.3631^{2} - 123456 | = .028041609984938987$\n",
    "\n",
    "which is obviously bigger than the epsilon. A simple solution would be to diminish the step so we can find a closer to real answer approximation. However, don't do that because it will run very long. Instead, we are going to have a look at a family of algorithms that are called **bisection search**. The idea is very powerful but at the same time very simple. \n",
    "\n",
    "Imagine a dictionary or encyclopedia (obviously not a digital one but a physical book). How would you find the word `rabarbar`? Would you start with the very first volume and search every single word starting with a, then b, c, and so on? Obviously no. Because someone already did half of the work for you and ordered the words in alphabetic order. You would open the volume with the letter `r` somewhere and move forward or backward (probably backward) to find words starting with the letters `ra`.\n",
    "\n",
    "We can use a very similar solution to find the square root of x. We know that the answer lies somewhere between `0` and `max` and the numbers in-between are ordered. So imagine a number line like the one below:\n",
    "\n",
    "![number-line](png/number-line.png)\n",
    "\n",
    "As we don't know where to start, we start in the middle.\n",
    "\n",
    "![number-line1](png/number-line_1.png)\n",
    "\n",
    "Now we need to check whether our guess is too big or too small. If it is too big we know that our answer needs to lie to the left of the guess, otherwise to the right. Then, we repeat the procedure until we find the correct answer (good enough).\n",
    "\n",
    "![number-line2](png/number-line_2.png)\n",
    "\n",
    "This does not sound that scary and it is much more efficient than looking through all possible answers."
   ]
  },
  {
   "cell_type": "code",
   "execution_count": null,
   "metadata": {},
   "outputs": [],
   "source": [
    "## Ask for the keyboard input\n",
    "x = float(input(\"Enter a positive number you would like to me to find a square root: \"))\n",
    "## Define epsilon\n",
    "epsilon = 0.01\n",
    "## Initilize num_guesses and low bound\n",
    "num_guesses, low = 0, 0\n",
    "## Initilize the upper boud. We want to be ready for floating point numbers as well\n",
    "## Therefore, we pick bigger number from x and 1\n",
    "high = max(1, x)\n",
    "## Initilize the first guess as the middle number between high and low\n",
    "ans = (high + low) / 2\n",
    "## Usual check of the accuracy\n",
    "while abs(ans**2 - x) >= epsilon:\n",
    "    ## Print the bounds and answer\n",
    "    print(f\"low = {low}, high = {high}, ans = {ans}\")\n",
    "    ## Increment number of guesses\n",
    "    num_guesses += 1\n",
    "    ## Test which way we should move\n",
    "    if ans**2 < x:\n",
    "        low = ans\n",
    "    else:\n",
    "        high = ans\n",
    "    ## Change the answer\n",
    "    ans = (high + low) / 2\n",
    "\n",
    "## Print the answers\n",
    "print(f\"number of guesses = {num_guesses}\")\n",
    "print(f\"{ans} is close to square root of {x}\")"
   ]
  }
 ],
 "metadata": {
  "kernelspec": {
   "display_name": "Python 3",
   "language": "python",
   "name": "python3"
  },
  "language_info": {
   "codemirror_mode": {
    "name": "ipython",
    "version": 3
   },
   "file_extension": ".py",
   "mimetype": "text/x-python",
   "name": "python",
   "nbconvert_exporter": "python",
   "pygments_lexer": "ipython3",
   "version": "3.13.0"
  }
 },
 "nbformat": 4,
 "nbformat_minor": 2
}
