{
 "cells": [
  {
   "cell_type": "markdown",
   "metadata": {},
   "source": [
    "# Homework (deadline 12.05.2022 11:59:59)\n",
    "Write solutions for the homework exercises in this notebook. Once the work is done download the notebook file (`File > Download .ipynb`) rename it properly so it follows a template `HW2_<SURNAME>_<NAME>.ipynb` and send the file to me. My email address is as follows: \n",
    "\n",
    "* <m.biesaga@uw.edu.pl>\n",
    "\n",
    "Remember that you can contact me via email if you have any problems. Moreover, you can also visit me in the ISS on the fourth floor (room 415). Usually, I am there from 11ish but please let me know in advance if you are coming because I might be busy. \n",
    "\n",
    "**You can score maximum 10 points from this homework.** So pick your tasks wisely."
   ]
  },
  {
   "cell_type": "markdown",
   "metadata": {},
   "source": [
    "## Task 1. (3 points)\n",
    "\n",
    "The Palace of Culture and Science in Warsaw is 42 stores high. Twins Marian and Marianna, huge aficionados of table tennis, wanted to know the highest floor from which they could drop a table tennis ball without breaking it. They proposed to drop it from the top floor. If it broke, they would go down a floor, and try it again. They would do this until the ball did not break. At worst, this method requires 42 table tennis balls. Describe a method that at worst uses seven eggs. It should work no matter whether they start from the top floor or the first floor.\n",
    "\n",
    "**IMPORTANT**: PLEASE, DO NOT TEST IT EXPERIMENTALLY!"
   ]
  },
  {
   "cell_type": "markdown",
   "metadata": {},
   "source": [
    "## Task 2. (3 points)\n",
    "Change the code below that it returns the largest rather than the smallest divisor. *Hint:* if $y\\times z = x$ and $y$ is the smallest divisor of $x$, $z$ is the largest divisor of $x$. Explain what you are changing and why."
   ]
  },
  {
   "cell_type": "code",
   "execution_count": null,
   "metadata": {},
   "outputs": [],
   "source": [
    "x = int(input('Enter an integer greater than 2: '))\n",
    "largest_divisor = None\n",
    "\n",
    "for guess in range(2,x):\n",
    "    if x % guess == 0:\n",
    "        ## Change to the largest divison\n",
    "        largest_divisor = x / guess\n",
    "        ## smallest_divisor = guess\n",
    "        break\n",
    "if largest_divisor != None:\n",
    "    ## Convert the result to an integer to avoid the annoying space\n",
    "    print(f'Largest divisor of {x} is {int(largest_divisor)}.') \n",
    "else:\n",
    "    print(f'{x} is a prime number')"
   ]
  },
  {
   "cell_type": "markdown",
   "metadata": {},
   "source": [
    "## Task 3. (4 points)\n",
    "Write a program that asks the user to enter an integer and prints two integers, `root` and `pwr`, such that `1<pwr<6` and $root^{pwr}$ is equal to the integer entered by the user. If no such integers exist, it should print a message to that effect."
   ]
  },
  {
   "cell_type": "code",
   "execution_count": null,
   "metadata": {},
   "outputs": [],
   "source": [
    "x = int(input('Please enter an integer and I will show you a magic trick. '))\n",
    "found = False ## Let's define the control variable\n",
    "\n",
    "## Check whether the integes is postivie or negative\n",
    "if x < 0:\n",
    "    ## Set the control variable to True when the integer is negative\n",
    "    negative = True\n",
    "else:\n",
    "    ## Set the control variable to False when the integer is positive\n",
    "    negative = False\n",
    "## Iterate over all numbers smaller than abs(x) + 1 and bigger than 0\n",
    "for root in range(abs(x) + 1):\n",
    "    ## Check whether x negative\n",
    "    if negative:\n",
    "        ## Check only odd powers if x negative\n",
    "        for pwr in range(5,1,-2):\n",
    "            ## Test whether there is a solution\n",
    "            if root ** pwr == abs(x):\n",
    "                ## Change the value of the control variable\n",
    "                found = True\n",
    "                ## Print out the results\n",
    "                print(f'{-root} to the power of {pwr} equals to {x}')\n",
    "    else:\n",
    "        ## Check powers from 2 to 6 if x positive\n",
    "        for pwr in range(2,6):\n",
    "            ## Test whether there is a solution\n",
    "            if root ** pwr == abs(x):\n",
    "                ## Change the value of the control variable\n",
    "                found = True\n",
    "                ## Print out the results\n",
    "                print(f'{root} to the power of {pwr} equals to {x}')\n",
    "\n",
    "## Print the output if pwr and root found\n",
    "if not found:\n",
    "    print(f'There are no such integers pwr and root that root to the power of pwr equals {x}.')\n",
    "    \n",
    "    "
   ]
  },
  {
   "cell_type": "code",
   "execution_count": null,
   "metadata": {},
   "outputs": [],
   "source": [
    "0 ** 1"
   ]
  },
  {
   "cell_type": "markdown",
   "metadata": {},
   "source": [
    "## Task 4. (3 points)\n",
    "Change the code below so it works also for finding an approximation to the cube root of both negative and positive numbers? *Hint*: think about changing `low` to ensure that the answer lies within the region being searched. Explain what you are changing and why."
   ]
  },
  {
   "cell_type": "code",
   "execution_count": null,
   "metadata": {},
   "outputs": [],
   "source": [
    "x = float(input('Enter a positive number you would like to me to find a cube root: ')) ## Obvious correction from square to cube\n",
    "epsilon = .01\n",
    "num_guesses = 0\n",
    "## We pick a smaller number from -1 and x. It allows us to use the script for negative numbers.\n",
    "## This is a similar trick to the high variable because -.3 ** 3 = -.027\n",
    "low = min(-1,x) ## One of the possible corrections.\n",
    "high = max(1, x)\n",
    "ans = (high + low) / 2\n",
    "while abs(ans ** 3 - x) >= epsilon: ## Obvious correction from 2 to 3\n",
    "    print(f'low = {low}, high = {high}, ans = {ans}')\n",
    "    num_guesses += 1\n",
    "    if ans ** 3 < x: ## Obvious correction from 2 to 3\n",
    "        low = ans\n",
    "    else:\n",
    "        high = ans\n",
    "    ans = (high + low)/2\n",
    "print(f'number of guesses = {num_guesses}')\n",
    "print(f'{ans} is close to cube root of {x}') ## Obvious correction from square to cube"
   ]
  }
 ],
 "metadata": {
  "interpreter": {
   "hash": "bc8a0b2585560af3f1d798452673f163e266b8b1719efa57a26b24d73c90742c"
  },
  "kernelspec": {
   "display_name": "Python 3.9.7 ('ppss')",
   "language": "python",
   "name": "python3"
  },
  "language_info": {
   "codemirror_mode": {
    "name": "ipython",
    "version": 3
   },
   "file_extension": ".py",
   "mimetype": "text/x-python",
   "name": "python",
   "nbconvert_exporter": "python",
   "pygments_lexer": "ipython3",
   "version": "3.9.7"
  },
  "orig_nbformat": 4
 },
 "nbformat": 4,
 "nbformat_minor": 2
}
