{
 "cells": [
  {
   "cell_type": "markdown",
   "metadata": {},
   "source": [
    "# Homework (deadline 25.04.2024 11:59:59)\n",
    "Write solutions for the homework exercises in this notebook. Once the work is done download the notebook file (`File > Download .ipynb`) rename it properly so it follows a template `HW2_<SURNAME>_<NAME>.ipynb` and upload it to the [Google Classroom](https://classroom.google.com/c/MjE0MTUxNzE3NDNa/a/MjE0MTUxNzE3NzBa/details).\n",
    "\n",
    "Remember that you can contact me via email if you have any problems. Moreover, you can also visit me in the ISS on the fourth floor (room 415). Usually, I am there from 11ish but please let me know in advance if you are coming because I might be busy. \n",
    "\n",
    "**You can score maximum 10 points from this homework.** So pick your tasks wisely."
   ]
  },
  {
   "cell_type": "markdown",
   "metadata": {},
   "source": [
    "## Task 1. (3 points)\n",
    "\n",
    "The Palace of Culture and Science in Warsaw is 42 stores high. Twins Marian and Marianna, huge aficionados of table tennis, wanted to know the highest floor from which they could drop a table tennis ball without breaking it. They proposed to drop it from the top floor. If it broke, they would go down a floor, and try it again. They would do this until the ball did not break. At worst, this method requires 42 table tennis balls. Describe a method that at worst uses seven balls. It should work no matter whether they start from the top floor or the first floor.\n",
    "\n",
    "**IMPORTANT**: PLEASE, DO NOT TEST IT EXPERIMENTALLY!"
   ]
  },
  {
   "cell_type": "markdown",
   "metadata": {},
   "source": [
    "## Task 2. (3 points)\n",
    "Change the code below that it returns the largest rather than the smallest divisor. *Hint:* if $y\\times z = x$ and $y$ is the smallest divisor of $x$, $z$ is the largest divisor of $x$. Explain what you are changing and why."
   ]
  },
  {
   "cell_type": "code",
   "execution_count": null,
   "metadata": {},
   "outputs": [],
   "source": [
    "x = int(input(\"Enter an integer greater than 2: \"))\n",
    "largest_divisor = None\n",
    "\n",
    "for guess in range(2, x):\n",
    "    if x % guess == 0:\n",
    "        ## Change to the largest divison\n",
    "        largest_divisor = x / guess\n",
    "        ## smallest_divisor = guess\n",
    "        break\n",
    "if largest_divisor is not None:\n",
    "    ## Convert the result to an integer to avoid the annoying space\n",
    "    print(f\"Largest divisor of {x} is {int(largest_divisor)}.\")\n",
    "else:\n",
    "    print(f\"{x} is a prime number\")"
   ]
  },
  {
   "cell_type": "markdown",
   "metadata": {},
   "source": [
    "## Task 3. (4 points)\n",
    "Write a program that asks the user to enter an integer and prints two integers, `root` and `pwr`, such that `1<pwr<6` and $root^{pwr}$ is equal to the integer entered by the user. If no such integers exist, it should print a message to that effect."
   ]
  },
  {
   "cell_type": "code",
   "execution_count": null,
   "metadata": {},
   "outputs": [],
   "source": [
    "x = int(input(\"Please enter an integer and I will show you a magic trick. \"))\n",
    "found = False  ## Let's define a control variable.\n",
    "\n",
    "## Define the lower bound of the search range. This needs to be always negative (except for 0).\n",
    "start = -abs(x)\n",
    "## Define the upper bound of the search range. This needs to be always positive (except for 0).\n",
    "stop = abs(x)\n",
    "## Step by which we want to increase the root in each iteration.\n",
    "step = 1\n",
    "\n",
    "## Test whether we looked into the whole search range. The upper bound is included. Otherwise, it does not work for 0 and 1.\n",
    "while start <= stop:\n",
    "    ## Check powers from 2 to 5.\n",
    "    for power in range(2, 6):\n",
    "        ## Test whether there is a solution.\n",
    "        if start**power == x:\n",
    "            ## Print out the result.\n",
    "            print(f\"{start} to the power of {power} eqauls to {x}.\")\n",
    "            ## Change the value of the control variable.\n",
    "            found = True\n",
    "    ## Increase the root.\n",
    "    start += step\n",
    "\n",
    "## Print out the message if root and power were not found.\n",
    "if not found:\n",
    "    print(f\"There are no such integers x and y that x to the power of y equals to {x}\")"
   ]
  },
  {
   "cell_type": "markdown",
   "metadata": {},
   "source": [
    "## Task 4. (3 points)\n",
    "Change the code below so it works also for finding an approximation to the cube root of both negative and positive numbers? *Hint*: think about changing `low` to ensure that the answer lies within the region being searched. Explain what you are changing and why."
   ]
  },
  {
   "cell_type": "code",
   "execution_count": null,
   "metadata": {},
   "outputs": [],
   "source": [
    "x = float(\n",
    "    input(\"Enter a positive number you would like to me to find a cube root: \")\n",
    ")  ## Obvious correction from square to cube\n",
    "epsilon = 0.01\n",
    "num_guesses = 0\n",
    "## We pick a smaller number from -1 and x. It allows us to use the script for negative numbers.\n",
    "## This is a similar trick to the high variable because -.3 ** 3 = -.027\n",
    "low = min(-1, x)  ## One of the possible corrections.\n",
    "high = max(1, x)\n",
    "ans = (high + low) / 2\n",
    "while abs(ans**3 - x) >= epsilon:  ## Obvious correction from 2 to 3\n",
    "    print(f\"low = {low}, high = {high}, ans = {ans}\")\n",
    "    num_guesses += 1\n",
    "    if ans**3 < x:  ## Obvious correction from 2 to 3\n",
    "        low = ans\n",
    "    else:\n",
    "        high = ans\n",
    "    ans = (high + low) / 2\n",
    "print(f\"number of guesses = {num_guesses}\")\n",
    "print(f\"{ans} is close to cube root of {x}\")  ## Obvious correction from square to cube"
   ]
  }
 ],
 "metadata": {
  "kernelspec": {
   "display_name": "ppss",
   "language": "python",
   "name": "python3"
  },
  "language_info": {
   "codemirror_mode": {
    "name": "ipython",
    "version": 3
   },
   "file_extension": ".py",
   "mimetype": "text/x-python",
   "name": "python",
   "nbconvert_exporter": "python",
   "pygments_lexer": "ipython3",
   "version": "3.9.16"
  }
 },
 "nbformat": 4,
 "nbformat_minor": 2
}
