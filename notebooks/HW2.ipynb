{
 "cells": [
  {
   "attachments": {},
   "cell_type": "markdown",
   "metadata": {},
   "source": [
    "# Homework (deadline 19.05.2023 11:59:59)\n",
    "Write solutions for the homework exercises in this notebook. Once the work is done download the notebook file (`File > Download .ipynb`) rename it properly so it follows a template `HW2_<SURNAME>_<NAME>.ipynb` and upload it to the [Google Classroom](https://classroom.google.com/c/NTQxNjE1OTc3MjYw/a/NjAzNTYzODI4NzM2/details).\n",
    "\n",
    "Remember that you can contact me via email if you have any problems. Moreover, you can also visit me in the ISS on the fourth floor (room 415). Usually, I am there from 11ish but please let me know in advance if you are coming because I might be busy. \n",
    "\n",
    "**You can score maximum 10 points from this homework.** So pick your tasks wisely."
   ]
  },
  {
   "attachments": {},
   "cell_type": "markdown",
   "metadata": {},
   "source": [
    "## Task 1. (3 points)\n",
    "\n",
    "The Palace of Culture and Science in Warsaw is 42 stores high. Twins Marian and Marianna, huge aficionados of table tennis, wanted to know the highest floor from which they could drop a table tennis ball without breaking it. They proposed to drop it from the top floor. If it broke, they would go down a floor, and try it again. They would do this until the ball did not break. At worst, this method requires 42 table tennis balls. Describe a method that at worst uses seven balls. It should work no matter whether they start from the top floor or the first floor.\n",
    "\n",
    "**IMPORTANT**: PLEASE, DO NOT TEST IT EXPERIMENTALLY!"
   ]
  },
  {
   "attachments": {},
   "cell_type": "markdown",
   "metadata": {},
   "source": [
    "## Task 2. (3 points)\n",
    "Change the code below that it returns the largest rather than the smallest divisor. *Hint:* if $y\\times z = x$ and $y$ is the smallest divisor of $x$, $z$ is the largest divisor of $x$. Explain what you are changing and why."
   ]
  },
  {
   "cell_type": "code",
   "execution_count": null,
   "metadata": {},
   "outputs": [],
   "source": [
    "x = int(input(\"Enter an integer greater than 2: \"))\n",
    "smallest_divisor = None\n",
    "\n",
    "for guess in range(2, x):\n",
    "    if x % guess == 0:\n",
    "        smallest_divisor = guess\n",
    "        break\n",
    "if smallest_divisor is not None:\n",
    "    print(f\"Smallest divisor of {x} is {int(smallest_divisor)}.\")\n",
    "else:\n",
    "    print(f\"{x} is a prime number\")"
   ]
  },
  {
   "attachments": {},
   "cell_type": "markdown",
   "metadata": {},
   "source": [
    "## Task 3. (4 points)\n",
    "Write a program that asks the user to enter an integer and prints two integers, `root` and `pwr`, such that `1<pwr<6` and $root^{pwr}$ is equal to the integer entered by the user. If no such integers exist, it should print a message to that effect."
   ]
  },
  {
   "cell_type": "code",
   "execution_count": null,
   "metadata": {},
   "outputs": [],
   "source": [
    "## YOUR SOLUTION"
   ]
  },
  {
   "attachments": {},
   "cell_type": "markdown",
   "metadata": {},
   "source": [
    "## Task 4. (3 points)\n",
    "Change the code below so it works also for finding an approximation to the cube root of both negative and positive numbers? *Hint*: think about changing `low` to ensure that the answer lies within the region being searched. Explain what you are changing and why."
   ]
  },
  {
   "cell_type": "code",
   "execution_count": null,
   "metadata": {},
   "outputs": [],
   "source": [
    "x = float(input(\"Enter a positive number you would like to me to find a square root: \"))\n",
    "epsilon = 0.01\n",
    "num_guesses, low = 0, 0\n",
    "high = max(1, x)\n",
    "ans = (high + low) / 2\n",
    "while abs(ans**2 - x) >= epsilon:\n",
    "    print(f\"low = {low}, high = {high}, ans = {ans}\")\n",
    "    num_guesses += 1\n",
    "    if ans**2 < x:\n",
    "        low = ans\n",
    "    else:\n",
    "        high = ans\n",
    "    ans = (high + low) / 2\n",
    "print(f\"number of guesses = {num_guesses}\")\n",
    "print(f\"{ans} is close to square root of {x}\")"
   ]
  }
 ],
 "metadata": {
  "interpreter": {
   "hash": "bc8a0b2585560af3f1d798452673f163e266b8b1719efa57a26b24d73c90742c"
  },
  "kernelspec": {
   "display_name": "Python 3.9.7 ('ppss')",
   "language": "python",
   "name": "python3"
  },
  "language_info": {
   "codemirror_mode": {
    "name": "ipython",
    "version": 3
   },
   "file_extension": ".py",
   "mimetype": "text/x-python",
   "name": "python",
   "nbconvert_exporter": "python",
   "pygments_lexer": "ipython3",
   "version": "3.9.16"
  }
 },
 "nbformat": 4,
 "nbformat_minor": 2
}
