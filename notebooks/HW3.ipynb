{
 "cells": [
  {
   "attachments": {},
   "cell_type": "markdown",
   "metadata": {},
   "source": [
    "# Homework (deadline 26.05.2023 11:59:59)\n",
    "Write solutions for the homework exercises in this notebook. Once the work is done download the notebook file (`File > Download .ipynb`) rename it properly so it follows a template `HW3_<SURNAME>_<NAME>.ipynb` and upload it to the [Google Classroom](https://classroom.google.com/c/NTQxNjE1OTc3MjYw/a/NjAzNzUyODc2MzI1/details).\n",
    "\n",
    "Remember that you can contact me via email if you have any problems. Moreover, you can also visit me in the ISS on the fourth floor (room 415). Usually, I am there from 11ish but please let me know in advance if you are coming because I might be busy. "
   ]
  },
  {
   "attachments": {},
   "cell_type": "markdown",
   "metadata": {},
   "source": [
    "## Task 1. (3 points)\n",
    "\n",
    "Write a function that has two numeric parameters. If the second argument equals zero, it should return `None`. Otherwise, it should return the value of dividing the first argument by the second argument. Write a proper `docstring` with the specification."
   ]
  },
  {
   "cell_type": "code",
   "execution_count": null,
   "metadata": {},
   "outputs": [],
   "source": [
    "def divide(x, y):\n",
    "\t\"\"\"\n",
    "\tReturns the value of dividing x by y. If y equals to 0 it \n",
    "\treturns None.\n",
    "\n",
    "\tArgs:\n",
    "\t\tx (int/float): a numeric value\n",
    "\t\ty (int/float): a numeric value\n",
    "\n",
    "\tReturns:\n",
    "\t\t(float/None): the value of dividing x by y. If y equals\n",
    "\t\tto 0 it returns None.\n",
    "\t\"\"\"\n",
    "\ttry:\n",
    "\t\treturn x / y\n",
    "\texcept ZeroDivisionError:\n",
    "\t\treturn None"
   ]
  },
  {
   "cell_type": "code",
   "execution_count": null,
   "metadata": {},
   "outputs": [],
   "source": [
    "def test_divide(x_vals, y_vals):\n",
    "    for x in x_vals:\n",
    "        for y in y_vals:\n",
    "            result = divide(x = x, y = y)\n",
    "            if y == 0 and result == None:\n",
    "                val = 'Ok'\n",
    "            elif y != 0 and x / y == result:\n",
    "                val = 'Ok'\n",
    "            else:\n",
    "                val = 'Bad'\n",
    "            print(f'x = {x}, y = {y}: {val}')\n",
    "\n",
    "\n",
    "x_vals = (1,.3,-45,0)\n",
    "y_vals = (0,.2,59,-1)\n",
    "\n",
    "test_divide(x_vals = x_vals, y_vals = y_vals)"
   ]
  },
  {
   "attachments": {},
   "cell_type": "markdown",
   "metadata": {},
   "source": [
    "## Task 2. (3 points)\n",
    "If `s` is a string the `s.find()` method can be used to find the index of the first occurrence of a substring in `s`. For example, if `s` were `abcbc`, the invocation of `s.find('bc')` would return `1`. Use method `find()` to implement a function satisfying the following specification."
   ]
  },
  {
   "cell_type": "code",
   "execution_count": null,
   "metadata": {},
   "outputs": [],
   "source": [
    "def find_last(s, sub):\n",
    "    \"\"\"\n",
    "    Returns the index of the last occurrence of sub in s.\n",
    "    Returns None if sub does not occur in s.\n",
    "\n",
    "    Args:\n",
    "        s (str): non-empty string\n",
    "        sub (str): non-empty string\n",
    "\n",
    "    Returns:\n",
    "        (int/None): index of the last occurrence of sub in s or.\n",
    "        If sub does not occur in s returns None.\n",
    "    \"\"\"\n",
    "    if sub in s:\n",
    "        s_reversed = s[::-1]\n",
    "        sub_reversed = sub[::-1]\n",
    "        return len(s) - len(sub) - s_reversed.find(sub_reversed)"
   ]
  },
  {
   "cell_type": "code",
   "execution_count": null,
   "metadata": {},
   "outputs": [],
   "source": [
    "def test_find_last(s_vals, sub_vals):\n",
    "    for s in s_vals:\n",
    "        for sub in sub_vals:\n",
    "            result = find_last(s, sub)\n",
    "            if result == s.rfind(sub):\n",
    "                val = 'Ok'\n",
    "            elif result == None and s.rfind(sub) == -1:\n",
    "                val = 'Ok'\n",
    "            else:\n",
    "                val = 'Bad'\n",
    "            print(f's = {s}, sub = {sub}: {val}')\n",
    "            \n",
    "s_vals = ('aba', 'ababab', 'a', 'aa')\n",
    "sub_vals = ('a', 'ab', 'ababab', 'b', 'bb')\n",
    "\n",
    "test_find_last(s_vals = s_vals, sub_vals = sub_vals) "
   ]
  },
  {
   "attachments": {},
   "cell_type": "markdown",
   "metadata": {},
   "source": [
    "## Task 3. (4 points)\n",
    "Write a function `is_in` that accepts two strings as arguments and returns `True` if either string occurs anywhere in the other, and `False` otherwise. *Hint*: you might want to use the built-in `str` operation [`in`](https://www.w3schools.com/python/gloss_python_membership_operators.asp). Write a proper `docstring` with the specification."
   ]
  },
  {
   "cell_type": "code",
   "execution_count": null,
   "metadata": {},
   "outputs": [],
   "source": [
    "def is_in(s1, s2):\n",
    "\t\"\"\"\n",
    "\tReturns True if either s1 or s2 occurs anywhere in the other, and False otherwise.\n",
    "\n",
    "\tArgs:\n",
    "\t\ts1 (str): non-empty string\n",
    "\t\ts2 (str): non-empty string\n",
    "\n",
    "\tReturns:\n",
    "\t\tBool: returns True if s1 occurs in s2 or s2 occurs in s1. Otherwise it returns False\n",
    "\t\"\"\"\n",
    "\treturn s1 in s2 or s2 in s1"
   ]
  },
  {
   "attachments": {},
   "cell_type": "markdown",
   "metadata": {},
   "source": [
    "## Task 4. (3 points)\n",
    "Write a function to test `is_in` from the previous task. You don't have to write a `docstring` here to score 3 points."
   ]
  },
  {
   "cell_type": "code",
   "execution_count": null,
   "metadata": {},
   "outputs": [],
   "source": [
    "def test_is_in(vals_s1, vals_s2):\n",
    "    for s1 in vals_s1:\n",
    "        for s2 in vals_s2:\n",
    "            result = is_in(s1, s2)\n",
    "            if (result and (s1.find(s2) != -1 or s2.find(s1) != -1)) or (not result and (s1.find(s2) == -1 and s2.find(s1) == -1)):\n",
    "                val = 'Ok'\n",
    "            else:\n",
    "                val = 'Bad'\n",
    "            print(f's1 = {s1}, s2 = {s2}: {val}')\n",
    "            \n",
    "vals_s1 = ('aaa', 'bbb', 'aba', 'bab', 'a')\n",
    "vals_s2 = ('a', 'bbb', 'ab', 'ba', 'cc')\n",
    "\n",
    "test_is_in(vals_s1 = vals_s1, vals_s2 = vals_s2)"
   ]
  }
 ],
 "metadata": {
  "interpreter": {
   "hash": "bc8a0b2585560af3f1d798452673f163e266b8b1719efa57a26b24d73c90742c"
  },
  "kernelspec": {
   "display_name": "Python 3.9.7 ('ppss')",
   "language": "python",
   "name": "python3"
  },
  "language_info": {
   "codemirror_mode": {
    "name": "ipython",
    "version": 3
   },
   "file_extension": ".py",
   "mimetype": "text/x-python",
   "name": "python",
   "nbconvert_exporter": "python",
   "pygments_lexer": "ipython3",
   "version": "3.10.8"
  },
  "orig_nbformat": 4
 },
 "nbformat": 4,
 "nbformat_minor": 2
}
