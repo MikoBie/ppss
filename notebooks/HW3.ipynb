{
 "cells": [
  {
   "cell_type": "markdown",
   "metadata": {},
   "source": [
    "# Homework (deadline 19.05.2022 11:59:59)\n",
    "Write solutions for the homework exercises in this notebook. Once the work is done download the notebook file (`File > Download .ipynb`) rename it properly so it follows a template `HW3_<SURNAME>_<NAME>.ipynb` and send the file to me. My email address is as follows: \n",
    "\n",
    "* <m.biesaga@uw.edu.pl>\n",
    "\n",
    "Remember that you can contact me via email if you have any problems. Moreover, you can also visit me in the ISS on the fourth floor (room 415). Usually, I am there from 11ish but please let me know in advance if you are coming because I might be busy. \n"
   ]
  },
  {
   "cell_type": "markdown",
   "metadata": {},
   "source": [
    "## Task 1. (3 points)\n",
    "\n",
    "Write a function that has two numeric parameters. If the second argument equals zero, it should return `None`. Otherwise, it should return the value of dividing the first argument by the second argument. Write a proper `docstring` with the specification."
   ]
  },
  {
   "cell_type": "markdown",
   "metadata": {},
   "source": [
    "## Task 2. (3 points)\n",
    "If `s` is a string the `s.find()` method can be used to find the index of the first occurrence of a substring in `s`. For example, if `s` were `abcbc`, the invocation of `s.find('bc')` would return `1`. Use method `find()` to implement a function satisfying the following specification."
   ]
  },
  {
   "cell_type": "code",
   "execution_count": 1,
   "metadata": {},
   "outputs": [],
   "source": [
    "def find_last(s, sub):\n",
    "    \"\"\"\n",
    "    Returns the index of the last occurance of sub in s.\n",
    "    Returns None if sub does not occur in s.\n",
    "\n",
    "    Args:\n",
    "        s (str): non-empty string\n",
    "        sub (str): non-empty string\n",
    "\n",
    "    Returns:\n",
    "        (int/None): index of the last occurance of sub in s or.\n",
    "        If sub does not occur in s returns None.\n",
    "    \"\"\""
   ]
  },
  {
   "cell_type": "markdown",
   "metadata": {},
   "source": [
    "## Task 3. (4 points)\n",
    "Write a function `is_in` that accepts two strings as arguments and returns `True` if either string occurs anywhere in the other, and `False` otherwise. *Hint*: you might want to use the built-in `str` operation [`in`](https://www.w3schools.com/python/gloss_python_membership_operators.asp). Write a proper `docstring` with the specification."
   ]
  },
  {
   "cell_type": "markdown",
   "metadata": {},
   "source": [
    "## Task 4. (3 points)\n",
    "Write a function to test `is_in` from the previous task. You don't have to write a `docstring` here to score 3 points."
   ]
  }
 ],
 "metadata": {
  "interpreter": {
   "hash": "bc8a0b2585560af3f1d798452673f163e266b8b1719efa57a26b24d73c90742c"
  },
  "kernelspec": {
   "display_name": "Python 3.9.7 ('ppss')",
   "language": "python",
   "name": "python3"
  },
  "language_info": {
   "codemirror_mode": {
    "name": "ipython",
    "version": 3
   },
   "file_extension": ".py",
   "mimetype": "text/x-python",
   "name": "python",
   "nbconvert_exporter": "python",
   "pygments_lexer": "ipython3",
   "version": "3.9.7"
  },
  "orig_nbformat": 4
 },
 "nbformat": 4,
 "nbformat_minor": 2
}
