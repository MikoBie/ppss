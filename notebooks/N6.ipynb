{
 "cells": [
  {
   "cell_type": "markdown",
   "metadata": {},
   "source": [
    "# Dictionaries (mappings) and JSON\n",
    "\n",
    "\n",
    "What we just saw was [JSON](https://www.youtube.com/watch?v=b4QDxoWlPFw) format that is commonly used online. When next semester we will be finally using some real data it will be most likely in this format. We will avoid using any kind of tabular data in _Python_ not because it is impossible but because for our purposes most of the time _R_ is better suited for the task.\n",
    "\n",
    "In _Python_ a natural representation of `JSON` is a dictionary (often also refered as mapping). Any hashable object can be used as a key, for example, `int`, `float`, `bool`, `str`, but also a function or tuple. However, for now we are going to use mostly strings or integers. In a way dictionary is similar to a list except that we index them using **keys** rather than integers. You can think about them as key-value pairs. Similarly to `JSONs` they are enclosed between curly braces and each element is written as a key followed by a colon followed by a value. For example, consider the code below."
   ]
  },
  {
   "cell_type": "code",
   "execution_count": null,
   "metadata": {},
   "outputs": [],
   "source": [
    "## Let's define an empty dictionary\n",
    "empty_dct = {}\n",
    "\n",
    "## Let's define a dictionary with some elements\n",
    "nike = { \n",
    "       \"Dorota Masłowska\" : \"Paw królowej\",\n",
    "       \"Piotr Matywiecki\" : \"Ta chmura powraca\",\n",
    "       \"Zbigniew Mentzla\" : \"Wszystkie języki świata\",\n",
    "       \"Eustachy Rylski\" : \"Warunek\",\n",
    "       \"Wisława Szymborska\" : \"Dwukropek\",\n",
    "       \"Mariusz Wilk\" : \"Wołoka\",\n",
    "       \"Michał Witkowski\" : \"Lubiewo\"\n",
    "       }"
   ]
  },
  {
   "cell_type": "markdown",
   "metadata": {},
   "source": [
    "Let's now see what are the most basic operations on dictionaries.\n",
    "\n",
    "\n",
    "To adress an entry in the dictionary we use `keys` the same way we were using indexes in lists."
   ]
  },
  {
   "cell_type": "code",
   "execution_count": null,
   "metadata": {},
   "outputs": [],
   "source": [
    "## Return the number of items of a dictionary\n",
    "len(nike)"
   ]
  },
  {
   "cell_type": "code",
   "execution_count": null,
   "metadata": {},
   "outputs": [],
   "source": [
    "## Return a view of the keys in a dictionary\n",
    "nike.keys()"
   ]
  },
  {
   "cell_type": "code",
   "execution_count": null,
   "metadata": {},
   "outputs": [],
   "source": [
    "## Return a view of the values in a dictionary\n",
    "nike.values()"
   ]
  },
  {
   "cell_type": "code",
   "execution_count": null,
   "metadata": {},
   "outputs": [],
   "source": [
    "## Rerturn a view of the (key, value) pairs in a dictionary\n",
    "nike.items()"
   ]
  },
  {
   "cell_type": "code",
   "execution_count": null,
   "metadata": {},
   "outputs": [],
   "source": [
    "## Update a dictionary with the (key, value) pair, overwriting existing keys.\n",
    "nike.update({'Dorota Masłowska' : 'Motyle'})\n",
    "nike"
   ]
  },
  {
   "cell_type": "code",
   "execution_count": null,
   "metadata": {},
   "outputs": [],
   "source": [
    "## Retunr True if a key is in a dictionary\n",
    "'Dorota Masłowska' in nike"
   ]
  },
  {
   "cell_type": "code",
   "execution_count": null,
   "metadata": {},
   "outputs": [],
   "source": [
    "## Returns the item if the key is in the dictionary\n",
    "nike['Dorota Masłowska']"
   ]
  },
  {
   "cell_type": "code",
   "execution_count": null,
   "metadata": {},
   "outputs": [],
   "source": [
    "## Return d[k] if k is in d, and v otherwise\n",
    "nike.get('Dorota Masłowska', 'Nie ma')"
   ]
  },
  {
   "cell_type": "code",
   "execution_count": null,
   "metadata": {},
   "outputs": [],
   "source": [
    "## Return d[k] if k is in d, and v otherwise\n",
    "nike.get('Czesła Miłosz', 'Nie ma')"
   ]
  },
  {
   "cell_type": "code",
   "execution_count": null,
   "metadata": {},
   "outputs": [],
   "source": [
    "## Asociate the value with the key. If there is already a value associated with the k it is replaced.\n",
    "nike['Zbigniew Rokita'] = 'Kajś'\n",
    "nike"
   ]
  },
  {
   "cell_type": "code",
   "execution_count": null,
   "metadata": {},
   "outputs": [],
   "source": [
    "## Remove the key from a dictionary\n",
    "del nike['Zbigniew Rokita']"
   ]
  },
  {
   "cell_type": "code",
   "execution_count": null,
   "metadata": {},
   "outputs": [],
   "source": [
    "## Pop the key from a dictionary\n",
    "title = nike.pop('Dorota Masłowska')\n",
    "title"
   ]
  },
  {
   "cell_type": "code",
   "execution_count": null,
   "metadata": {},
   "outputs": [],
   "source": [
    "## Can we find a key by its value\n",
    "nike['Dwukropek']"
   ]
  },
  {
   "cell_type": "markdown",
   "metadata": {},
   "source": [
    "No. Why is it so? That is becaue dictionaries (mappings) are meant to represent functions, which in terms of maths are maps from one set to another ($A \\mapsto B$). It means that every element of $A$ (key) has to be uniquely mapped to element of $B$ (value), but multiple keys can be mapped ot one value. For example consider the code below."
   ]
  },
  {
   "cell_type": "code",
   "execution_count": null,
   "metadata": {},
   "outputs": [],
   "source": [
    "ChL = {\n",
    "    2010 : 'Olympique Lyon',\n",
    "    2011 : 'Olympique Lyon',\n",
    "    2012 : 'Olympique Lyon', \n",
    "    2013 : 'Vfl Wolsburg',\n",
    "    2014 : 'Vfl Wolsburg',\n",
    "    2015 : 'FFC Frankfurt',\n",
    "    2016 : 'Olympique Lyon',\n",
    "    2017 : 'Olympique Lyon',\n",
    "    2018 : 'Olympique Lyon',\n",
    "    2019 : 'Olympique Lyon',\n",
    "    2020 : 'Olympique Lyon',\n",
    "    2021 : 'FC Barcelona',\n",
    "    2022 : 'Olympique Lyon'\n",
    "}\n",
    "\n",
    "ChL"
   ]
  },
  {
   "cell_type": "markdown",
   "metadata": {},
   "source": [
    "The important thing is that the order the keys in the dictionary is the order in which the keys were inserted. Let's then iterate over the dictionary. In fact, there are multiple ways to use `for-loop` over the entries of a dictionary. The simplest is to just itearte over the keys. For example consider the code below."
   ]
  },
  {
   "cell_type": "code",
   "execution_count": null,
   "metadata": {},
   "outputs": [],
   "source": [
    "## Iterate over keys\n",
    "for key in ChL:\n",
    "    print(f'{ChL[key]} won Champions League in {key}.')"
   ]
  },
  {
   "cell_type": "code",
   "execution_count": null,
   "metadata": {},
   "outputs": [],
   "source": [
    "## Or by using method keys\n",
    "for key in ChL.keys():\n",
    "    print(f'{ChL[key]} won Champions League in {key}.')"
   ]
  },
  {
   "cell_type": "markdown",
   "metadata": {},
   "source": [
    "Now, we can also iterate over values of a dictionary. Instead of using the `dct.keys()` method we will use the `dct.values()` method. It works very similarly to the previous one. The value are returned in the order of the entry."
   ]
  },
  {
   "cell_type": "code",
   "execution_count": null,
   "metadata": {},
   "outputs": [],
   "source": [
    "## We can iterate over values\n",
    "clubs = []\n",
    "for value in ChL.values():\n",
    "\t## YOUR CODE\n",
    "\n",
    "print(f'Champions League was won only by the following clubs {clubs}')"
   ]
  },
  {
   "cell_type": "markdown",
   "metadata": {},
   "source": [
    "Let's now use the dictionary to solve the Task 1 from the homework assignment. \n",
    "\n",
    "Write a function that will count occurrences of integers in a list. It should take as the only argument a list of integers and return a dictionary with frequencies, i.e.\n",
    "\n",
    "```python\n",
    "input_list = [1, 2, 3, 3, 2, 4]\n",
    "output_dict = {1 : 1, 2 : 2, 3 : 2, 4 : 1}\n",
    "```"
   ]
  },
  {
   "cell_type": "code",
   "execution_count": null,
   "metadata": {},
   "outputs": [],
   "source": [
    "def dict_count(L1):\n",
    "\t\"\"\"\n",
    "\tIt returns a dictionary with the frequencies of elements of L1.\n",
    "\n",
    "\tArgs:\n",
    "\t\tL1 (list): a list of values\n",
    "\n",
    "\tReturns:\n",
    "\t\tdict: dictionary with frequencies of elements of L1\n",
    "\t\"\"\"\n",
    "\t## YOUR CODE"
   ]
  },
  {
   "cell_type": "code",
   "execution_count": null,
   "metadata": {},
   "outputs": [],
   "source": [
    "import numpy as np\n",
    "np.random.seed(1987)\n",
    "rand_numbers = np.random.randint(0, 20, (100000,)).tolist()\n",
    "dict_count(rand_numbers)"
   ]
  },
  {
   "cell_type": "markdown",
   "metadata": {},
   "source": [
    "What is more we can also iterate over both keys and values at the same time. To do so we use method `dict.items()`. Therefore, in each iteration each element of an object is a tuple of a key and its associated value."
   ]
  },
  {
   "cell_type": "code",
   "execution_count": null,
   "metadata": {},
   "outputs": [],
   "source": [
    "for key, value in ChL.items():\n",
    "    print(f'{value} won the Champions League in {key}')"
   ]
  },
  {
   "cell_type": "markdown",
   "metadata": {},
   "source": [
    "The other important notion is that we can store mappings in a list. For example, let's come back to Marian and Marianna."
   ]
  },
  {
   "cell_type": "code",
   "execution_count": null,
   "metadata": {},
   "outputs": [],
   "source": [
    "## Let's define a mapping for Marianna\n",
    "marianna_dict = {\"name\": \"Marianna\",\n",
    "                 \"age\": 17,\n",
    "                 \"interests\": [{\"name\": \"physics\",\n",
    "                                \"disciplines\": [\"quantum physics\",\n",
    "                                                \"string theory\"]},\n",
    "                               {\"name\": \"sport\",\n",
    "                                \"disciplines\": [\"fishing\",\n",
    "                                                \"football\"]}]}\n",
    "\n",
    "## Let's define a mapping for Marian\n",
    "marian_dict = {\"name\": \"Marian\",\n",
    "               \"age\": 15,\n",
    "               \"interests\": [{\"name\": \"literature\",\n",
    "                              \"genre\": [\"poems\"]}]}"
   ]
  },
  {
   "cell_type": "code",
   "execution_count": null,
   "metadata": {},
   "outputs": [],
   "source": [
    "## We can store them in one list\n",
    "mm_list = [marianna_dict, marian_dict]\n",
    "mm_list"
   ]
  },
  {
   "cell_type": "code",
   "execution_count": null,
   "metadata": {},
   "outputs": [],
   "source": [
    "## Access Marianna's name\n",
    "mm_list[0]['name']"
   ]
  },
  {
   "cell_type": "markdown",
   "metadata": {},
   "source": [
    "## Read a file\n",
    "\n",
    "This is all very good. However, the issue is here that we mainly play with the data we produce or insert to _Python_ from keyboard. This is fun but what we would like to do is to load this famous `JSON` to _Python_ and start palying with then. This is not that hard. We will now use the files I sent to you via email or you can download from here. In Colab, you need to do an extra step to load some data to _Python_ but it is somehow obvious. It is almost the same as uploading a file to Google Drive.\n",
    "\n",
    "Once we have the file uploaded to our workspace we can load it to _Python_ (you can think about it as opening the uploaded file in Google Docs)."
   ]
  },
  {
   "cell_type": "code",
   "execution_count": null,
   "metadata": {},
   "outputs": [],
   "source": [
    "## Open connection (a bit like open the file)\n",
    "file = open('m.json')\n",
    "## Read the contect of the file to variable\n",
    "marian = file.read()\n",
    "## Close the connection (a bit like close the file)\n",
    "file.close()"
   ]
  },
  {
   "cell_type": "code",
   "execution_count": null,
   "metadata": {},
   "outputs": [],
   "source": [
    "## Let's what it looks like\n",
    "marian"
   ]
  },
  {
   "cell_type": "code",
   "execution_count": null,
   "metadata": {},
   "outputs": [],
   "source": [
    "## It does not look like a dict but rather a string\n",
    "type(marian)"
   ]
  },
  {
   "cell_type": "markdown",
   "metadata": {},
   "source": [
    "To convert this string that consists of a dictionary we would have to parse it. In other words, convert it to dictionary so _Python_ recognizes it correctly. Fortunetly, we are not going to do it without help. We are going to use an already existing function that is in `json` module. In _Python_ what in _R_ is called `library` it is called a module. To use a function from a specific module we need to import it first. We already seen example of this with `numpy`."
   ]
  },
  {
   "cell_type": "code",
   "execution_count": null,
   "metadata": {},
   "outputs": [],
   "source": [
    "## Import json module\n",
    "import json\n",
    "## Use loads function\n",
    "json.loads(marian)"
   ]
  },
  {
   "cell_type": "markdown",
   "metadata": {},
   "source": [
    "This is all very good but it is a lot of lines. It requires opening and closing the file. Afterward we use this new module. Is there a way to make it more concise? Yes, of course. Consider the code below."
   ]
  },
  {
   "cell_type": "code",
   "execution_count": null,
   "metadata": {},
   "outputs": [],
   "source": [
    "import json\n",
    "with open('m.json', 'r') as file:\n",
    "    marian = json.loads(file.read())\n",
    "\n",
    "marian"
   ]
  },
  {
   "cell_type": "markdown",
   "metadata": {},
   "source": [
    "That is fine but what if we wanted to read to _Python_ a `JSON` line file. So now our approach will be kind of similar. But instead reading in everything at the same time we will do it line by line. Therefore, we will use the method `file.readlines()`. It creates a list of lines and in our case it allows us to convert every single line to dictionary."
   ]
  },
  {
   "cell_type": "code",
   "execution_count": null,
   "metadata": {},
   "outputs": [],
   "source": [
    "import json\n",
    "with open('mm.jl', 'r') as file:\n",
    "    mm = [ json.loads(item) for item in file.readlines() ]\n",
    "\n",
    "mm"
   ]
  },
  {
   "cell_type": "markdown",
   "metadata": {},
   "source": [
    "## Write out the data\n",
    "\n",
    "This is all very good. But let's now imagine that we want to save the data we produced in _Python_ in a form of `JSON`. Let's first imagine that we promised to help our friend who happens to be a librarian. We got the following variabels from somewhere and we want to create a dictionary with the record."
   ]
  },
  {
   "cell_type": "code",
   "execution_count": null,
   "metadata": {},
   "outputs": [],
   "source": [
    "title = 'Gone with the wind'\n",
    "author = 'Margaret Mitchell'\n",
    "blurb = \"\"\"\n",
    "Scarlett O'Hara, the beautiful, spoiled daughter of a well-to-do\n",
    "Georgia plantation owner, must use every means at her disposal to\n",
    "claw her way out of the poverty she finds herself in after Sherman's\n",
    "March to the Sea.\n",
    "\"\"\"\n",
    "pages = 1037\n",
    "published = 1936\n",
    "lang = 'en'"
   ]
  },
  {
   "cell_type": "code",
   "execution_count": null,
   "metadata": {},
   "outputs": [],
   "source": [
    "record = {'author' : author,\n",
    "          'blurb' : blurb,\n",
    "          'title' : title,\n",
    "          'pages' : pages,\n",
    "          'published_at' : published,\n",
    "          'lang' : lang}"
   ]
  },
  {
   "cell_type": "markdown",
   "metadata": {},
   "source": [
    "So, how to save it now? It is very similar to reading the data in. "
   ]
  },
  {
   "cell_type": "code",
   "execution_count": null,
   "metadata": {},
   "outputs": [],
   "source": [
    "import json\n",
    "\n",
    "with open('gone_with_the_wind.json', 'w') as file:\n",
    "    file.write(json.dumps(record))"
   ]
  },
  {
   "cell_type": "markdown",
   "metadata": {},
   "source": [
    "Let's now try to read the file and check whether it is the same as record."
   ]
  },
  {
   "cell_type": "code",
   "execution_count": null,
   "metadata": {},
   "outputs": [],
   "source": [
    "## YOUR CODE"
   ]
  },
  {
   "cell_type": "markdown",
   "metadata": {},
   "source": [
    "Ok, but how to save a list of dictionaries? Then, we will produce a `JSON` line file. It will be similar to how we read it."
   ]
  },
  {
   "cell_type": "code",
   "execution_count": null,
   "metadata": {},
   "outputs": [],
   "source": [
    "import json\n",
    "with open('mm2.jl', 'w') as file:\n",
    "    for line in mm_list:\n",
    "        file.write(json.dumps(line) + '\\n')"
   ]
  },
  {
   "cell_type": "code",
   "execution_count": null,
   "metadata": {},
   "outputs": [],
   "source": [
    "with open('mm2.jl', 'r') as file:\n",
    "    mm2 = [ json.loads(line) for line in file.readlines() ]"
   ]
  }
 ],
 "metadata": {
  "interpreter": {
   "hash": "bc8a0b2585560af3f1d798452673f163e266b8b1719efa57a26b24d73c90742c"
  },
  "kernelspec": {
   "display_name": "Python 3.9.7 ('ppss')",
   "language": "python",
   "name": "python3"
  },
  "language_info": {
   "codemirror_mode": {
    "name": "ipython",
    "version": 3
   },
   "file_extension": ".py",
   "mimetype": "text/x-python",
   "name": "python",
   "nbconvert_exporter": "python",
   "pygments_lexer": "ipython3",
   "version": "3.9.7"
  },
  "orig_nbformat": 4
 },
 "nbformat": 4,
 "nbformat_minor": 2
}
