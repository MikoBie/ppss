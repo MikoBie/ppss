{
 "cells": [
  {
   "attachments": {},
   "cell_type": "markdown",
   "metadata": {},
   "source": [
    "# Dictionaries (mappings) and JSON\n",
    "\n",
    "What we just saw was [JSON](https://www.youtube.com/watch?v=b4QDxoWlPFw) format that is commonly used online. When next semester we will be finally using some real data it will be most likely in this format. We will avoid using any kind of tabular data in _Python_ not because it is impossible but because for our purposes most of the time _R_ is better suited for the task.\n",
    "\n",
    "In _Python_ a natural representation of `JSON` is a dictionary (often also referred to as mapping). Any hashable object can be used as a key, for example, `int`, `float`, `bool`, `str`, but also a function or tuple. However, for now, we are going to use mostly strings or integers. In a way, a dictionary is similar to a list except that we index them using **keys** rather than integers. You can think about them as key-value pairs. Like `JSONs` they are enclosed between curly braces and each element is written as a key followed by a colon followed by a value. For example, consider the code below."
   ]
  },
  {
   "cell_type": "code",
   "execution_count": null,
   "metadata": {},
   "outputs": [],
   "source": [
    "## Let's define an empty dictionary\n",
    "empty_dct = {}\n",
    "\n",
    "## Let's define a dictionary with some elements\n",
    "nike = {\n",
    "    \"Dorota Masłowska\": \"Paw królowej\",\n",
    "    \"Piotr Matywiecki\": \"Ta chmura powraca\",\n",
    "    \"Zbigniew Mentzla\": \"Wszystkie języki świata\",\n",
    "    \"Eustachy Rylski\": \"Warunek\",\n",
    "    \"Wisława Szymborska\": \"Dwukropek\",\n",
    "    \"Mariusz Wilk\": \"Wołoka\",\n",
    "    \"Michał Witkowski\": \"Lubiewo\",\n",
    "}"
   ]
  },
  {
   "attachments": {},
   "cell_type": "markdown",
   "metadata": {},
   "source": [
    "Let's now see what are the most basic operations on dictionaries."
   ]
  },
  {
   "cell_type": "code",
   "execution_count": null,
   "metadata": {},
   "outputs": [],
   "source": [
    "## Return the number of items (key-value pairs) of a dictionary\n",
    "len(nike)"
   ]
  },
  {
   "cell_type": "code",
   "execution_count": null,
   "metadata": {},
   "outputs": [],
   "source": [
    "## Return a view of the keys in a dictionary\n",
    "nike.keys()"
   ]
  },
  {
   "cell_type": "code",
   "execution_count": null,
   "metadata": {},
   "outputs": [],
   "source": [
    "## Return a view of the values in a dictionary\n",
    "nike.values()"
   ]
  },
  {
   "cell_type": "code",
   "execution_count": null,
   "metadata": {},
   "outputs": [],
   "source": [
    "## Return a view of the (key, value) pairs in a dictionary\n",
    "nike.items()"
   ]
  },
  {
   "cell_type": "code",
   "execution_count": null,
   "metadata": {},
   "outputs": [],
   "source": [
    "## Update a dictionary with the (key, value) pair, overwriting existing keys.\n",
    "nike.update({\"Dorota Masłowska\": \"Motyle\"})\n",
    "nike"
   ]
  },
  {
   "cell_type": "code",
   "execution_count": null,
   "metadata": {},
   "outputs": [],
   "source": [
    "## Return True if a key is in a dictionary\n",
    "\"Dorota Masłowska\" in nike"
   ]
  },
  {
   "cell_type": "code",
   "execution_count": null,
   "metadata": {},
   "outputs": [],
   "source": [
    "## Returns the item if the key is in the dictionary\n",
    "nike[\"Dorota Masłowska\"]"
   ]
  },
  {
   "cell_type": "code",
   "execution_count": null,
   "metadata": {},
   "outputs": [],
   "source": [
    "## Return d[k] if k is in d, and v otherwise\n",
    "nike.get(\"Dorota Masłowska\", \"Nie ma\")"
   ]
  },
  {
   "cell_type": "code",
   "execution_count": null,
   "metadata": {},
   "outputs": [],
   "source": [
    "## Return d[k] if k is in d, and v otherwise\n",
    "nike.get(\"Czesła Miłosz\", \"Nie ma\")"
   ]
  },
  {
   "cell_type": "code",
   "execution_count": null,
   "metadata": {},
   "outputs": [],
   "source": [
    "## Associate the value with the key. If there is already a value associated with the key it is replaced\n",
    "nike[\"Zbigniew Rokita\"] = \"Kajś\"\n",
    "nike"
   ]
  },
  {
   "cell_type": "code",
   "execution_count": null,
   "metadata": {},
   "outputs": [],
   "source": [
    "## Remove the key from the dictionary\n",
    "del nike[\"Zbigniew Rokita\"]"
   ]
  },
  {
   "cell_type": "code",
   "execution_count": null,
   "metadata": {},
   "outputs": [],
   "source": [
    "## Pop the key from a dictionary\n",
    "title = nike.pop(\"Dorota Masłowska\")\n",
    "title"
   ]
  },
  {
   "cell_type": "code",
   "execution_count": null,
   "metadata": {},
   "outputs": [],
   "source": [
    "## Can we find a key by its value?\n",
    "nike[\"Dwukropek\"]"
   ]
  },
  {
   "attachments": {},
   "cell_type": "markdown",
   "metadata": {},
   "source": [
    "No. Why is it so? That is because dictionaries (mappings) are meant to represent functions, which in terms of maths are maps from one set to another ($A \\mapsto B$). It means that every element of $A$ (key) has to be uniquely mapped to an element of $B$ (value), but multiple keys can be mapped to one value. In other words, keys have to be unique while values may repeat in the same dictionary (mapping). For example, consider the code below."
   ]
  },
  {
   "cell_type": "code",
   "execution_count": null,
   "metadata": {},
   "outputs": [],
   "source": [
    "ChL = {\n",
    "    2010: \"Olympique Lyon\",\n",
    "    2011: \"Olympique Lyon\",\n",
    "    2012: \"Olympique Lyon\",\n",
    "    2013: \"Vfl Wolsburg\",\n",
    "    2014: \"Vfl Wolsburg\",\n",
    "    2015: \"FFC Frankfurt\",\n",
    "    2016: \"Olympique Lyon\",\n",
    "    2017: \"Olympique Lyon\",\n",
    "    2018: \"Olympique Lyon\",\n",
    "    2019: \"Olympique Lyon\",\n",
    "    2020: \"Olympique Lyon\",\n",
    "    2021: \"FC Barcelona\",\n",
    "    2022: \"Olympique Lyon\",\n",
    "    2023: \"FC Barcelona\",\n",
    "}\n",
    "\n",
    "ChL"
   ]
  },
  {
   "attachments": {},
   "cell_type": "markdown",
   "metadata": {},
   "source": [
    "The important thing is that the order of the keys in the dictionary is the order in which the keys were inserted. Let's then iterate over the dictionary. In fact, there are multiple ways to use `for-loop` over the entries of a dictionary. The simplest is to just go over the keys. For example, consider the code below."
   ]
  },
  {
   "cell_type": "code",
   "execution_count": null,
   "metadata": {},
   "outputs": [],
   "source": [
    "## Iterate over keys\n",
    "for key in ChL:\n",
    "    print(f\"{ChL[key]} won Champions League in {key}.\")"
   ]
  },
  {
   "cell_type": "code",
   "execution_count": null,
   "metadata": {},
   "outputs": [],
   "source": [
    "## Or by using method keys\n",
    "for key in ChL.keys():\n",
    "    print(f\"{ChL[key]} won Champions League in {key}.\")"
   ]
  },
  {
   "attachments": {},
   "cell_type": "markdown",
   "metadata": {},
   "source": [
    "Now, we can also iterate over the values of a dictionary. Instead of using the `dict.keys()` method we will use the `dict.values()` method. It works very similarly to the previous one. The values are again returned in the order of the entry."
   ]
  },
  {
   "cell_type": "code",
   "execution_count": null,
   "metadata": {},
   "outputs": [],
   "source": [
    "## We can iterate over values\n",
    "clubs = []\n",
    "for value in ChL.values():\n",
    "    clubs.append(value)\n",
    "\n",
    "print(f\"Champions League was won only by the following clubs {clubs}\")"
   ]
  },
  {
   "attachments": {},
   "cell_type": "markdown",
   "metadata": {},
   "source": [
    "This is cool but what we print does not have much sense because the names of the teams repeat. Can you try to fix it?"
   ]
  },
  {
   "cell_type": "code",
   "execution_count": null,
   "metadata": {},
   "outputs": [],
   "source": [
    "## Fix the code so clubs consider only unique names\n",
    "clubs = []\n",
    "for value in ChL.values():\n",
    "    if value not in clubs:\n",
    "        clubs.append(value)\n",
    "\n",
    "print(f\"Champions League was won only by the following clubs {clubs}\")"
   ]
  },
  {
   "attachments": {},
   "cell_type": "markdown",
   "metadata": {},
   "source": [
    "Let's now use the dictionary to solve the Task 1 from the homework assignment. Write a function that will count occurrences of integers in a list. It should take as the only argument a list of integers and return a dictionary with frequencies, i.e.\n",
    "\n",
    "```python\n",
    "input_list = [1, 2, 3, 3, 2, 4]\n",
    "output_dict = {1 : 1, 2 : 2, 3 : 2, 4 : 1}\n",
    "```\n",
    "This time try to iterate over every single element of a list."
   ]
  },
  {
   "cell_type": "code",
   "execution_count": null,
   "metadata": {},
   "outputs": [],
   "source": [
    "def dict_count(L1):\n",
    "    \"\"\"\n",
    "    It returns a dictionary with the frequencies of elements of L1.\n",
    "\n",
    "    Args:\n",
    "            L1 (list): a list of values\n",
    "\n",
    "    Returns:\n",
    "            dict: dictionary with frequencies of elements of L1\n",
    "    \"\"\"\n",
    "    output = {}\n",
    "    for item in L1:\n",
    "        if item in output:\n",
    "            output[item] += 1\n",
    "        else:\n",
    "            output[item] = 1\n",
    "    return output"
   ]
  },
  {
   "cell_type": "code",
   "execution_count": null,
   "metadata": {},
   "outputs": [],
   "source": [
    "import numpy as np\n",
    "\n",
    "np.random.seed(1987)\n",
    "rand_numbers = np.random.randint(0, 20, (100000,)).tolist()\n",
    "dict_count(rand_numbers)"
   ]
  },
  {
   "attachments": {},
   "cell_type": "markdown",
   "metadata": {},
   "source": [
    "What is more, we can also iterate over both keys and values at the same time. To do so we use method `dict.items()`. Therefore, in each iteration, each element of an object is a tuple of a key and its associated value."
   ]
  },
  {
   "cell_type": "code",
   "execution_count": null,
   "metadata": {},
   "outputs": [],
   "source": [
    "for key, value in ChL.items():\n",
    "    print(f\"{value} won the Champions League in {key}\")"
   ]
  },
  {
   "attachments": {},
   "cell_type": "markdown",
   "metadata": {},
   "source": [
    "The other important notion is that we can store mappings in a list. For example, let's come back to Marian and Marianna."
   ]
  },
  {
   "cell_type": "code",
   "execution_count": null,
   "metadata": {},
   "outputs": [],
   "source": [
    "## Let's define the mapping for Marianna\n",
    "marianna_dict = {\n",
    "    \"name\": \"Marianna\",\n",
    "    \"age\": 17,\n",
    "    \"interests\": [\n",
    "        {\"name\": \"physics\", \"field\": [\"quantum physics\", \"string theory\"]},\n",
    "        {\"name\": \"sport\", \"field\": [\"fishing\", \"football\"]},\n",
    "    ],\n",
    "}\n",
    "\n",
    "## Let's define the mapping for Marian\n",
    "marian_dict = {\n",
    "    \"name\": \"Marian\",\n",
    "    \"age\": 15,\n",
    "    \"interests\": [{\"name\": \"literature\", \"genre\": [\"poems\"]}],\n",
    "}"
   ]
  },
  {
   "cell_type": "code",
   "execution_count": null,
   "metadata": {},
   "outputs": [],
   "source": [
    "## We can store them in one list\n",
    "mm_list = [marianna_dict, marian_dict]\n",
    "mm_list"
   ]
  },
  {
   "attachments": {},
   "cell_type": "markdown",
   "metadata": {},
   "source": [
    "This looks more like a `JSON` line file I showed you before, right?"
   ]
  },
  {
   "cell_type": "code",
   "execution_count": null,
   "metadata": {},
   "outputs": [],
   "source": [
    "## Access Marianna's name\n",
    "mm_list[0][\"name\"]"
   ]
  },
  {
   "attachments": {},
   "cell_type": "markdown",
   "metadata": {},
   "source": [
    "## Read a file\n",
    "\n",
    "This is all very good. However, the issue here is that we mainly play with the data we produce or insert into _Python_ from the keyboard. This is fun but what we would like to do is to load this famous `JSON` to _Python_ and start playing with them. This is not that hard. We will now use the files I sent to you via email or you can download them from [here](https://classroom.google.com/c/NTQxNjE1OTc3MjYw/m/NjE0NDA3OTEwMTY3/details). In Colab, you need to do an extra step to load some data to _Python_ but it is somehow obvious. It is almost the same as uploading a file to Google Drive.\n",
    "\n",
    "Once we have the file uploaded to our workspace we can load it to _Python_ (you can think about it as opening the uploaded file in Google Docs)."
   ]
  },
  {
   "cell_type": "code",
   "execution_count": null,
   "metadata": {},
   "outputs": [],
   "source": [
    "## Open connection (a bit like open the file)\n",
    "file = open(\"m.json\", \"r\")\n",
    "## Read the contect of the file to variable\n",
    "marian = file.read()\n",
    "## Close the connection (a bit like close the file)\n",
    "file.close()"
   ]
  },
  {
   "cell_type": "code",
   "execution_count": null,
   "metadata": {},
   "outputs": [],
   "source": [
    "## Let's what it looks like\n",
    "marian"
   ]
  },
  {
   "cell_type": "code",
   "execution_count": null,
   "metadata": {},
   "outputs": [],
   "source": [
    "## It does not look like a dict but rather a string\n",
    "type(marian)"
   ]
  },
  {
   "attachments": {},
   "cell_type": "markdown",
   "metadata": {},
   "source": [
    "To convert this string that consists of a dictionary we would have to parse it. In other words, convert it to the dictionary so _Python_ recognizes it correctly. Fortunately, we are not going to do it without help. We are going to use an already existing function that is in `json` module. In _Python_ what in _R_ is called `library` is called a module. To use a function from a specific module we need to import it first. We have already seen an example of this with `numpy`."
   ]
  },
  {
   "cell_type": "code",
   "execution_count": null,
   "metadata": {},
   "outputs": [],
   "source": [
    "## Import json module\n",
    "import json\n",
    "\n",
    "## Use loads function\n",
    "json.loads(marian)"
   ]
  },
  {
   "attachments": {},
   "cell_type": "markdown",
   "metadata": {},
   "source": [
    "This is all very good but it is a lot of lines. It requires opening and closing the file. Afterward, we use this new module. Is there a way to make it more concise? Yes, of course. Consider the code below."
   ]
  },
  {
   "cell_type": "code",
   "execution_count": null,
   "metadata": {},
   "outputs": [],
   "source": [
    "import json\n",
    "\n",
    "with open(\"m.json\", \"r\") as file:\n",
    "    marian = json.loads(file.read())\n",
    "\n",
    "marian"
   ]
  },
  {
   "attachments": {},
   "cell_type": "markdown",
   "metadata": {},
   "source": [
    "That is fine but what if we wanted to read to _Python_ a `JSON` line file. So now our approach will be kind of similar. But instead of reading everything at the same time, we will do it line by line. Therefore, we will use the method `file.readlines()`. It creates a list of lines and in our case it allows us to convert every single line to a dictionary."
   ]
  },
  {
   "cell_type": "code",
   "execution_count": null,
   "metadata": {},
   "outputs": [],
   "source": [
    "import json\n",
    "\n",
    "with open(\"mm.jl\", \"r\") as file:\n",
    "    mm = [json.loads(item) for item in file.readlines()]\n",
    "\n",
    "mm"
   ]
  },
  {
   "attachments": {},
   "cell_type": "markdown",
   "metadata": {},
   "source": [
    "## Write out the data\n",
    "\n",
    "This is all very good. But let's now imagine that we want to save the data we produced in _Python_ in a form of `JSON`. Let's first imagine that we promised to help our friend who happens to be a librarian. We got the following variables from somewhere and we want to create a dictionary with the record."
   ]
  },
  {
   "cell_type": "code",
   "execution_count": null,
   "metadata": {},
   "outputs": [],
   "source": [
    "title = \"Gone with the wind\"\n",
    "author = \"Margaret Mitchell\"\n",
    "blurb = \"\"\"\n",
    "Scarlett O'Hara, the beautiful, spoiled daughter of a well-to-do\n",
    "Georgia plantation owner, must use every means at her disposal to\n",
    "claw her way out of the poverty she finds herself in after Sherman's\n",
    "March to the Sea.\n",
    "\"\"\"\n",
    "pages = 1037\n",
    "published = 1936\n",
    "lang = \"en\""
   ]
  },
  {
   "cell_type": "code",
   "execution_count": null,
   "metadata": {},
   "outputs": [],
   "source": [
    "## Create the dictionary with data from the previous chunk\n",
    "record = {}"
   ]
  },
  {
   "attachments": {},
   "cell_type": "markdown",
   "metadata": {},
   "source": [
    "So, how to save it now? It is very similar to reading the data. "
   ]
  },
  {
   "cell_type": "code",
   "execution_count": null,
   "metadata": {},
   "outputs": [],
   "source": [
    "import json\n",
    "\n",
    "with open(\"gone_with_the_wind.json\", \"w\") as file:\n",
    "    file.write(json.dumps(record))"
   ]
  },
  {
   "attachments": {},
   "cell_type": "markdown",
   "metadata": {},
   "source": [
    "Let's now try to read the file and check whether it is the same as the record."
   ]
  },
  {
   "cell_type": "code",
   "execution_count": null,
   "metadata": {},
   "outputs": [],
   "source": [
    "## YOUR CODE"
   ]
  },
  {
   "attachments": {},
   "cell_type": "markdown",
   "metadata": {},
   "source": [
    "Ok, but how to save a list of dictionaries? Then, we will produce a `JSON` line file. It will be similar to how we read it. However, this time we want to iterate over our list in _Python_ and put every single element of it as a separate line, separate `JSON` in the file."
   ]
  },
  {
   "cell_type": "code",
   "execution_count": null,
   "metadata": {},
   "outputs": [],
   "source": [
    "import json\n",
    "\n",
    "with open(\"mm2.jl\", \"w\") as file:\n",
    "    for line in mm_list:\n",
    "        file.write(json.dumps(line) + \"\\n\")"
   ]
  }
 ],
 "metadata": {
  "interpreter": {
   "hash": "bc8a0b2585560af3f1d798452673f163e266b8b1719efa57a26b24d73c90742c"
  },
  "kernelspec": {
   "display_name": "Python 3.9.7 ('ppss')",
   "language": "python",
   "name": "python3"
  },
  "language_info": {
   "codemirror_mode": {
    "name": "ipython",
    "version": 3
   },
   "file_extension": ".py",
   "mimetype": "text/x-python",
   "name": "python",
   "nbconvert_exporter": "python",
   "pygments_lexer": "ipython3",
   "version": "3.9.16"
  }
 },
 "nbformat": 4,
 "nbformat_minor": 2
}
