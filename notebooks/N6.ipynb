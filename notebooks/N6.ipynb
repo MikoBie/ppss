{
 "cells": [
  {
   "attachments": {},
   "cell_type": "markdown",
   "metadata": {},
   "source": [
    "# Dictionaries (mappings) and JSON\n",
    "\n",
    "What we just saw was [JSON](https://www.youtube.com/watch?v=b4QDxoWlPFw) format that is commonly used online. When next semester we will be finally using some real data it will be most likely in this format. We will avoid using any kind of tabular data in _Python_ not because it is impossible but because for our purposes most of the time _R_ is better suited for the task.\n",
    "\n",
    "In _Python_ a natural representation of `JSON` is a dictionary (often also referred to as mapping). Any hashable object can be used as a key, for example, `int`, `float`, `bool`, `str`, but also a function or tuple. However, for now, we are going to use mostly strings or integers. In a way, a dictionary is similar to a list except that we index them using **keys** rather than integers. You can think about them as key-value pairs. Like `JSONs` they are enclosed between curly braces and each element is written as a key followed by a colon followed by a value. For example, consider the code below."
   ]
  },
  {
   "cell_type": "code",
   "execution_count": null,
   "metadata": {},
   "outputs": [],
   "source": [
    "## Let's define an empty dictionary\n",
    "empty_dct = {}\n",
    "\n",
    "## Let's define a dictionary with some elements\n",
    "nike = {\n",
    "    \"Dorota Masłowska\": \"Paw królowej\",\n",
    "    \"Piotr Matywiecki\": \"Ta chmura powraca\",\n",
    "    \"Zbigniew Mentzla\": \"Wszystkie języki świata\",\n",
    "    \"Eustachy Rylski\": \"Warunek\",\n",
    "    \"Wisława Szymborska\": \"Dwukropek\",\n",
    "    \"Mariusz Wilk\": \"Wołoka\",\n",
    "    \"Michał Witkowski\": \"Lubiewo\",\n",
    "}"
   ]
  },
  {
   "attachments": {},
   "cell_type": "markdown",
   "metadata": {},
   "source": [
    "Let's now see what are the most basic operations on dictionaries."
   ]
  },
  {
   "cell_type": "code",
   "execution_count": null,
   "metadata": {},
   "outputs": [],
   "source": [
    "## Return the number of items (key-value pairs) of a dictionary\n",
    "len(nike)"
   ]
  },
  {
   "cell_type": "code",
   "execution_count": null,
   "metadata": {},
   "outputs": [],
   "source": [
    "## Return a view of the keys in a dictionary\n",
    "nike.keys()"
   ]
  },
  {
   "cell_type": "code",
   "execution_count": null,
   "metadata": {},
   "outputs": [],
   "source": [
    "## Return a view of the values in a dictionary\n",
    "nike.values()"
   ]
  },
  {
   "cell_type": "code",
   "execution_count": null,
   "metadata": {},
   "outputs": [],
   "source": [
    "## Return a view of the (key, value) pairs in a dictionary\n",
    "nike.items()"
   ]
  },
  {
   "cell_type": "code",
   "execution_count": null,
   "metadata": {},
   "outputs": [],
   "source": [
    "## Update a dictionary with the (key, value) pair, overwriting existing keys.\n",
    "nike.update({\"Dorota Masłowska\": \"Motyle\"})\n",
    "nike"
   ]
  },
  {
   "cell_type": "code",
   "execution_count": null,
   "metadata": {},
   "outputs": [],
   "source": [
    "## Return True if a key is in a dictionary\n",
    "\"Dorota Masłowska\" in nike"
   ]
  },
  {
   "cell_type": "code",
   "execution_count": null,
   "metadata": {},
   "outputs": [],
   "source": [
    "## Returns the item if the key is in the dictionary\n",
    "nike[\"Dorota Masłowska\"]"
   ]
  },
  {
   "cell_type": "code",
   "execution_count": null,
   "metadata": {},
   "outputs": [],
   "source": [
    "## Return d[k] if k is in d, and v otherwise\n",
    "nike.get(\"Dorota Masłowska\", \"Nie ma\")"
   ]
  },
  {
   "cell_type": "code",
   "execution_count": null,
   "metadata": {},
   "outputs": [],
   "source": [
    "## Return d[k] if k is in d, and v otherwise\n",
    "nike.get(\"Czesław Miłosz\", \"Nie ma\")"
   ]
  },
  {
   "cell_type": "code",
   "execution_count": null,
   "metadata": {},
   "outputs": [],
   "source": [
    "## Associate the value with the key. If there is already a value associated with the key it is replaced\n",
    "nike[\"Zbigniew Rokita\"] = \"Kajś\"\n",
    "nike"
   ]
  },
  {
   "cell_type": "code",
   "execution_count": null,
   "metadata": {},
   "outputs": [],
   "source": [
    "## Remove the key from the dictionary\n",
    "del nike[\"Zbigniew Rokita\"]"
   ]
  },
  {
   "cell_type": "code",
   "execution_count": null,
   "metadata": {},
   "outputs": [],
   "source": [
    "## Pop the key from a dictionary\n",
    "title = nike.pop(\"Dorota Masłowska\")\n",
    "title"
   ]
  },
  {
   "cell_type": "code",
   "execution_count": null,
   "metadata": {},
   "outputs": [],
   "source": [
    "## Can we find a key by its value?\n",
    "nike[\"Dwukropek\"]"
   ]
  },
  {
   "attachments": {},
   "cell_type": "markdown",
   "metadata": {},
   "source": [
    "No. Why is it so? That is because dictionaries (mappings) are meant to represent functions, which in terms of maths are maps from one set to another ($A \\mapsto B$). It means that every element of $A$ (key) has to be uniquely mapped to an element of $B$ (value), but multiple keys can be mapped to one value. In other words, keys have to be unique while values may repeat in the same dictionary (mapping). For example, consider the code below."
   ]
  },
  {
   "cell_type": "code",
   "execution_count": null,
   "metadata": {},
   "outputs": [],
   "source": [
    "ChL = {\n",
    "    2010: \"Olympique Lyon\",\n",
    "    2011: \"Olympique Lyon\",\n",
    "    2012: \"Olympique Lyon\",\n",
    "    2013: \"Vfl Wolsburg\",\n",
    "    2014: \"Vfl Wolsburg\",\n",
    "    2015: \"FFC Frankfurt\",\n",
    "    2016: \"Olympique Lyon\",\n",
    "    2017: \"Olympique Lyon\",\n",
    "    2018: \"Olympique Lyon\",\n",
    "    2019: \"Olympique Lyon\",\n",
    "    2020: \"Olympique Lyon\",\n",
    "    2021: \"FC Barcelona\",\n",
    "    2022: \"Olympique Lyon\",\n",
    "    2023: \"FC Barcelona\",\n",
    "}\n",
    "\n",
    "ChL"
   ]
  },
  {
   "attachments": {},
   "cell_type": "markdown",
   "metadata": {},
   "source": [
    "The important thing is that the order of the keys in the dictionary is the order in which the keys were inserted. Let's then iterate over the dictionary. In fact, there are multiple ways to use `for-loop` over the entries of a dictionary. The simplest is to just go over the keys. For example, consider the code below."
   ]
  },
  {
   "cell_type": "code",
   "execution_count": null,
   "metadata": {},
   "outputs": [],
   "source": [
    "## Iterate over keys\n",
    "for key in ChL:\n",
    "    print(f\"{ChL[key]} won Champions League in {key}.\")"
   ]
  },
  {
   "cell_type": "code",
   "execution_count": null,
   "metadata": {},
   "outputs": [],
   "source": [
    "## Or by using method keys\n",
    "for key in ChL.keys():\n",
    "    print(f\"{ChL[key]} won Champions League in {key}.\")"
   ]
  },
  {
   "attachments": {},
   "cell_type": "markdown",
   "metadata": {},
   "source": [
    "Now, we can also iterate over the values of a dictionary. Instead of using the `dict.keys()` method we will use the `dict.values()` method. It works very similarly to the previous one. The values are again returned in the order of the entry."
   ]
  },
  {
   "cell_type": "code",
   "execution_count": null,
   "metadata": {},
   "outputs": [],
   "source": [
    "## We can iterate over values\n",
    "clubs = []\n",
    "for value in ChL.values():\n",
    "    clubs.append(value)\n",
    "\n",
    "print(f\"Champions League was won only by the following clubs {clubs}\")"
   ]
  },
  {
   "attachments": {},
   "cell_type": "markdown",
   "metadata": {},
   "source": [
    "## Exercise \n",
    "\n",
    "This is cool but what we print does not have much sense because the names of the teams repeat. Can you try to fix it?"
   ]
  },
  {
   "cell_type": "code",
   "execution_count": null,
   "metadata": {},
   "outputs": [],
   "source": [
    "## YOUR CODE"
   ]
  },
  {
   "cell_type": "markdown",
   "metadata": {},
   "source": [
    "What is more, we can also iterate over both keys and values at the same time. To do so we use method `dict.items()`. Therefore, in each iteration, each element of an object is a tuple of a key and its associated value."
   ]
  },
  {
   "cell_type": "code",
   "execution_count": null,
   "metadata": {},
   "outputs": [],
   "source": [
    "for key, value in ChL.items():\n",
    "    print(f\"{value} won the Champions League in {key}\")"
   ]
  },
  {
   "attachments": {},
   "cell_type": "markdown",
   "metadata": {},
   "source": [
    "## Exercise\n",
    "\n",
    "Let's now use the dictionary to solve the Task 1 from the homework assignment. Write a function that will count occurrences of integers in a list. It should take as the only argument a list of integers and return a dictionary with frequencies, i.e.\n",
    "\n",
    "```python\n",
    "input_list = [1, 2, 3, 3, 2, 4]\n",
    "output_dict = {1 : 1, 2 : 2, 3 : 2, 4 : 1}\n",
    "```\n",
    "This time try to iterate over every single element of a list."
   ]
  },
  {
   "cell_type": "code",
   "execution_count": null,
   "metadata": {},
   "outputs": [],
   "source": [
    "# ruff:noqa\n",
    "def dict_count(L1):\n",
    "    \"\"\"\n",
    "    It returns a dictionary with the frequencies of elements of L1.\n",
    "\n",
    "    Args:\n",
    "            L1 (list): a list of values\n",
    "\n",
    "    Returns:\n",
    "            dict: dictionary with frequencies of elements of L1\n",
    "    \"\"\"\n",
    "    results = {}\n",
    "    for el in L1:\n",
    "        if el not in results:\n",
    "            results[el] = 1\n",
    "        else:\n",
    "            results[el] += 1\n",
    "    return results"
   ]
  },
  {
   "cell_type": "code",
   "execution_count": null,
   "metadata": {},
   "outputs": [],
   "source": [
    "import numpy as np\n",
    "\n",
    "np.random.seed(1987)\n",
    "rand_numbers = np.random.randint(0, 20, (100000,)).tolist()\n",
    "dict_count(rand_numbers)"
   ]
  },
  {
   "attachments": {},
   "cell_type": "markdown",
   "metadata": {},
   "source": [
    "The other important notion is that we can store mappings in a list. For example, let's come back to Marian and Marianna."
   ]
  },
  {
   "cell_type": "code",
   "execution_count": null,
   "metadata": {},
   "outputs": [],
   "source": [
    "## Let's define the mapping for Marianna\n",
    "marianna_dict = {\n",
    "    \"name\": \"Marianna\",\n",
    "    \"age\": 17,\n",
    "    \"interests\": [\n",
    "        {\"name\": \"physics\", \"field\": [\"quantum physics\", \"string theory\"]},\n",
    "        {\"name\": \"sport\", \"field\": [\"fishing\", \"football\"]},\n",
    "    ],\n",
    "}\n",
    "\n",
    "## Let's define the mapping for Marian\n",
    "marian_dict = {\n",
    "    \"name\": \"Marian\",\n",
    "    \"age\": 15,\n",
    "    \"interests\": [{\"name\": \"literature\", \"genre\": [\"poems\"]}],\n",
    "}"
   ]
  },
  {
   "cell_type": "code",
   "execution_count": null,
   "metadata": {},
   "outputs": [],
   "source": [
    "## We can store them in one list\n",
    "mm_list = [marianna_dict, marian_dict]\n",
    "mm_list"
   ]
  },
  {
   "attachments": {},
   "cell_type": "markdown",
   "metadata": {},
   "source": [
    "This looks more like a `JSON` line file I showed you before, right?"
   ]
  },
  {
   "cell_type": "code",
   "execution_count": null,
   "metadata": {},
   "outputs": [],
   "source": [
    "## Access Marianna's name\n",
    "mm_list[0][\"name\"]"
   ]
  }
 ],
 "metadata": {
  "kernelspec": {
   "display_name": "ppss",
   "language": "python",
   "name": "python3"
  },
  "language_info": {
   "codemirror_mode": {
    "name": "ipython",
    "version": 3
   },
   "file_extension": ".py",
   "mimetype": "text/x-python",
   "name": "python",
   "nbconvert_exporter": "python",
   "pygments_lexer": "ipython3",
   "version": "3.9.16"
  }
 },
 "nbformat": 4,
 "nbformat_minor": 2
}
