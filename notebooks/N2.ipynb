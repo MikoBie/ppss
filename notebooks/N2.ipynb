{
 "cells": [
  {
   "cell_type": "markdown",
   "metadata": {},
   "source": [
    "# Branching and Iterations\n",
    "\n",
    "## Strings\n",
    "\n",
    "We have already seen quite a few different types of values, namely integers (whole numbers), floating-pong (real) numbers, and logical values. However, it would be nive if we could write something and compute on textual values, right? Fortunately, we can."
   ]
  },
  {
   "cell_type": "code",
   "execution_count": null,
   "metadata": {},
   "outputs": [],
   "source": [
    "\"Bob and Alice are two generic persons.\""
   ]
  },
  {
   "cell_type": "markdown",
   "metadata": {},
   "source": [
    "The thing above is a so-called **string** (abbreviated as `str` in _Python_). NOTE: `str` in _Python_ is not the same as `chr` in _R_. That is because they are divisible while `chr` are not. In _Python_ we don't have a type corresponding to a character. Instaed, we use a string of length 1. We will see it in a moment.\n",
    "\n",
    "Summing up we have the following primitive types in _Python_:\n",
    "\n",
    "1. Logical values (or booleans; called `bool` in _Python_)\n",
    "2. Integers (called `int` in _Python_)\n",
    "3. Floating-point numbers (called `float` in _Python_)\n",
    "4. Strings (called `str` in _Python_)\n",
    "\n",
    "We have already seen taht we have quite a lot of different operators that allows us to comute numbers and booleans. It turns out that we have also some basic operators for computing `strings`."
   ]
  },
  {
   "cell_type": "code",
   "execution_count": null,
   "metadata": {},
   "outputs": [],
   "source": [
    "s1 = \"Text\"\n",
    "s2 = 'More text'"
   ]
  },
  {
   "cell_type": "code",
   "execution_count": null,
   "metadata": {},
   "outputs": [],
   "source": [
    "## Adding two strings concatenates them\n",
    "s1 + s2"
   ]
  },
  {
   "cell_type": "code",
   "execution_count": null,
   "metadata": {},
   "outputs": [],
   "source": [
    "## Multiplying a string by an integer repeats it n times\n",
    "s1*4"
   ]
  },
  {
   "cell_type": "code",
   "execution_count": null,
   "metadata": {},
   "outputs": [],
   "source": [
    "## Does it always make sense to multiply a string?\n",
    "s1 * 2.5"
   ]
  },
  {
   "cell_type": "markdown",
   "metadata": {},
   "source": [
    "So what is the lesson from the error above? First of all, we just can **not** multiply a `str` by a `float`. That is quite simple. However, the second conclusion we can draw is that _Python_ checks the types of the variables before computing anything. This is quite generous of it."
   ]
  },
  {
   "cell_type": "code",
   "execution_count": null,
   "metadata": {},
   "outputs": [],
   "source": [
    "## We can also ask for the length of a string (number of individual characters)\n",
    "len(s1)"
   ]
  },
  {
   "cell_type": "markdown",
   "metadata": {},
   "source": [
    "or we can compare strings between one another"
   ]
  },
  {
   "cell_type": "code",
   "execution_count": null,
   "metadata": {},
   "outputs": [],
   "source": [
    "## whether they are identical\n",
    "s1 == s2"
   ]
  },
  {
   "cell_type": "code",
   "execution_count": null,
   "metadata": {},
   "outputs": [],
   "source": [
    "## or whether s1 is longer than s2\n",
    "s1 > s2"
   ]
  },
  {
   "cell_type": "code",
   "execution_count": null,
   "metadata": {},
   "outputs": [],
   "source": [
    "## how to check whether s1 and s2 are not the same length?\n"
   ]
  },
  {
   "cell_type": "markdown",
   "metadata": {},
   "source": [
    "### Indexing\n",
    "\n",
    "Likewise most of the programming languages, _Python_ is zero-based. It means that unlike _R_ you start indexes in divisible elements from 0."
   ]
  },
  {
   "cell_type": "code",
   "execution_count": null,
   "metadata": {},
   "outputs": [],
   "source": [
    "## For example to access the first element of the string 'abc'\n",
    "'abc'[0]"
   ]
  },
  {
   "cell_type": "code",
   "execution_count": null,
   "metadata": {},
   "outputs": [],
   "source": [
    "## And what happens if we make a mistake with the index?\n",
    "'abc'[3]"
   ]
  },
  {
   "cell_type": "markdown",
   "metadata": {},
   "source": [
    "The very useful property of _Python_ is negative indexing. It allows for accessing the last element of an object without knowing it length."
   ]
  },
  {
   "cell_type": "code",
   "execution_count": null,
   "metadata": {},
   "outputs": [],
   "source": [
    "## To access the last element we simpel use negative 1\n",
    "'abc'[-1]"
   ]
  },
  {
   "cell_type": "markdown",
   "metadata": {},
   "source": [
    "### Slicing\n",
    "\n",
    "Slicing allows for extracting substrings of aribtrary length. It has very similar syntax like in `R` because if `s` is a string the expression `s[start:end]` denotes a string that starts at index `start` and ends it index `end-1`. That is because otherwise `s[0:len(s)]` would not work."
   ]
  },
  {
   "cell_type": "code",
   "execution_count": null,
   "metadata": {},
   "outputs": [],
   "source": [
    "## Let define a string\n",
    "s1 = \"Bob's your uncle\""
   ]
  },
  {
   "cell_type": "code",
   "execution_count": null,
   "metadata": {},
   "outputs": [],
   "source": [
    "## To get the first three leters\n",
    "s1[:3]"
   ]
  },
  {
   "cell_type": "code",
   "execution_count": null,
   "metadata": {},
   "outputs": [],
   "source": [
    "## To get all of it\n",
    "s1[:]"
   ]
  },
  {
   "cell_type": "code",
   "execution_count": null,
   "metadata": {},
   "outputs": [],
   "source": [
    "## To get only every second character\n",
    "s1[::2]"
   ]
  },
  {
   "cell_type": "code",
   "execution_count": null,
   "metadata": {},
   "outputs": [],
   "source": [
    "## To get it in reverse order\n",
    "s1[::-1]"
   ]
  },
  {
   "cell_type": "markdown",
   "metadata": {},
   "source": [
    "## Branching (if-statements)\n",
    "\n",
    "So far we were mostly using _Python_ and foremost thinking about it as a simple calculator that executes chunks of code one after another in the order which they appear. This is a bit borring way of writing code and also we can not tackle most of the things using this approach.\n",
    "\n",
    "\n",
    "Branching programs are more interesting. That is the programms in which flow of control is more complicated than simple executing one line after another. The most simple branching statement is a conditional (if-statement). As it is shown below it has three parts:\n",
    "\n",
    "* A test, i.e. experssion that evaluates to either `True` or `False`\n",
    "* A block of code that is executed if the test evaluates to `True`\n",
    "* An optional bloack of code that is run if the test evaluetes to `False`\n",
    "\n",
    "![Flowchart for conditional statements](png/branching.png)"
   ]
  },
  {
   "cell_type": "code",
   "execution_count": 2,
   "metadata": {},
   "outputs": [
    {
     "name": "stdout",
     "output_type": "stream",
     "text": [
      "Odd\n"
     ]
    }
   ],
   "source": [
    "## The simplest example of if-statement in Python\n",
    "x = 5\n",
    "if x%2 == 0:\n",
    "        print('Even')\n",
    "else:\n",
    "        print('Odd')"
   ]
  },
  {
   "cell_type": "markdown",
   "metadata": {},
   "source": [
    "So what exactly happened? Actually, nothing really odd. Expression `x%2 == 0` is `True` only if the remainder of `x` diveded by `2` is `0`, and `False` otherwise. This is quite simple. However, the important is how we mark a block of code in _Python_. Unlike _R_ or many other languages we do not use brackets of any sort but indentation. It is important to be consistent in this regard because although _Python_ should accept both `tab` and `spaces` sometimes it might return an error. Good practice is use **4 spaces** for indentation.\n",
    "\n",
    "Let's now try something more complicated so-called nested conditional statements."
   ]
  },
  {
   "cell_type": "code",
   "execution_count": 3,
   "metadata": {},
   "outputs": [],
   "source": [
    "## Let's check it\n",
    "if x%2 == 0:\n",
    "        if x%3 == 0:\n",
    "                print('Divisible by 2 and 3')\n",
    "        else:\n",
    "                print('Divisible by 2 and not by 3')\n",
    "elif x%3 == 0:\n",
    "        print('Divisible by 3 and not by 2')\n",
    "        "
   ]
  },
  {
   "cell_type": "markdown",
   "metadata": {},
   "source": [
    "Are we suprised? Why didn't we get any result? That is because `x` equals `5` therefore it is neither divisible by 2 nor 3."
   ]
  },
  {
   "cell_type": "code",
   "execution_count": 4,
   "metadata": {},
   "outputs": [],
   "source": [
    "## Copy the previous chunk here and try to fix it.\n",
    "## It should return something when x is neither\n",
    "## divisible by 3 nor 2."
   ]
  },
  {
   "cell_type": "markdown",
   "metadata": {},
   "source": [
    "That was all very good and you will very often use nested conditional statements. However, sometimes it is enough to use the power of logic and compound Boolean statements instead, for example `x > 2 and y > 3`."
   ]
  },
  {
   "cell_type": "code",
   "execution_count": 6,
   "metadata": {},
   "outputs": [
    {
     "name": "stdout",
     "output_type": "stream",
     "text": [
      "x is positive while y is negative\n"
     ]
    }
   ],
   "source": [
    "## Let's see how it work.\n",
    "y = -1\n",
    "if x > 0 and y < 0:\n",
    "        print('x is positive while y is negative')"
   ]
  },
  {
   "cell_type": "markdown",
   "metadata": {},
   "source": [
    "Although _Python_ is smart enough to understand that what we actually check is conjunction of `x > 0` and `y < 0` without brackets often it is safer to use them anyway.\n",
    "\n",
    "```python\n",
    "if (x > 0) and (y < 0):\n",
    "\tprint('x is positive while y is negative')\n",
    "```\n",
    "Now let's see how we can use the power of logic in _Python_. Write an `if-statement` which will return `Hurray` when a number is either divisible by both 2 and 3 or neither of them. When it is divisble only by 2 or only by 3 it should return `Ehhh`."
   ]
  },
  {
   "cell_type": "code",
   "execution_count": 7,
   "metadata": {},
   "outputs": [],
   "source": [
    "## Try it here"
   ]
  },
  {
   "cell_type": "markdown",
   "metadata": {},
   "source": [
    "## While loops\n",
    "\n",
    "Although branching is pretty cool most computational tasks can not be accomplished using it. For example, imagine that you want to find the square root of the a number using the algorithm we discussed last time.\n",
    "\n",
    "1. Start with a guess, $g$.\n",
    "2. If $g\\times g$ is close enough to $x$, stop and say that $g$ is the answer.\n",
    "3. Otherwise create a new guess by averaging $g$ and $x/g$, i.e. $\\frac{(g + x/g)}{2}$.\n",
    "4. Using this new guess, which we again call $g$, repeat the process until $g \\times g$ is close enough to $x$.\n",
    "\n",
    "If would like to use just `if-statements` we would soon realise that for every single number we would have to write seperate program. It would look something like that:\n",
    "\n",
    "```python\n",
    "epsilon = .01\n",
    "number = 25\n",
    "g = 0\n",
    "if abs((g*g)**2 - number) > .01:\n",
    "\tg = (g + number/g) / 2\n",
    "else:\n",
    "\tprint('The answer is' g)\n",
    "if abs((g*g)**2 - number) > .01:\n",
    "\tg = (g + number/g) / 2\n",
    "else:\n",
    "\tprint('The answer is' g)\n",
    "if abs((g*g)**2 - number) > .01:\n",
    "\tg = (g + number/g) / 2\n",
    "else:\n",
    "\tprint('The answer is' g)\n",
    "if abs((g*g)**2 - number) > .01:\n",
    "\tg = (g + number/g) / 2\n",
    "else:\n",
    "\tprint('The answer is' g)\n",
    "```\n",
    "If only there was a way to avoid repating the same piece of code over and over again and writing the program for every single use-case. Fortunetly, there is. In programming languages, it is called iteration and the most generic loop mechanism is a `while-loop`. In general, it is has the following structure. \n",
    "\n",
    "![While-loop scheme](png/while.png)"
   ]
  },
  {
   "cell_type": "code",
   "execution_count": 58,
   "metadata": {},
   "outputs": [
    {
     "name": "stdout",
     "output_type": "stream",
     "text": [
      "2.0\n",
      "1.75\n",
      "1.7321428571428572\n",
      "The answer is 1.73\n"
     ]
    }
   ],
   "source": [
    "## Let's test the square root algorithm with a while loop\n",
    "number = int(input('The square root of which number should I find? '))\n",
    "epsilon = .01\n",
    "g = 1\n",
    "while abs((g*g) - number) > epsilon:\n",
    "        g = (g + number/g) / 2\n",
    "        print(g) ## just to see what are the guesses\n",
    "print('The answer is', round(g,2)) ## a bit of a cheat cause we round the result to two decimal points\n",
    "        "
   ]
  },
  {
   "cell_type": "markdown",
   "metadata": {},
   "source": [
    "The example above somehow works but it is not the best possible solution of the square root problem. We will discuss better solutions next week. However, let's now focus on an easier problem -- squaring and integer (again it will not be the best solution but it will good enough for now). We will use repetive addition method. It is a very simple method that at first migh look strange but if you realise that multiplication is just fast addition everything should be clear. Let's see how it works."
   ]
  },
  {
   "cell_type": "code",
   "execution_count": 59,
   "metadata": {},
   "outputs": [
    {
     "name": "stdout",
     "output_type": "stream",
     "text": [
      "3 * 3 = 9\n"
     ]
    }
   ],
   "source": [
    "## Squaring and integer by repetitve adding\n",
    "x = 3\n",
    "ans = 0\n",
    "num_iterations = 0\n",
    "while (num_iterations < x):\n",
    "        ans = ans + x\n",
    "        num_iterations += 1\n",
    "print(x, '*', x, '=', ans)"
   ]
  },
  {
   "cell_type": "markdown",
   "metadata": {},
   "source": [
    "Hurray, it somehow works. Let's see what happened under the hood by hand simulating each iteration.\n",
    "\n",
    "|Test # | x | ans | num_iterations|\n",
    "|-------|---|-----|---------------|\n",
    "|   1   | 3 |  0  | 0\n",
    "|   2   | 3 |  3  | 1\n",
    "|   3   | 3 |  6  | 2\n",
    "|   4   | 3 |  9  | 3\n",
    "\n",
    "When the test is reached for the fourth time, it is evaluated to False and the loop breaks. The flow of control proceeds to `print` that follows the `while-loop`. Let's look at the code below and try to break it."
   ]
  },
  {
   "cell_type": "code",
   "execution_count": 60,
   "metadata": {},
   "outputs": [
    {
     "name": "stdout",
     "output_type": "stream",
     "text": [
      "0 to power 2 equals 0\n"
     ]
    }
   ],
   "source": [
    "## Squaring and integer by repetitve adding\n",
    "x = int(input('What number you would like to take to the power 2? '))\n",
    "ans = 0\n",
    "num_iterations = 0\n",
    "while (num_iterations < x):\n",
    "        ans = ans + x\n",
    "        num_iterations += 1\n",
    "print(x, 'to power 2 equals', ans)"
   ]
  },
  {
   "cell_type": "markdown",
   "metadata": {},
   "source": [
    "Try to fix the program for negative `x`."
   ]
  },
  {
   "cell_type": "code",
   "execution_count": 70,
   "metadata": {},
   "outputs": [
    {
     "name": "stdout",
     "output_type": "stream",
     "text": [
      "-2 to power 2 equals 0\n"
     ]
    }
   ],
   "source": [
    "## Fix it for negative values\n",
    "x = -2\n",
    "ans = 0\n",
    "num_iterations = 0\n",
    "while (num_iterations < x):\n",
    "        ans = ans + x\n",
    "        num_iterations += 1\n",
    "print(x, 'to power 2 equals', ans)"
   ]
  },
  {
   "cell_type": "markdown",
   "metadata": {},
   "source": [
    "## For-loop\n",
    "\n",
    "You must have heard of a `for-loop` before. But not necessarly you know that it is a kind of a `while-loop`. In general, it allows to iterate over a sequence and for each element execute code block. In _Python_ we have two ways of doing it which under the hood are very similar but at the first glance they look different. Let's start with something which is very similar as in _R_.\n",
    "\n",
    "```python\n",
    "for i in range(10):\n",
    "\tprint(i)\n",
    "```\n",
    "As you would probably imagine the chunk of code above would simple take a number from `0` to `9` and print it. `range()` function simply construct this object that returns numbers smaller than its argument in the ascending order from the smallest to the biggest. We will have a look into its help page in a moment. For now let's stick to this definition.\n",
    "\n"
   ]
  },
  {
   "cell_type": "code",
   "execution_count": 74,
   "metadata": {},
   "outputs": [
    {
     "name": "stdout",
     "output_type": "stream",
     "text": [
      "0\n",
      "1\n",
      "2\n",
      "3\n",
      "4\n",
      "5\n",
      "6\n",
      "7\n",
      "8\n",
      "9\n"
     ]
    }
   ],
   "source": [
    "## Example of for-loop\n",
    "for i in range(10):\n",
    "        print(i)"
   ]
  },
  {
   "cell_type": "markdown",
   "metadata": {},
   "source": [
    "That was a very similar to `for-loop` in _R_, right? So let's try to print every single element of the string `Bob's your uncle`."
   ]
  },
  {
   "cell_type": "code",
   "execution_count": 75,
   "metadata": {},
   "outputs": [
    {
     "name": "stdout",
     "output_type": "stream",
     "text": [
      "B\n",
      "o\n",
      "b\n",
      "'\n",
      "s\n",
      " \n",
      "y\n",
      "o\n",
      "u\n",
      "r\n",
      " \n",
      "u\n",
      "n\n",
      "c\n",
      "l\n",
      "e\n"
     ]
    }
   ],
   "source": [
    "## Let's print every single letter of the proverb\n",
    "## Hint use the len function and indexing\n",
    "roverb = \"Bob's your uncle\""
   ]
  },
  {
   "cell_type": "markdown",
   "metadata": {},
   "source": [
    "However, in _Python_ there is also a way to iterate directly through element of a divisble object. If we were given the same task as above we could write a `for-loop` without using the `range()` function. We can iterate directly through elements of the string."
   ]
  },
  {
   "cell_type": "code",
   "execution_count": 76,
   "metadata": {},
   "outputs": [
    {
     "name": "stdout",
     "output_type": "stream",
     "text": [
      "F\n",
      "u\n",
      "n\n",
      "n\n",
      "y\n",
      "'\n",
      "s\n",
      " \n",
      "y\n",
      "o\n",
      "u\n",
      "r\n",
      " \n",
      "a\n",
      "u\n",
      "n\n",
      "t\n"
     ]
    }
   ],
   "source": [
    "## Iteration over element of an object\n",
    "proverb = \"Funny's your aunt\"\n",
    "for chr in proverb:\n",
    "        print(chr)"
   ]
  },
  {
   "cell_type": "markdown",
   "metadata": {},
   "source": [
    "## Type conversion (type cast)\n",
    "\n",
    "We have already seen that there are four primitive types in _Python_. Sometime we would be interested in converting variables from one type to another. It is not always possible to do it, for example it is impossible to convert `str` into `int` or `float` but it is always possible to convert into `str`. Moreover, often it is very convinient to do so.\n"
   ]
  },
  {
   "cell_type": "code",
   "execution_count": 2,
   "metadata": {},
   "outputs": [],
   "source": [
    "## Let's define a few objects\n",
    "type_int = 3\n",
    "type_float = 3.0\n",
    "type_bool = True\n",
    "type_str = 'Bob'\n"
   ]
  },
  {
   "cell_type": "code",
   "execution_count": 6,
   "metadata": {},
   "outputs": [],
   "source": [
    "## To convert any primitive object into string we simply\n",
    "str_int = str(type_int)"
   ]
  },
  {
   "cell_type": "code",
   "execution_count": 7,
   "metadata": {},
   "outputs": [
    {
     "data": {
      "text/plain": [
       "str"
      ]
     },
     "execution_count": 7,
     "metadata": {},
     "output_type": "execute_result"
    }
   ],
   "source": [
    "## To check the type we simple use a function type\n",
    "type(str_int)"
   ]
  },
  {
   "cell_type": "markdown",
   "metadata": {},
   "source": [
    "We can convert boolean objects to `str`, `int`, and `float`. While the conversion to strings is not very interesting to `int` and `float` is often very helpful."
   ]
  },
  {
   "cell_type": "code",
   "execution_count": 8,
   "metadata": {},
   "outputs": [
    {
     "data": {
      "text/plain": [
       "1"
      ]
     },
     "execution_count": 8,
     "metadata": {},
     "output_type": "execute_result"
    }
   ],
   "source": [
    "## Bool to int\n",
    "int(type_bool)"
   ]
  },
  {
   "cell_type": "code",
   "execution_count": 11,
   "metadata": {},
   "outputs": [
    {
     "data": {
      "text/plain": [
       "0.0"
      ]
     },
     "execution_count": 11,
     "metadata": {},
     "output_type": "execute_result"
    }
   ],
   "source": [
    "## Bool to float\n",
    "float(not type_bool)"
   ]
  },
  {
   "cell_type": "markdown",
   "metadata": {},
   "source": [
    "What is more you can also add directly `bool` variables to one another"
   ]
  },
  {
   "cell_type": "code",
   "execution_count": 13,
   "metadata": {},
   "outputs": [
    {
     "data": {
      "text/plain": [
       "5.3"
      ]
     },
     "execution_count": 13,
     "metadata": {},
     "output_type": "execute_result"
    }
   ],
   "source": [
    "True + False + 4.3"
   ]
  },
  {
   "cell_type": "markdown",
   "metadata": {},
   "source": []
  }
 ],
 "metadata": {
  "interpreter": {
   "hash": "bc8a0b2585560af3f1d798452673f163e266b8b1719efa57a26b24d73c90742c"
  },
  "kernelspec": {
   "display_name": "Python 3.9.7 ('ppss')",
   "language": "python",
   "name": "python3"
  },
  "language_info": {
   "codemirror_mode": {
    "name": "ipython",
    "version": 3
   },
   "file_extension": ".py",
   "mimetype": "text/x-python",
   "name": "python",
   "nbconvert_exporter": "python",
   "pygments_lexer": "ipython3",
   "version": "3.9.7"
  },
  "orig_nbformat": 4
 },
 "nbformat": 4,
 "nbformat_minor": 2
}
