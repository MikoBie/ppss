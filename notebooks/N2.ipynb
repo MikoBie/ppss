{
 "cells": [
  {
   "cell_type": "markdown",
   "metadata": {},
   "source": [
    "# Branching and Iterations\n",
    "\n",
    "## Strings\n",
    "\n",
    "We have already seen quite a few different types of values, namely integers (whole numbers), floating-point (real) numbers, and logical values. However, it would be nice if we could write something and compute on textual values, right? Fortunately, we can. For example:\n",
    "\n",
    "```python\n",
    "\"Bob and Funny are two generic cousins.\"\n",
    "```\n",
    "\n",
    "The thing above is a so-called **string** (abbreviated as `str` in _Python_). NOTE: `str` in _Python_ is not the same as `chr` in _R_. That is because `str` is divisible while `chr` is not. In _Python_ we don't have a type corresponding to a character. Instead, we use a string of length 1. We will see it in a moment.\n",
    "\n",
    "Summing up we have the following primitive types in _Python_:\n",
    "\n",
    "1. Logical values (or booleans; called `bool` in _Python_)\n",
    "2. Integers (called `int` in _Python_)\n",
    "3. Floating-point numbers (called `float` in _Python_)\n",
    "4. Strings (called `str` in _Python_)\n",
    "\n",
    "We have already seen that we have quite a lot of different operators that allow us to compute numbers and booleans. It turns out that we have also some basic operators for computing `strings`."
   ]
  },
  {
   "cell_type": "code",
   "execution_count": null,
   "metadata": {},
   "outputs": [],
   "source": [
    "s1 = \"Text\"\n",
    "s2 = 'More text'"
   ]
  },
  {
   "cell_type": "code",
   "execution_count": null,
   "metadata": {},
   "outputs": [],
   "source": [
    "## Adding two strings concatenates them\n",
    "s1 + s2"
   ]
  },
  {
   "cell_type": "code",
   "execution_count": null,
   "metadata": {},
   "outputs": [],
   "source": [
    "## Multiplying a string by an integer repeats it n times\n",
    "s1*4"
   ]
  },
  {
   "cell_type": "code",
   "execution_count": null,
   "metadata": {},
   "outputs": [],
   "source": [
    "## Does it always make sense to multiply a string?\n",
    "s1 * 2.5"
   ]
  },
  {
   "cell_type": "markdown",
   "metadata": {},
   "source": [
    "So what is the lesson from the error above? First of all, we just can **not** multiply a `str` by a `float`. That is quite simple. However, the second conclusion we can draw is that _Python_ checks the types of the variables before computing anything. This is quite generous of it. We can check the type of an object ourselves by using the function `type()`. It takes as an argument an object and returns its type.\n",
    "\n",
    "We can also ask for the length of a string (number of individual characters) with the use of the function `len()`. It takes as an argument a divisible object and returns its length."
   ]
  },
  {
   "cell_type": "code",
   "execution_count": null,
   "metadata": {},
   "outputs": [],
   "source": [
    "## To check number of characters\n",
    "len(s1)"
   ]
  },
  {
   "cell_type": "markdown",
   "metadata": {},
   "source": [
    "Or we can compare strings between one another."
   ]
  },
  {
   "cell_type": "code",
   "execution_count": null,
   "metadata": {},
   "outputs": [],
   "source": [
    "## Whether they are identical\n",
    "s1 == s2"
   ]
  },
  {
   "cell_type": "code",
   "execution_count": null,
   "metadata": {},
   "outputs": [],
   "source": [
    "## or whether, for example, s1 comes after s2 in the dictionary\n",
    "s1 > s2"
   ]
  },
  {
   "cell_type": "code",
   "execution_count": null,
   "metadata": {},
   "outputs": [],
   "source": [
    "## How to check whether s1 and s2 are not the same lengths?\n",
    "len(s1) != len(s2)"
   ]
  },
  {
   "cell_type": "markdown",
   "metadata": {},
   "source": [
    "### Indexing\n",
    "\n",
    "Likewise most of the programming languages, _Python_ is zero-based. It means that unlike _R_ you start indexes in divisible elements from 0."
   ]
  },
  {
   "cell_type": "code",
   "execution_count": null,
   "metadata": {},
   "outputs": [],
   "source": [
    "## For example to access the first element of the string 'abc'\n",
    "'abc'[0]"
   ]
  },
  {
   "cell_type": "code",
   "execution_count": null,
   "metadata": {},
   "outputs": [],
   "source": [
    "## And what happens if we make a mistake with the index?\n",
    "'abc'[3]"
   ]
  },
  {
   "cell_type": "markdown",
   "metadata": {},
   "source": [
    "The very useful property of _Python_ is negative indexing. It allows for accessing the last element of an object without knowing its length."
   ]
  },
  {
   "cell_type": "code",
   "execution_count": null,
   "metadata": {},
   "outputs": [],
   "source": [
    "## To access the last element we simply use negative 1\n",
    "'abc'[-1]"
   ]
  },
  {
   "cell_type": "markdown",
   "metadata": {},
   "source": [
    "### Slicing\n",
    "\n",
    "Slicing allows for extracting substrings of arbitrary length. It has a very similar syntax to `R` because if `s` is a string the expression `s[start:end]` denotes a string that starts at index `start` and ends at index `end-1`. That is because otherwise `s[0:len(s)]` would not work."
   ]
  },
  {
   "cell_type": "code",
   "execution_count": null,
   "metadata": {},
   "outputs": [],
   "source": [
    "## Let's define a string\n",
    "s1 = \"Bob's your uncle\""
   ]
  },
  {
   "cell_type": "code",
   "execution_count": null,
   "metadata": {},
   "outputs": [],
   "source": [
    "## To get the first three letters\n",
    "s1[:3]"
   ]
  },
  {
   "cell_type": "code",
   "execution_count": null,
   "metadata": {},
   "outputs": [],
   "source": [
    "## To get all of it\n",
    "s1[:]"
   ]
  },
  {
   "cell_type": "code",
   "execution_count": null,
   "metadata": {},
   "outputs": [],
   "source": [
    "## To get only every second character\n",
    "s1[::2]"
   ]
  },
  {
   "cell_type": "code",
   "execution_count": null,
   "metadata": {},
   "outputs": [],
   "source": [
    "## To get it in reversed order\n",
    "s1[::-1]"
   ]
  },
  {
   "attachments": {},
   "cell_type": "markdown",
   "metadata": {},
   "source": [
    "## Branching (if-statements)\n",
    "\n",
    "So far we were mostly using _Python_ and foremost thinking about it as a simple calculator that executes chunks of code one after another in the order in which they appear. This is a bit boring way of writing code and also we can not tackle most of the things using this approach.\n",
    "\n",
    "\n",
    "Branching programs are more interesting. That is the programs in which flow of control is more complicated than simply executing one line after another. The most simple branching statement is a conditional (`if-statement`). As it is shown below it has three parts:\n",
    "\n",
    "* A test, i.e. expression that evaluates to either `True` or `False`\n",
    "* A block of code that is executed if the test evaluates to `True`\n",
    "* An optional block of code that is run if the test evaluates to `False`\n",
    "\n",
    "![Flowchart for conditional statements](png/branching.png)"
   ]
  },
  {
   "cell_type": "code",
   "execution_count": null,
   "metadata": {},
   "outputs": [],
   "source": [
    "## The simplest example of if-statement in Python\n",
    "x = 5\n",
    "if x%2 == 0:\n",
    "        print('Even')\n",
    "else:\n",
    "        print('Odd')"
   ]
  },
  {
   "cell_type": "markdown",
   "metadata": {},
   "source": [
    "So what exactly happened? Actually, nothing really odd. Expression `x%2 == 0` is `True` only if the remainder of `x` divided by `2` is `0`, and `False` otherwise. This is quite simple. However, the important is how we mark a block of code in _Python_. Unlike _R_ or many other languages we do not use brackets of any sort but indentation. It is important to be consistent in this regard because although _Python_ should accept both `tab` and `spaces` sometimes it might return an error. A good practice is to use **4 spaces** for indentation.\n",
    "\n",
    "Let's now try something more complicated so-called nested conditional statements."
   ]
  },
  {
   "cell_type": "code",
   "execution_count": null,
   "metadata": {},
   "outputs": [],
   "source": [
    "## Let's check it\n",
    "if x%2 == 0:\n",
    "        if x%3 == 0:\n",
    "                print('Divisible by 2 and 3')\n",
    "        else:\n",
    "                print('Divisible by 2 and not by 3')\n",
    "elif x%3 == 0:\n",
    "        print('Divisible by 3 and not by 2')\n",
    "        "
   ]
  },
  {
   "cell_type": "markdown",
   "metadata": {},
   "source": [
    "Are we surprised? Why didn't we get any results? That is because `x` equals `5` therefore it is neither divisible by 2 nor 3."
   ]
  },
  {
   "cell_type": "code",
   "execution_count": null,
   "metadata": {},
   "outputs": [],
   "source": [
    "## Copy the previous chunk here and try to fix it.\n",
    "## It should return something when x is neither\n",
    "## divisible by 3 nor 2."
   ]
  },
  {
   "cell_type": "markdown",
   "metadata": {},
   "source": [
    "That was all very good and you will very often use nested conditional statements. However, sometimes it is enough to use the power of logic and compound Boolean statements instead, for example `x > 0 and y > 0`."
   ]
  },
  {
   "cell_type": "code",
   "execution_count": null,
   "metadata": {},
   "outputs": [],
   "source": [
    "## Let's see how it works.\n",
    "y = -1\n",
    "if x > 0 and y < 0:\n",
    "        print('x is positive while y is negative')"
   ]
  },
  {
   "cell_type": "markdown",
   "metadata": {},
   "source": [
    "Although _Python_ is smart enough to understand that what we actually check is the conjunction of `x > 0` and `y < 0` without brackets often it is safer to use them anyway.\n",
    "\n",
    "```python\n",
    "if (x > 0) and (y < 0):\n",
    "\tprint('x is positive while y is negative')\n",
    "```\n",
    "Now let's see how we can use the power of logic in _Python_. \n",
    "\n",
    "Write an `if-statement` which will return `Hurray` when a number is either divisible by both 2 and 3 or neither of them. When it is divisible only by 2 or only by 3 it should return `Ehhh`."
   ]
  },
  {
   "cell_type": "code",
   "execution_count": null,
   "metadata": {},
   "outputs": [],
   "source": [
    "## Try it here"
   ]
  },
  {
   "attachments": {},
   "cell_type": "markdown",
   "metadata": {},
   "source": [
    "## While loops\n",
    "\n",
    "Although branching is pretty cool most computational tasks can not be accomplished using it. For example, imagine that you want to find the square root of a number using the algorithm we discussed last time.\n",
    "\n",
    "1. Start with a guess, $g$.\n",
    "2. If $g\\times g$ is close enough to $x$, stop and say that $g$ is the answer.\n",
    "3. Otherwise create a new guess by averaging $g$ and $\\frac{x}{g}$, i.e. $\\frac{(g + \\frac{x}{g})}{2}$.\n",
    "4. Using this new guess, which we again call $g$, repeat the process until $g \\times g$ is close enough to $x$.\n",
    "\n",
    "If wanted to use just `if-statements` we would soon realize that for every single number we would have to write a seperate program. It would look something like that:\n",
    "\n",
    "```python\n",
    "epsilon = .01\n",
    "number = 25\n",
    "g = 0\n",
    "## First test\n",
    "if abs((g*g) - number) > .01:\n",
    "\tg = (g + number/g) / 2\n",
    "else:\n",
    "\tprint('The answer is' g)\n",
    "## Second test\n",
    "if abs((g*g) - number) > .01:\n",
    "\tg = (g + number/g) / 2\n",
    "else:\n",
    "\tprint('The answer is' g)\n",
    "## Third test\n",
    "if abs((g*g) - number) > .01:\n",
    "\tg = (g + number/g) / 2\n",
    "else:\n",
    "\tprint('The answer is' g)\n",
    "## Fourth test\n",
    "if abs((g*g) - number) > .01:\n",
    "\tg = (g + number/g) / 2\n",
    "else:\n",
    "\tprint('The answer is' g)\n",
    "## And so on\n",
    "```\n",
    "If only there was a way to avoid repeating the same piece of code over and over again and writing the program for every single use case. Fortunately, there is. In programming languages, it is called iteration and the most generic loop mechanism is a `while-loop`. In general, it has the following structure. \n",
    "\n",
    "![While-loop scheme](png/while.png)"
   ]
  },
  {
   "cell_type": "code",
   "execution_count": null,
   "metadata": {},
   "outputs": [],
   "source": [
    "## Let's test the square root algorithm with a while loop.\n",
    "number = int(input('The square root of which number should I find? ')) ## input function asks from the keyboard input and returns string and int converts an object to an integer\n",
    "epsilon = .01\n",
    "g = 1\n",
    "while abs(number - (g*g)) > epsilon: ## abs returns absolute value of the argument\n",
    "        g = (g + number/g) / 2\n",
    "        print(g) ## just to see what are the guesses\n",
    "print('The answer is', round(g,2)) ## a bit of a cheat cause we round the result to two decimal points\n",
    "        "
   ]
  },
  {
   "attachments": {},
   "cell_type": "markdown",
   "metadata": {},
   "source": [
    "The example above somehow works but it is not the best possible solution to the square root problem. We will discuss better solutions next week. However, let's now focus on an easier problem -- squaring an integer (again it will not be the best solution but it will be good enough for now). We will use the repetitive addition method. It is a very simple method that at first might look strange but if you realize that multiplication is just fast addition everything should be clear. Let's see how it works."
   ]
  },
  {
   "cell_type": "code",
   "execution_count": null,
   "metadata": {},
   "outputs": [],
   "source": [
    "## Squaring an integer by repetitve adding\n",
    "x = 3\n",
    "ans = 0\n",
    "num_iterations = 0\n",
    "while (num_iterations < x):\n",
    "        ans = ans + x\n",
    "        num_iterations += 1\n",
    "print(x, '*', x, '=', ans)"
   ]
  },
  {
   "cell_type": "markdown",
   "metadata": {},
   "source": [
    "Hurray, it somehow works. Let's see what happened under the hood by hand simulating each iteration.\n",
    "\n",
    "|Test # | x | ans | num_iterations|\n",
    "|-------|---|-----|---------------|\n",
    "|   1   | 3 |  0  | 0\n",
    "|   2   | 3 |  3  | 1\n",
    "|   3   | 3 |  6  | 2\n",
    "|   4   | 3 |  9  | 3\n",
    "\n",
    "When the test is reached for the fourth time, it is evaluated as `False` and the loop breaks. The flow of control proceeds to `print` that follows the `while-loop`. Let's look at the code below and try to break it."
   ]
  },
  {
   "cell_type": "code",
   "execution_count": null,
   "metadata": {},
   "outputs": [],
   "source": [
    "## Squaring an integer by repetitve adding\n",
    "x = int(input('Dear Sir or Madam, what number would you like to take to the power 2? '))\n",
    "ans = 0\n",
    "num_iterations = 0\n",
    "while (num_iterations < x):\n",
    "        ans = ans + x\n",
    "        num_iterations += 1\n",
    "print(x, 'to power 2 equals', ans)"
   ]
  },
  {
   "cell_type": "markdown",
   "metadata": {},
   "source": [
    "Try to fix it.\n",
    "\n",
    "Let's think about why it does not work for negative values. It does not because `num_iterations < x` is always `False`. That is because `num_iterations = 0` and `x` is negative, therefore, always smaller. So the first fix would be to take absolute values instead of just `x`. The code should look something like that:\n",
    "\n",
    "```python\n",
    "x = -2\n",
    "ans = 0\n",
    "num_iterations = 0\n",
    "while num_iterations < abs(x):\n",
    "\tans = ans + x\n",
    "\tnum_iteartions += 1\n",
    "print(x, 'to power 2 equals', ans)\n",
    "```\n",
    "But what we would get is `-4`. Probably, I don't need to convince you but it is wrong. Why does our code produce again the wrong result? That is because although in the test we have the absolute value of `x` we add to `ans` negative values. If we change it to absolute value it will work. Try the code below."
   ]
  },
  {
   "cell_type": "code",
   "execution_count": null,
   "metadata": {},
   "outputs": [],
   "source": [
    "## Squaring an integer by repetitive adding that actually works\n",
    "x = -2\n",
    "ans = 0\n",
    "num_iterations = 0\n",
    "while num_iterations < abs(x):\n",
    "        ans = ans + abs(x)\n",
    "        num_iterations += 1\n",
    "print(x, 'to power 2 equals', ans)"
   ]
  },
  {
   "cell_type": "markdown",
   "metadata": {},
   "source": [
    "## For-loop\n",
    "\n",
    "You must have heard of a `for-loop` before. But not necessarily you know that it is a kind of a `while-loop`. In general, it allows iterating over a sequence and for each element executes a code block. In _Python_ we have two ways of doing it which under the hood are very similar but at the first glance, they look different. Let's start with something which is very similar to a `for-loop` in _R_.\n",
    "\n",
    "```python\n",
    "for i in range(10):\n",
    "\tprint(i)\n",
    "```\n",
    "As you would probably imagine the chunk of code above would simply take a number from `0` to `9` and print it. `range()` function simply construct an object that returns numbers smaller than its argument in the ascending order. We will have a look at its help page in a moment. For now, let's stick to this definition."
   ]
  },
  {
   "cell_type": "code",
   "execution_count": null,
   "metadata": {},
   "outputs": [],
   "source": [
    "## Example of a for-loop\n",
    "for i in range(10):\n",
    "        print(i)"
   ]
  },
  {
   "cell_type": "markdown",
   "metadata": {},
   "source": [
    "Let's now examine the `range()` function. In _Python_ we can easily access documentation of any build-in function by simply executing the function `help()`. It takes as an argument the name of the function in question."
   ]
  },
  {
   "cell_type": "code",
   "execution_count": null,
   "metadata": {},
   "outputs": [],
   "source": [
    "help(range)"
   ]
  },
  {
   "cell_type": "markdown",
   "metadata": {},
   "source": [
    "Using the `range()` function `for-loops` work very similarly as in _R_, right? So let's try to print every second letter of the string `Bob's your uncle` in reverse order."
   ]
  },
  {
   "cell_type": "code",
   "execution_count": null,
   "metadata": {},
   "outputs": [],
   "source": [
    "## Let's print every second letter of the proverb in reversed order\n",
    "## Hint use the len() function and indexing\n"
   ]
  },
  {
   "cell_type": "markdown",
   "metadata": {},
   "source": [
    "[Explanation of the solution]\n",
    "\n",
    "The printing part of the solution is probably straightforward. However, the arguments of the `range()` function might be a bit confusing. Let's unpack them. \n",
    "\n",
    "* `start` -- the first argument of the `range()` function is `start`. We actually would like `start` to be the last index of the string because we want to print the last indexes first. Therefore, we set it to the length of the string minus one because the _Python_ has zero-based indexing. If we had just the length of the string we would get the `Out of range Error`. \n",
    "* `stop` -- the second argument is `stop`. We have minus -1 because the `range()` function does not include the value of the `stop` argument and we would like to have `0` included. \n",
    "* `step` -- the last argument `step` is just indicating that we would like to have a count down with the step equal to `2`."
   ]
  },
  {
   "cell_type": "markdown",
   "metadata": {},
   "source": [
    "However, in _Python_ there is also a way to iterate directly through elements of a divisible object. If we were given the same task as above we could write a `for-loop` without using the `range()` function. We can iterate directly through elements of the string."
   ]
  },
  {
   "cell_type": "code",
   "execution_count": null,
   "metadata": {},
   "outputs": [],
   "source": [
    "## Iteration over elements of an object\n",
    "proverb = \"Funny's your aunt\"\n",
    "for chr in proverb:\n",
    "        print(chr)"
   ]
  },
  {
   "cell_type": "markdown",
   "metadata": {},
   "source": [
    "Let's now try to see a very useful application of this method. Try to print only vowels (a, e, i, o, u) from the proverb `Funny's your aunt`."
   ]
  },
  {
   "cell_type": "code",
   "execution_count": null,
   "metadata": {},
   "outputs": [],
   "source": [
    "## Let's print only vowels of the proverb\n",
    "proverb = \"Funny's your aunt\"\n",
    "for chr in proverb:\n",
    "        if chr == 'a' or chr == 'e' or chr == 'i' or chr == 'o' or chr == 'u':\n",
    "                print(chr)\n"
   ]
  }
 ],
 "metadata": {
  "interpreter": {
   "hash": "bc8a0b2585560af3f1d798452673f163e266b8b1719efa57a26b24d73c90742c"
  },
  "kernelspec": {
   "display_name": "Python 3.9.7 ('ppss')",
   "language": "python",
   "name": "python3"
  },
  "language_info": {
   "codemirror_mode": {
    "name": "ipython",
    "version": 3
   },
   "file_extension": ".py",
   "mimetype": "text/x-python",
   "name": "python",
   "nbconvert_exporter": "python",
   "pygments_lexer": "ipython3",
   "version": "3.10.7"
  },
  "orig_nbformat": 4
 },
 "nbformat": 4,
 "nbformat_minor": 2
}
