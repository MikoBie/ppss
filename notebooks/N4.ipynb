{
 "cells": [
  {
   "cell_type": "markdown",
   "metadata": {},
   "source": [
    "## Functions\n",
    "\n",
    "So far, we talked about primitive types, strings, assignments, input/output, comparisons and looping in _Python_. If we lived 70 years ago we would have more than enough to break the Enigma code. If only our name was Turing... But the fact something could be done or have been done does not mean we have to do it this way. Because while any computation can, in principle, be implemented using only these mechanisms, doing so is widely impractical.\n",
    "\n",
    "The small porgramms we wrote so far were good but inpractical in the sense that every time we wanted to compute square root we had to write lines of code. Imagine that we wanted to add to one another square root and cube root of a number. We would have to write a code similar to the one below.\n",
    "\n",
    "\n",
    "\n"
   ]
  },
  {
   "cell_type": "code",
   "execution_count": 5,
   "metadata": {},
   "outputs": [
    {
     "name": "stdout",
     "output_type": "stream",
     "text": [
      "Sum of square root of 4.0 and cube root of -0.027 is close to 1.6875.\n"
     ]
    }
   ],
   "source": [
    "x = float(input('Can I have a number you want to me to find a square root of '))\n",
    "y = float(input('Can I have a number you want me to find a cube root? '))\n",
    "epsilon = .01\n",
    "\n",
    "if x < 0:\n",
    "    print(f'Square root of {x} does not exist')\n",
    "else:\n",
    "    low = 0\n",
    "    high = max(1, x)\n",
    "    ans = (high + low)/2\n",
    "    while abs(ans ** 2 - x) >= epsilon:\n",
    "        if ans ** 2 < x:\n",
    "            low = ans\n",
    "        else:\n",
    "            high = ans\n",
    "        ans = (high + low)/2\n",
    "\n",
    "x_root = ans\n",
    "if y < 0:\n",
    "    is_pos = False\n",
    "    y = -y\n",
    "else:\n",
    "    is_pos = True\n",
    "\n",
    "low = 0\n",
    "high = max(1,y)\n",
    "ans = (high + low)/2\n",
    "while abs(ans ** 3 - y) >= epsilon:\n",
    "    if ans ** 3 < y:\n",
    "        low = ans\n",
    "    else:\n",
    "        high = ans\n",
    "    ans = (high + low)/2\n",
    "if is_pos:\n",
    "    y_root = ans\n",
    "else:\n",
    "    y_root = -ans\n",
    "    y = -y\n",
    "    \n",
    "print(f'Sum of square root of {x} and cube root of {y} is close to {x_root + y_root}.')\n",
    "    "
   ]
  },
  {
   "cell_type": "markdown",
   "metadata": {},
   "source": [
    "As you probably realise this is a very mundane way of dealing with this problem. We repeat more or less the same code twice. Fortunetly in _Python_ and in programming languages in general there is a way to generalize and reuse the same code -- **functions**. We have already used some functions, for example `max()`, `range()`, and `mean()`.\n",
    "\n",
    "In general the idea of functions in programming languages is very similar to the one you know from maths in highschool. They just transform the the set of objects (arguments) into some other set of objects (output) according to well-defined rule. In other words, they assign to each value of argument some other value, for example:\n",
    "\n",
    "$$f(x) = 2x + 7$$\n",
    "\n",
    "This leads us to function definition in _Python_ that looks as follows:"
   ]
  },
  {
   "cell_type": "code",
   "execution_count": 1,
   "metadata": {},
   "outputs": [
    {
     "data": {
      "text/plain": [
       "11"
      ]
     },
     "execution_count": 1,
     "metadata": {},
     "output_type": "execute_result"
    }
   ],
   "source": [
    "## Define f(x) = 2x + 7 as a Python function\n",
    "def f(x):\n",
    "    return 2*x + 7\n",
    "\n",
    "f(2)"
   ]
  },
  {
   "cell_type": "markdown",
   "metadata": {},
   "source": [
    "This works like [Magic](https://en.wikipedia.org/wiki/Magic_Johnson). However, let's unpack line by line how we define a function in _Python_.\n",
    "\n",
    "* In the first line we just define a function nammed `f` that has one formal parameter `x`. \n",
    "* Second line is the body of function. We specify here what it is meant to do and what it is meant to `return` (it can be only use in the body of a function).\n",
    "\n",
    "Ok, so what happens when we execute the function call (function invocation)? \n",
    "\n",
    "1. `2` (actual parameter) is bound to `x` (formal parameter).\n",
    "2. $2\\times 2 + 7$ is evaluated. \n",
    "3. The result is `returned`.\n",
    "\n",
    "However, there are a couple of things to keep in mind when writing a function definition.\n",
    "\n",
    "1. If the function does not have `return` statement it will return nothing -- more accuratly a `None` type object."
   ]
  },
  {
   "cell_type": "code",
   "execution_count": 4,
   "metadata": {},
   "outputs": [
    {
     "name": "stdout",
     "output_type": "stream",
     "text": [
      "None\n"
     ]
    },
    {
     "data": {
      "text/plain": [
       "NoneType"
      ]
     },
     "execution_count": 4,
     "metadata": {},
     "output_type": "execute_result"
    }
   ],
   "source": [
    "## A function without return statement\n",
    "def f(x):\n",
    "    x * 2 + 7\n",
    "    \n",
    "## It returns nothing, right? \n",
    "print(f(2))\n",
    "\n",
    "## Not really. It returns a NoneType object\n",
    "type(f(2))"
   ]
  },
  {
   "cell_type": "markdown",
   "metadata": {},
   "source": [
    "2. In a way `return` is similar to `break` because the code of a function is executed until a return statement is encountered"
   ]
  },
  {
   "cell_type": "code",
   "execution_count": 7,
   "metadata": {},
   "outputs": [
    {
     "data": {
      "text/plain": [
       "11"
      ]
     },
     "execution_count": 7,
     "metadata": {},
     "output_type": "execute_result"
    }
   ],
   "source": [
    "## Let's define a function with something after return statement\n",
    "def f(x):\n",
    "    results = x * 2 + 7\n",
    "    return results\n",
    "    results += 1\n",
    "\n",
    "## The code below the return statement does not affect what function returns   \n",
    "f(2)"
   ]
  },
  {
   "cell_type": "markdown",
   "metadata": {},
   "source": [
    "So let's define a simple function that will allow to find any root. It will be a bit more generic solution than the one which you had in your homework assignment but still similar."
   ]
  },
  {
   "cell_type": "code",
   "execution_count": 45,
   "metadata": {},
   "outputs": [],
   "source": [
    "def find_root(x, power, epsilon):\n",
    "    ## Find interval containing the answer\n",
    "    if x < 0 and power % 2 == 0:\n",
    "        return 'Negative numbers do not have even-powered roots. Go back to school!'\n",
    "    low = min(-1, x)\n",
    "    high = max(1, x)\n",
    "    ans = (high + low) / 2\n",
    "    ## Use bisection search\n",
    "    while abs(ans ** power - x) >= epsilon:\n",
    "        if ans ** power < x:\n",
    "            low = ans\n",
    "        else:\n",
    "            high = ans\n",
    "        ans = (high + low) / 2\n",
    "    return ans\n",
    " "
   ]
  },
  {
   "cell_type": "markdown",
   "metadata": {},
   "source": [
    "Ok, this works pretty well. At least it seems so. However, checking whether it works for all cases is a bit of a tedious task. That is why a good practice is to write a function that tests our custom function. For example,"
   ]
  },
  {
   "cell_type": "code",
   "execution_count": 17,
   "metadata": {},
   "outputs": [
    {
     "name": "stdout",
     "output_type": "stream",
     "text": [
      "x = 0.25, power = 1, epsilon = 0.1: Ok\n",
      "x = 0.25, power = 1, epsilon = 0.001: Ok\n",
      "x = 0.25, power = 1, epsilon = 1: Ok\n",
      "x = 0.25, power = 2, epsilon = 0.1: Ok\n",
      "x = 0.25, power = 2, epsilon = 0.001: Ok\n",
      "x = 0.25, power = 2, epsilon = 1: Ok\n",
      "x = 0.25, power = 3, epsilon = 0.1: Ok\n",
      "x = 0.25, power = 3, epsilon = 0.001: Ok\n",
      "x = 0.25, power = 3, epsilon = 1: Ok\n",
      "x = 8, power = 1, epsilon = 0.1: Ok\n",
      "x = 8, power = 1, epsilon = 0.001: Ok\n",
      "x = 8, power = 1, epsilon = 1: Ok\n",
      "x = 8, power = 2, epsilon = 0.1: Ok\n",
      "x = 8, power = 2, epsilon = 0.001: Ok\n",
      "x = 8, power = 2, epsilon = 1: Ok\n",
      "x = 8, power = 3, epsilon = 0.1: Ok\n",
      "x = 8, power = 3, epsilon = 0.001: Ok\n",
      "x = 8, power = 3, epsilon = 1: Ok\n",
      "x = -8, power = 1, epsilon = 0.1: Ok\n",
      "x = -8, power = 1, epsilon = 0.001: Ok\n",
      "x = -8, power = 1, epsilon = 1: Ok\n",
      "x = -8, power = 2, epsilon = 0.1: No root exists\n",
      "x = -8, power = 2, epsilon = 0.001: No root exists\n",
      "x = -8, power = 2, epsilon = 1: No root exists\n",
      "x = -8, power = 3, epsilon = 0.1: Ok\n",
      "x = -8, power = 3, epsilon = 0.001: Ok\n",
      "x = -8, power = 3, epsilon = 1: Ok\n"
     ]
    }
   ],
   "source": [
    "## A function to check different x_values, powers and epsilons\n",
    "def test_find_root(x_vals, powers, epsilons):\n",
    "    for x in x_vals:\n",
    "        for p in powers:\n",
    "            for e in epsilons:\n",
    "                result = find_root(x, p, e)\n",
    "                if type(result) == str:\n",
    "                    val = 'No root exists'\n",
    "                else:\n",
    "                    val = 'Ok'\n",
    "                    if abs(result ** p - x) > e:\n",
    "                        val = 'Bad'\n",
    "                print(f'x = {x}, power = {p}, epsilon = {e}: {val}')\n",
    "                \n",
    "## Let's for now ingore that this is a data structure\n",
    "## that we haven't talked about. Let's just say\n",
    "## you iterate over it like over a string\n",
    "x_vals = (0.25, 8, -8)\n",
    "powers = (1, 2, 3)\n",
    "epsilons = (.1, .001, 1)\n",
    "\n",
    "## Let's now call our test function\n",
    "test_find_root(x_vals, powers, epsilons)\t\n",
    "                    "
   ]
  },
  {
   "cell_type": "markdown",
   "metadata": {},
   "source": [
    "Is there anything strange in our test function? We don't have `return` statement here but our function still prints the results. Yes, indeed, it prints the results but what if we wanted to save it as a variable? Let's try it.\n",
    "\n"
   ]
  },
  {
   "cell_type": "code",
   "execution_count": 20,
   "metadata": {},
   "outputs": [
    {
     "name": "stdout",
     "output_type": "stream",
     "text": [
      "x = 0.25, power = 1, epsilon = 0.1: Ok\n",
      "x = 0.25, power = 1, epsilon = 0.001: Ok\n",
      "x = 0.25, power = 1, epsilon = 1: Ok\n",
      "x = 0.25, power = 2, epsilon = 0.1: Ok\n",
      "x = 0.25, power = 2, epsilon = 0.001: Ok\n",
      "x = 0.25, power = 2, epsilon = 1: Ok\n",
      "x = 0.25, power = 3, epsilon = 0.1: Ok\n",
      "x = 0.25, power = 3, epsilon = 0.001: Ok\n",
      "x = 0.25, power = 3, epsilon = 1: Ok\n",
      "x = 8, power = 1, epsilon = 0.1: Ok\n",
      "x = 8, power = 1, epsilon = 0.001: Ok\n",
      "x = 8, power = 1, epsilon = 1: Ok\n",
      "x = 8, power = 2, epsilon = 0.1: Ok\n",
      "x = 8, power = 2, epsilon = 0.001: Ok\n",
      "x = 8, power = 2, epsilon = 1: Ok\n",
      "x = 8, power = 3, epsilon = 0.1: Ok\n",
      "x = 8, power = 3, epsilon = 0.001: Ok\n",
      "x = 8, power = 3, epsilon = 1: Ok\n",
      "x = -8, power = 1, epsilon = 0.1: Ok\n",
      "x = -8, power = 1, epsilon = 0.001: Ok\n",
      "x = -8, power = 1, epsilon = 1: Ok\n",
      "x = -8, power = 2, epsilon = 0.1: No root exists\n",
      "x = -8, power = 2, epsilon = 0.001: No root exists\n",
      "x = -8, power = 2, epsilon = 1: No root exists\n",
      "x = -8, power = 3, epsilon = 0.1: Ok\n",
      "x = -8, power = 3, epsilon = 0.001: Ok\n",
      "x = -8, power = 3, epsilon = 1: Ok\n"
     ]
    }
   ],
   "source": [
    "## We just try to assigne the value returned by our function\n",
    "test_results = test_find_root(x_vals, powers, epsilons)"
   ]
  },
  {
   "cell_type": "code",
   "execution_count": 21,
   "metadata": {},
   "outputs": [],
   "source": [
    "## Let's try to see the value of test_results\n",
    "test_results"
   ]
  },
  {
   "cell_type": "markdown",
   "metadata": {},
   "source": [
    "Are we surprised? We shouldn't be. `test_find_root()` does not return anything because it does not have any `return` statement. It only prints the results to the console so we can read them but can't do anything else to them. We will later learn how to either print results of for-loop to a file or to store it in some data structures.\n",
    "\n",
    "In general, writting test functions is a really good practice. The more progamms you wrote the more you learn that contrary to the intuition it really saves time. \n",
    "\n",
    "### Keyword Arguments and Defualt Values\n",
    "\n",
    "Let's now have a closer look at keyword arguments and defualt values of functions. So far, we bounded actual parameters with formal parameters by simply substiuing them. _Python_ similalry to _R_ takes the first formal parameter and bounds it to the first actual parameter, and so on. However, you can also just use keywords arguments using the names of the formal parameter. For example"
   ]
  },
  {
   "cell_type": "code",
   "execution_count": 25,
   "metadata": {},
   "outputs": [
    {
     "name": "stdout",
     "output_type": "stream",
     "text": [
      "Mikołaj Biesaga\n",
      "Mikołaj Biesaga\n",
      "Mikołaj Biesaga\n",
      "Biesaga, Mikołaj\n"
     ]
    }
   ],
   "source": [
    "## Let's define a simple function\n",
    "def print_name(first_name, last_name, reverse):\n",
    "    if reverse:\n",
    "        print(f'{last_name}, {first_name}')\n",
    "    else:\n",
    "        print(f'{first_name} {last_name}')\n",
    "\n",
    "## We can simply use only positional arguments\n",
    "print_name('Mikołaj', 'Biesaga', False)\n",
    "## We can use keywords arguments mixed with postional arguments\n",
    "## but only postional argument can't follow the keyword argument\n",
    "print_name('Mikołaj', 'Biesaga', reverse = False)\n",
    "print_name('Mikołaj', last_name = 'Biesaga', reverse = False)\n",
    "print_name(last_name = 'Biesaga', first_name = 'Mikołaj', reverse = True)\n"
   ]
  },
  {
   "cell_type": "markdown",
   "metadata": {},
   "source": [
    "When we write a function definition we can also set formal parameters to have a defualt values. For example"
   ]
  },
  {
   "cell_type": "code",
   "execution_count": 27,
   "metadata": {},
   "outputs": [
    {
     "name": "stdout",
     "output_type": "stream",
     "text": [
      "Mikołaj Biesga\n"
     ]
    }
   ],
   "source": [
    "## Let's define a simple function\n",
    "def print_name(first_name, last_name, reverse = False):\n",
    "    if reverse:\n",
    "        print(f'{last_name}, {first_name}')\n",
    "    else:\n",
    "        print(f'{first_name} {last_name}')\n",
    "\n",
    "print_name('Mikołaj', 'Biesga')"
   ]
  },
  {
   "cell_type": "markdown",
   "metadata": {},
   "source": [
    "Write a function `mult` that accepts either one or two integers as arguments. If called with two arguments, the functions prints the product of the two arguments. If called with one argument, it prints that argument."
   ]
  },
  {
   "cell_type": "code",
   "execution_count": 28,
   "metadata": {},
   "outputs": [],
   "source": [
    "## Your solution"
   ]
  },
  {
   "cell_type": "markdown",
   "metadata": {},
   "source": [
    "### Variable Number of Arguments\n",
    "Although we should plan the arguments of our function carefully sometimes we don't really know how many actual parameters it should take. Consider functions `min()` or `max()`. You might feed them with as many numbers you would like and they should return a single value (either the biggest or the smallest)"
   ]
  },
  {
   "cell_type": "code",
   "execution_count": 30,
   "metadata": {},
   "outputs": [
    {
     "data": {
      "text/plain": [
       "2"
      ]
     },
     "execution_count": 30,
     "metadata": {},
     "output_type": "execute_result"
    }
   ],
   "source": [
    "## For example\n",
    "min(2,34,5)"
   ]
  },
  {
   "cell_type": "code",
   "execution_count": 32,
   "metadata": {},
   "outputs": [
    {
     "data": {
      "text/plain": [
       "8"
      ]
     },
     "execution_count": 32,
     "metadata": {},
     "output_type": "execute_result"
    }
   ],
   "source": [
    "## or\n",
    "max(2,3,4,5,6,7,8)"
   ]
  },
  {
   "cell_type": "markdown",
   "metadata": {},
   "source": [
    "_Python_ makes it relatively easy to write a function that takes unknown number of arguments. However, they must be of the same type (which is in a way obvious). "
   ]
  },
  {
   "cell_type": "code",
   "execution_count": 33,
   "metadata": {},
   "outputs": [
    {
     "data": {
      "text/plain": [
       "3.5"
      ]
     },
     "execution_count": 33,
     "metadata": {},
     "output_type": "execute_result"
    }
   ],
   "source": [
    "## Let's define a mean function\n",
    "def mean(*args):\n",
    "    tot = 0\n",
    "    for a in args:\n",
    "        tot += a\n",
    "    return tot/len(args)\n",
    "\n",
    "mean(1,2,3,4,5,6)"
   ]
  },
  {
   "cell_type": "markdown",
   "metadata": {},
   "source": [
    "## Scoping\n",
    "Let's now look on so-called scoping. In other, words what happens when we have a variable defined in the body of the function (locally)"
   ]
  },
  {
   "cell_type": "code",
   "execution_count": 35,
   "metadata": {},
   "outputs": [
    {
     "name": "stdout",
     "output_type": "stream",
     "text": [
      "x = 4\n",
      "z = 4\n",
      "x = 3\n",
      "y = 2\n"
     ]
    }
   ],
   "source": [
    "def f(x):\n",
    "    y = 1\n",
    "    x = x + y\n",
    "    print('x =', x)\n",
    "    return x\n",
    "\n",
    "x = 3\n",
    "y = 2\n",
    "z = f(x)\n",
    "print(f'z = {z}')\n",
    "print(f'x = {x}')\n",
    "print(f'y = {y}')"
   ]
  },
  {
   "cell_type": "markdown",
   "metadata": {},
   "source": [
    "So what happened here? At the call of `f`, the formal parameter `x` is locally bound to the value of the actual parameter `x` in the context of the function body of `f`. Though the actual and formal parameters have the same name, they are not the same variable. Each function defines a new **name space**, also called a **scope**. The formal parameter `x` and the **local variable** `y` that are used in `f` exist only in the scope of the definition of `f` #WhatHappensInVegasStaysInVegas. The assignment statement `x = x + y` within the function body binds the local name `x` to the object `4`. The assignments in `f` have no effect on the bindings of the names `x` and `y` that exist outside the socpe of `f`\n",
    "\n",
    "At first it might sound confusing but with experience you will be able to see what are the local variable and global variable by just looking at the code. That is because the scope of a function is determined by the indentation. \n",
    "\n",
    "### Specification (Documentation)\n",
    "\n",
    "And last but not least let's talk about specifications of the functions. When you write a function it is usually because you want to reuse the code you already have (a good rule of thumb is that you should write a function if you are going to use the same code more than once however obviously there are excpetions). So you need to be able to remember what type of arguments the functions takes and what it actually does. You can try to note it down using comments but it is widely inpractical and usually a bit unclear (you probably noticed that with my comments). That is why in _Python_, the specification of a function is written using something called a `docstring`. As the name suggest it it is a special kind of a string that allows for writing a string in multiple lines. It is between triple qutation mark. More or less it looks like that"
   ]
  },
  {
   "cell_type": "code",
   "execution_count": 64,
   "metadata": {},
   "outputs": [],
   "source": [
    "def find_root_help(x, power, epsilon):\n",
    "    \"\"\"\n",
    "    Returns a float y such that y**power is whithin epsilon of x.\n",
    "    If such a float does not exist, it returns None.\n",
    "\n",
    "    Parameters:\n",
    "        x (float) : a decimal point integer\n",
    "        power (int) : a positive integer\n",
    "        epsilon (float) : a decimal point integer\n",
    "    \n",
    "    Returns:\n",
    "        ans : a float or None\n",
    "    \"\"\"\n",
    "    if x < 0 and power % 2 == 0:\n",
    "        return None\n",
    "    low = min(-1, x)\n",
    "    high = max(1, x)\n",
    "    ans = (low + high) / 2\n",
    "    while abs(ans ** power - x) >= epsilon:\n",
    "        if ans ** power < x:\n",
    "            low = ans\n",
    "        else:\n",
    "            high = ans\n",
    "        ans = (high + low) / 2\n",
    "    return ans\n",
    "    "
   ]
  },
  {
   "cell_type": "markdown",
   "metadata": {},
   "source": [
    "And why it is important to keep such convention? That is because it allows to later check it wiht the use of build-in function `help()`."
   ]
  },
  {
   "cell_type": "code",
   "execution_count": 47,
   "metadata": {},
   "outputs": [
    {
     "name": "stdout",
     "output_type": "stream",
     "text": [
      "Help on function find_root_help in module __main__:\n",
      "\n",
      "find_root_help(x, power, epsilon)\n",
      "    Returns a float y such that y**power is whithin epsilon of x.\n",
      "    If such a float does not exist, it returns None.\n",
      "    \n",
      "    Parameters:\n",
      "        x : a float\n",
      "        power : an integer\n",
      "        epsilon : a float\n",
      "    \n",
      "    Returns:\n",
      "        ans : a float or None\n",
      "\n"
     ]
    }
   ],
   "source": [
    "## Let's check the help with docstring\n",
    "help(find_root_help)"
   ]
  },
  {
   "cell_type": "code",
   "execution_count": 48,
   "metadata": {},
   "outputs": [
    {
     "name": "stdout",
     "output_type": "stream",
     "text": [
      "Help on function find_root in module __main__:\n",
      "\n",
      "find_root(x, power, epsilon)\n",
      "\n"
     ]
    }
   ],
   "source": [
    "## Let's see how help without docstring looks\n",
    "help(find_root)"
   ]
  },
  {
   "cell_type": "markdown",
   "metadata": {},
   "source": [
    "When writing a docstring you should take into consideration that it at least should consist of assumptions and guarantees. In other words, conditions that must be met by the user of your function and what it is going to return. Though, remember that you write the docstring for future-you not for yourself so it should be detailed enough that you understand what youe meant.\n",
    "\n",
    "Write a doc string for the following function."
   ]
  },
  {
   "cell_type": "code",
   "execution_count": 62,
   "metadata": {},
   "outputs": [],
   "source": [
    "def newton_robson(x, epsilon):\n",
    "    \"\"\"_summary_\n",
    "\n",
    "\tArgs:\n",
    "\t\tx (float): _description_\n",
    "\t\tepsilon (float): _description_\n",
    "\n",
    "\tReturns:\n",
    "\t\t_type_: _description_\n",
    "\t\"\"\"\n",
    "    guess = x/2\n",
    "    while abs(guess ** 2 - x) >= epsilon:\n",
    "        guess = guess - (((guess ** 2) - x)/(2 * guess))\n",
    "    return guess\n",
    "                         "
   ]
  }
 ],
 "metadata": {
  "interpreter": {
   "hash": "bc8a0b2585560af3f1d798452673f163e266b8b1719efa57a26b24d73c90742c"
  },
  "kernelspec": {
   "display_name": "Python 3.9.7 ('ppss')",
   "language": "python",
   "name": "python3"
  },
  "language_info": {
   "codemirror_mode": {
    "name": "ipython",
    "version": 3
   },
   "file_extension": ".py",
   "mimetype": "text/x-python",
   "name": "python",
   "nbconvert_exporter": "python",
   "pygments_lexer": "ipython3",
   "version": "3.9.7"
  },
  "orig_nbformat": 4
 },
 "nbformat": 4,
 "nbformat_minor": 2
}
