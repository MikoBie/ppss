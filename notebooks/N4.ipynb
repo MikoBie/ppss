{
 "cells": [
  {
   "cell_type": "markdown",
   "metadata": {},
   "source": [
    "## Functions\n",
    "\n",
    "So far, we talked about primitive types, strings, assignments, input/output, comparisons and looping in _Python_. If we lived 70 years ago we would have more than enough to break the Enigma code. If only our name was Turing... But the fact something could be done or have been done does not mean we have to do it this way. Because while any computation can, in principle, be implemented using only these mechanisms, doing so is widely impractical.\n",
    "\n",
    "The small porgramms we wrote so far were good but inpractical in the sense that every time we wanted to compute square root we had to write lines of code. Imagine that we wanted to add to one another square root and cube root of a number. We would have to write a code similar to the one below.\n",
    "\n",
    "\n",
    "\n"
   ]
  },
  {
   "cell_type": "code",
   "execution_count": 5,
   "metadata": {},
   "outputs": [
    {
     "name": "stdout",
     "output_type": "stream",
     "text": [
      "Sum of square root of 4.0 and cube root of -0.027 is close to 1.6875.\n"
     ]
    }
   ],
   "source": [
    "x = float(input('Can I have a number you want to me to find a square root of '))\n",
    "y = float(input('Can I have a number you want me to find a cube root? '))\n",
    "epsilon = .01\n",
    "\n",
    "if x < 0:\n",
    "    print(f'Square root of {x} does not exist')\n",
    "else:\n",
    "    low = 0\n",
    "    high = max(1, x)\n",
    "    ans = (high + low)/2\n",
    "    while abs(ans ** 2 - x) >= epsilon:\n",
    "        if ans ** 2 < x:\n",
    "            low = ans\n",
    "        else:\n",
    "            high = ans\n",
    "        ans = (high + low)/2\n",
    "\n",
    "x_root = ans\n",
    "if y < 0:\n",
    "    is_pos = False\n",
    "    y = -y\n",
    "else:\n",
    "    is_pos = True\n",
    "\n",
    "low = 0\n",
    "high = max(1,y)\n",
    "ans = (high + low)/2\n",
    "while abs(ans ** 3 - y) >= epsilon:\n",
    "    if ans ** 3 < y:\n",
    "        low = ans\n",
    "    else:\n",
    "        high = ans\n",
    "    ans = (high + low)/2\n",
    "if is_pos:\n",
    "    y_root = ans\n",
    "else:\n",
    "    y_root = -ans\n",
    "    y = -y\n",
    "    \n",
    "print(f'Sum of square root of {x} and cube root of {y} is close to {x_root + y_root}.')\n",
    "    "
   ]
  },
  {
   "cell_type": "markdown",
   "metadata": {},
   "source": [
    "As you probably realise this is a very mundane way of dealing with this problem. We repeat more or less the same code twice. Fortunetly in _Python_ and in programming languages in general there is a way to generalize and reuse the same code -- **functions**. We have already used some functions, for example `max()`, `range()`, and `mean()`.\n",
    "\n",
    "In general the idea of functions in programming languages is very similar to the one you know from maths in highschool. They just transform the the set of objects (arguments) into some other set of objects (output) according to well-defined rule. In other words, they assign to each value of argument some other value, for example:\n",
    "\n",
    "$$f(x) = 2x + 7$$\n",
    "\n",
    "This leads us to function definition in _Python_ that looks as follows:"
   ]
  },
  {
   "cell_type": "code",
   "execution_count": 1,
   "metadata": {},
   "outputs": [
    {
     "data": {
      "text/plain": [
       "11"
      ]
     },
     "execution_count": 1,
     "metadata": {},
     "output_type": "execute_result"
    }
   ],
   "source": [
    "## Define f(x) = 2x + 7 as a Python function\n",
    "def f(x):\n",
    "    return 2*x + 7\n",
    "\n",
    "f(2)"
   ]
  },
  {
   "cell_type": "markdown",
   "metadata": {},
   "source": [
    "This works like [Magic](https://en.wikipedia.org/wiki/Magic_Johnson). However, let's unpack line by line how we define a function in _Python_.\n",
    "\n",
    "* In the first line we just define a function nammed `f` that has one formal parameter `x`. \n",
    "* Second line is the body of function. We specify here what it is meant to do and what it is meant to `return` (it can be only use in the body of a function).\n",
    "\n",
    "Ok, so what happens when we execute the function call (function invocation)? \n",
    "\n",
    "1. `2` (actual parameter) is bound to `x` (formal parameter).\n",
    "2. $2\\times 2 + 7$ is evaluated. \n",
    "3. The result is `returned`.\n",
    "\n",
    "However, there are a couple of things to keep in mind when writing a function definition.\n",
    "\n",
    "1. If the function does not have `return` statement it will return nothing -- more accuratly a `None`."
   ]
  },
  {
   "cell_type": "code",
   "execution_count": 4,
   "metadata": {},
   "outputs": [
    {
     "name": "stdout",
     "output_type": "stream",
     "text": [
      "None\n"
     ]
    },
    {
     "data": {
      "text/plain": [
       "NoneType"
      ]
     },
     "execution_count": 4,
     "metadata": {},
     "output_type": "execute_result"
    }
   ],
   "source": [
    "## A function without return statement\n",
    "def f(x):\n",
    "    x * 2 + 7\n",
    "    \n",
    "## It returns nothing, right? \n",
    "print(f(2))\n",
    "\n",
    "## Not really. It returns a NoneType object\n",
    "type(f(2))"
   ]
  },
  {
   "cell_type": "markdown",
   "metadata": {},
   "source": [
    "2. In a way `return` is similar to `break` because the code of a function is executed until a return statement is encountered"
   ]
  },
  {
   "cell_type": "code",
   "execution_count": 7,
   "metadata": {},
   "outputs": [
    {
     "data": {
      "text/plain": [
       "11"
      ]
     },
     "execution_count": 7,
     "metadata": {},
     "output_type": "execute_result"
    }
   ],
   "source": [
    "## Let's define a function with something after return statement\n",
    "def f(x):\n",
    "    results = x * 2 + 7\n",
    "    return results\n",
    "    results += 1\n",
    "\n",
    "## The code below the return statement does not affect what function returns   \n",
    "f(2)"
   ]
  },
  {
   "cell_type": "code",
   "execution_count": null,
   "metadata": {},
   "outputs": [],
   "source": []
  }
 ],
 "metadata": {
  "interpreter": {
   "hash": "bc8a0b2585560af3f1d798452673f163e266b8b1719efa57a26b24d73c90742c"
  },
  "kernelspec": {
   "display_name": "Python 3.9.7 ('ppss')",
   "language": "python",
   "name": "python3"
  },
  "language_info": {
   "codemirror_mode": {
    "name": "ipython",
    "version": 3
   },
   "file_extension": ".py",
   "mimetype": "text/x-python",
   "name": "python",
   "nbconvert_exporter": "python",
   "pygments_lexer": "ipython3",
   "version": "3.9.7"
  },
  "orig_nbformat": 4
 },
 "nbformat": 4,
 "nbformat_minor": 2
}
